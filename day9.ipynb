{
 "cells": [
  {
   "cell_type": "markdown",
   "metadata": {},
   "source": [
    "# Day 9: A Brief Look at Data Analysis\n",
    "\n",
    "---\n",
    "\n",
    "PDO is not a class on data, but being able to work with data is a fundamental part of model analysis.\n",
    "\n"
   ]
  },
  {
   "cell_type": "code",
   "execution_count": 15,
   "metadata": {},
   "outputs": [],
   "source": [
    "# Implements the DataFrame class; a dependency for Grama\n",
    "import pandas as pd\n",
    "# Implements the Model class; also has tools for DataFrames\n",
    "import grama as gr\n",
    "# Really slick plotting package\n",
    "import plotnine as pt\n",
    "\n",
    "# We'll talk about this soon....\n",
    "DF = gr.Intention()"
   ]
  },
  {
   "cell_type": "markdown",
   "metadata": {},
   "source": [
    "# Data pipelines\n",
    "\n",
    "---\n"
   ]
  },
  {
   "cell_type": "markdown",
   "metadata": {},
   "source": [
    "Let's take another look at the trajectory data from a few classes ago:"
   ]
  },
  {
   "cell_type": "code",
   "execution_count": 35,
   "metadata": {},
   "outputs": [
    {
     "data": {
      "text/html": [
       "<div>\n",
       "<style scoped>\n",
       "    .dataframe tbody tr th:only-of-type {\n",
       "        vertical-align: middle;\n",
       "    }\n",
       "\n",
       "    .dataframe tbody tr th {\n",
       "        vertical-align: top;\n",
       "    }\n",
       "\n",
       "    .dataframe thead th {\n",
       "        text-align: right;\n",
       "    }\n",
       "</style>\n",
       "<table border=\"1\" class=\"dataframe\">\n",
       "  <thead>\n",
       "    <tr style=\"text-align: right;\">\n",
       "      <th></th>\n",
       "      <th>t</th>\n",
       "      <th>x</th>\n",
       "      <th>y</th>\n",
       "    </tr>\n",
       "  </thead>\n",
       "  <tbody>\n",
       "    <tr>\n",
       "      <td>0</td>\n",
       "      <td>0.0</td>\n",
       "      <td>0.5</td>\n",
       "      <td>0.1</td>\n",
       "    </tr>\n",
       "    <tr>\n",
       "      <td>1</td>\n",
       "      <td>0.1</td>\n",
       "      <td>2.1</td>\n",
       "      <td>3.0</td>\n",
       "    </tr>\n",
       "    <tr>\n",
       "      <td>2</td>\n",
       "      <td>0.2</td>\n",
       "      <td>4.0</td>\n",
       "      <td>5.5</td>\n",
       "    </tr>\n",
       "    <tr>\n",
       "      <td>3</td>\n",
       "      <td>0.3</td>\n",
       "      <td>5.5</td>\n",
       "      <td>8.1</td>\n",
       "    </tr>\n",
       "    <tr>\n",
       "      <td>4</td>\n",
       "      <td>0.4</td>\n",
       "      <td>7.1</td>\n",
       "      <td>10.3</td>\n",
       "    </tr>\n",
       "  </tbody>\n",
       "</table>\n",
       "</div>"
      ],
      "text/plain": [
       "     t    x     y\n",
       "0  0.0  0.5   0.1\n",
       "1  0.1  2.1   3.0\n",
       "2  0.2  4.0   5.5\n",
       "3  0.3  5.5   8.1\n",
       "4  0.4  7.1  10.3"
      ]
     },
     "execution_count": 35,
     "metadata": {},
     "output_type": "execute_result"
    }
   ],
   "source": [
    "from grama.data import df_trajectory_full\n",
    "df_trajectory_full.head()"
   ]
  },
  {
   "cell_type": "markdown",
   "metadata": {},
   "source": [
    "Remember we talked about estimating parameter bounds for fitting a model? We could do that with some crude estimates:\n"
   ]
  },
  {
   "cell_type": "code",
   "execution_count": 36,
   "metadata": {},
   "outputs": [
    {
     "data": {
      "text/plain": [
       "16.0"
      ]
     },
     "execution_count": 36,
     "metadata": {},
     "output_type": "execute_result"
    }
   ],
   "source": [
    "dx = df_trajectory_full.x[1] - df_trajectory_full.x[0] \n",
    "dt = df_trajectory_full.t[1] - df_trajectory_full.t[0] \n",
    "\n",
    "u_est = dx / dt\n",
    "u_est\n"
   ]
  },
  {
   "cell_type": "markdown",
   "metadata": {},
   "source": [
    "But maybe we should try this for multiple values; could write a for loop:\n"
   ]
  },
  {
   "cell_type": "code",
   "execution_count": 39,
   "metadata": {},
   "outputs": [
    {
     "name": "stdout",
     "output_type": "stream",
     "text": [
      "16.0\n",
      "18.999999999999996\n",
      "15.000000000000004\n",
      "15.999999999999991\n",
      "22.000000000000014\n",
      "15.000000000000004\n",
      "13.99999999999999\n",
      "16.999999999999996\n",
      "19.000000000000007\n",
      "10.000000000000002\n",
      "8.999999999999979\n",
      "16.000000000000036\n",
      "11.999999999999982\n",
      "13.000000000000025\n",
      "9.999999999999991\n",
      "8.0\n",
      "8.999999999999998\n",
      "11.000000000000004\n",
      "8.999999999999998\n",
      "6.000000000000009\n",
      "6.999999999999987\n",
      "10.99999999999997\n",
      "5.000000000000018\n",
      "11.000000000000004\n",
      "0.0\n",
      "8.0\n",
      "5.999999999999973\n",
      "3.0000000000000533\n",
      "4.999999999999996\n",
      "7.9999999999999645\n",
      "2.999999999999969\n",
      "7.000000000000022\n",
      "4.0\n",
      "3.00000000000004\n",
      "6.999999999999951\n",
      "1.0000000000000133\n",
      "9.999999999999991\n",
      "4.0\n"
     ]
    },
    {
     "ename": "KeyError",
     "evalue": "39",
     "output_type": "error",
     "traceback": [
      "\u001b[0;31m---------------------------------------------------------------------------\u001b[0m",
      "\u001b[0;31mKeyError\u001b[0m                                  Traceback (most recent call last)",
      "\u001b[0;32m<ipython-input-39-39693e2d72d2>\u001b[0m in \u001b[0;36m<module>\u001b[0;34m\u001b[0m\n\u001b[1;32m      1\u001b[0m \u001b[0;32mfor\u001b[0m \u001b[0mi\u001b[0m \u001b[0;32min\u001b[0m \u001b[0mrange\u001b[0m\u001b[0;34m(\u001b[0m\u001b[0mdf_trajectory_full\u001b[0m\u001b[0;34m.\u001b[0m\u001b[0mshape\u001b[0m\u001b[0;34m[\u001b[0m\u001b[0;36m0\u001b[0m\u001b[0;34m]\u001b[0m\u001b[0;34m)\u001b[0m\u001b[0;34m:\u001b[0m\u001b[0;34m\u001b[0m\u001b[0;34m\u001b[0m\u001b[0m\n\u001b[0;32m----> 2\u001b[0;31m     \u001b[0mdx\u001b[0m \u001b[0;34m=\u001b[0m \u001b[0mdf_trajectory_full\u001b[0m\u001b[0;34m.\u001b[0m\u001b[0mx\u001b[0m\u001b[0;34m[\u001b[0m\u001b[0mi\u001b[0m\u001b[0;34m+\u001b[0m\u001b[0;36m1\u001b[0m\u001b[0;34m]\u001b[0m \u001b[0;34m-\u001b[0m \u001b[0mdf_trajectory_full\u001b[0m\u001b[0;34m.\u001b[0m\u001b[0mx\u001b[0m\u001b[0;34m[\u001b[0m\u001b[0mi\u001b[0m\u001b[0;34m]\u001b[0m\u001b[0;34m\u001b[0m\u001b[0;34m\u001b[0m\u001b[0m\n\u001b[0m\u001b[1;32m      3\u001b[0m     \u001b[0mdt\u001b[0m \u001b[0;34m=\u001b[0m \u001b[0mdf_trajectory_full\u001b[0m\u001b[0;34m.\u001b[0m\u001b[0mt\u001b[0m\u001b[0;34m[\u001b[0m\u001b[0mi\u001b[0m\u001b[0;34m+\u001b[0m\u001b[0;36m1\u001b[0m\u001b[0;34m]\u001b[0m \u001b[0;34m-\u001b[0m \u001b[0mdf_trajectory_full\u001b[0m\u001b[0;34m.\u001b[0m\u001b[0mt\u001b[0m\u001b[0;34m[\u001b[0m\u001b[0mi\u001b[0m\u001b[0;34m]\u001b[0m\u001b[0;34m\u001b[0m\u001b[0;34m\u001b[0m\u001b[0m\n\u001b[1;32m      4\u001b[0m \u001b[0;34m\u001b[0m\u001b[0m\n\u001b[1;32m      5\u001b[0m     \u001b[0mu_est\u001b[0m \u001b[0;34m=\u001b[0m \u001b[0mdx\u001b[0m \u001b[0;34m/\u001b[0m \u001b[0mdt\u001b[0m\u001b[0;34m\u001b[0m\u001b[0;34m\u001b[0m\u001b[0m\n",
      "\u001b[0;32m~/opt/anaconda3/lib/python3.7/site-packages/pandas/core/series.py\u001b[0m in \u001b[0;36m__getitem__\u001b[0;34m(self, key)\u001b[0m\n\u001b[1;32m   1066\u001b[0m         \u001b[0mkey\u001b[0m \u001b[0;34m=\u001b[0m \u001b[0mcom\u001b[0m\u001b[0;34m.\u001b[0m\u001b[0mapply_if_callable\u001b[0m\u001b[0;34m(\u001b[0m\u001b[0mkey\u001b[0m\u001b[0;34m,\u001b[0m \u001b[0mself\u001b[0m\u001b[0;34m)\u001b[0m\u001b[0;34m\u001b[0m\u001b[0;34m\u001b[0m\u001b[0m\n\u001b[1;32m   1067\u001b[0m         \u001b[0;32mtry\u001b[0m\u001b[0;34m:\u001b[0m\u001b[0;34m\u001b[0m\u001b[0;34m\u001b[0m\u001b[0m\n\u001b[0;32m-> 1068\u001b[0;31m             \u001b[0mresult\u001b[0m \u001b[0;34m=\u001b[0m \u001b[0mself\u001b[0m\u001b[0;34m.\u001b[0m\u001b[0mindex\u001b[0m\u001b[0;34m.\u001b[0m\u001b[0mget_value\u001b[0m\u001b[0;34m(\u001b[0m\u001b[0mself\u001b[0m\u001b[0;34m,\u001b[0m \u001b[0mkey\u001b[0m\u001b[0;34m)\u001b[0m\u001b[0;34m\u001b[0m\u001b[0;34m\u001b[0m\u001b[0m\n\u001b[0m\u001b[1;32m   1069\u001b[0m \u001b[0;34m\u001b[0m\u001b[0m\n\u001b[1;32m   1070\u001b[0m             \u001b[0;32mif\u001b[0m \u001b[0;32mnot\u001b[0m \u001b[0mis_scalar\u001b[0m\u001b[0;34m(\u001b[0m\u001b[0mresult\u001b[0m\u001b[0;34m)\u001b[0m\u001b[0;34m:\u001b[0m\u001b[0;34m\u001b[0m\u001b[0;34m\u001b[0m\u001b[0m\n",
      "\u001b[0;32m~/opt/anaconda3/lib/python3.7/site-packages/pandas/core/indexes/base.py\u001b[0m in \u001b[0;36mget_value\u001b[0;34m(self, series, key)\u001b[0m\n\u001b[1;32m   4728\u001b[0m         \u001b[0mk\u001b[0m \u001b[0;34m=\u001b[0m \u001b[0mself\u001b[0m\u001b[0;34m.\u001b[0m\u001b[0m_convert_scalar_indexer\u001b[0m\u001b[0;34m(\u001b[0m\u001b[0mk\u001b[0m\u001b[0;34m,\u001b[0m \u001b[0mkind\u001b[0m\u001b[0;34m=\u001b[0m\u001b[0;34m\"getitem\"\u001b[0m\u001b[0;34m)\u001b[0m\u001b[0;34m\u001b[0m\u001b[0;34m\u001b[0m\u001b[0m\n\u001b[1;32m   4729\u001b[0m         \u001b[0;32mtry\u001b[0m\u001b[0;34m:\u001b[0m\u001b[0;34m\u001b[0m\u001b[0;34m\u001b[0m\u001b[0m\n\u001b[0;32m-> 4730\u001b[0;31m             \u001b[0;32mreturn\u001b[0m \u001b[0mself\u001b[0m\u001b[0;34m.\u001b[0m\u001b[0m_engine\u001b[0m\u001b[0;34m.\u001b[0m\u001b[0mget_value\u001b[0m\u001b[0;34m(\u001b[0m\u001b[0ms\u001b[0m\u001b[0;34m,\u001b[0m \u001b[0mk\u001b[0m\u001b[0;34m,\u001b[0m \u001b[0mtz\u001b[0m\u001b[0;34m=\u001b[0m\u001b[0mgetattr\u001b[0m\u001b[0;34m(\u001b[0m\u001b[0mseries\u001b[0m\u001b[0;34m.\u001b[0m\u001b[0mdtype\u001b[0m\u001b[0;34m,\u001b[0m \u001b[0;34m\"tz\"\u001b[0m\u001b[0;34m,\u001b[0m \u001b[0;32mNone\u001b[0m\u001b[0;34m)\u001b[0m\u001b[0;34m)\u001b[0m\u001b[0;34m\u001b[0m\u001b[0;34m\u001b[0m\u001b[0m\n\u001b[0m\u001b[1;32m   4731\u001b[0m         \u001b[0;32mexcept\u001b[0m \u001b[0mKeyError\u001b[0m \u001b[0;32mas\u001b[0m \u001b[0me1\u001b[0m\u001b[0;34m:\u001b[0m\u001b[0;34m\u001b[0m\u001b[0;34m\u001b[0m\u001b[0m\n\u001b[1;32m   4732\u001b[0m             \u001b[0;32mif\u001b[0m \u001b[0mlen\u001b[0m\u001b[0;34m(\u001b[0m\u001b[0mself\u001b[0m\u001b[0;34m)\u001b[0m \u001b[0;34m>\u001b[0m \u001b[0;36m0\u001b[0m \u001b[0;32mand\u001b[0m \u001b[0;34m(\u001b[0m\u001b[0mself\u001b[0m\u001b[0;34m.\u001b[0m\u001b[0mholds_integer\u001b[0m\u001b[0;34m(\u001b[0m\u001b[0;34m)\u001b[0m \u001b[0;32mor\u001b[0m \u001b[0mself\u001b[0m\u001b[0;34m.\u001b[0m\u001b[0mis_boolean\u001b[0m\u001b[0;34m(\u001b[0m\u001b[0;34m)\u001b[0m\u001b[0;34m)\u001b[0m\u001b[0;34m:\u001b[0m\u001b[0;34m\u001b[0m\u001b[0;34m\u001b[0m\u001b[0m\n",
      "\u001b[0;32mpandas/_libs/index.pyx\u001b[0m in \u001b[0;36mpandas._libs.index.IndexEngine.get_value\u001b[0;34m()\u001b[0m\n",
      "\u001b[0;32mpandas/_libs/index.pyx\u001b[0m in \u001b[0;36mpandas._libs.index.IndexEngine.get_value\u001b[0;34m()\u001b[0m\n",
      "\u001b[0;32mpandas/_libs/index.pyx\u001b[0m in \u001b[0;36mpandas._libs.index.IndexEngine.get_loc\u001b[0;34m()\u001b[0m\n",
      "\u001b[0;32mpandas/_libs/hashtable_class_helper.pxi\u001b[0m in \u001b[0;36mpandas._libs.hashtable.Int64HashTable.get_item\u001b[0;34m()\u001b[0m\n",
      "\u001b[0;32mpandas/_libs/hashtable_class_helper.pxi\u001b[0m in \u001b[0;36mpandas._libs.hashtable.Int64HashTable.get_item\u001b[0;34m()\u001b[0m\n",
      "\u001b[0;31mKeyError\u001b[0m: 39"
     ]
    }
   ],
   "source": [
    "for i in range(df_trajectory_full.shape[0]):\n",
    "    dx = df_trajectory_full.x[i+1] - df_trajectory_full.x[i] \n",
    "    dt = df_trajectory_full.t[i+1] - df_trajectory_full.t[i] \n",
    "    \n",
    "    u_est = dx / dt\n",
    "    print(u_est)\n",
    "    "
   ]
  },
  {
   "cell_type": "markdown",
   "metadata": {},
   "source": [
    "Gah, but I have to look out for the last index... and I have to store intermediate values...\n",
    "\n",
    "*Isn't there a better way?!?!*\n"
   ]
  },
  {
   "cell_type": "code",
   "execution_count": 54,
   "metadata": {},
   "outputs": [
    {
     "data": {
      "text/html": [
       "<div>\n",
       "<style scoped>\n",
       "    .dataframe tbody tr th:only-of-type {\n",
       "        vertical-align: middle;\n",
       "    }\n",
       "\n",
       "    .dataframe tbody tr th {\n",
       "        vertical-align: top;\n",
       "    }\n",
       "\n",
       "    .dataframe thead th {\n",
       "        text-align: right;\n",
       "    }\n",
       "</style>\n",
       "<table border=\"1\" class=\"dataframe\">\n",
       "  <thead>\n",
       "    <tr style=\"text-align: right;\">\n",
       "      <th></th>\n",
       "      <th>u</th>\n",
       "      <th>v</th>\n",
       "    </tr>\n",
       "  </thead>\n",
       "  <tbody>\n",
       "    <tr>\n",
       "      <td>count</td>\n",
       "      <td>38.000000</td>\n",
       "      <td>38.000000</td>\n",
       "    </tr>\n",
       "    <tr>\n",
       "      <td>mean</td>\n",
       "      <td>9.710526</td>\n",
       "      <td>0.710526</td>\n",
       "    </tr>\n",
       "    <tr>\n",
       "      <td>std</td>\n",
       "      <td>5.367106</td>\n",
       "      <td>15.388497</td>\n",
       "    </tr>\n",
       "    <tr>\n",
       "      <td>min</td>\n",
       "      <td>0.000000</td>\n",
       "      <td>-33.000000</td>\n",
       "    </tr>\n",
       "    <tr>\n",
       "      <td>25%</td>\n",
       "      <td>6.000000</td>\n",
       "      <td>-8.500000</td>\n",
       "    </tr>\n",
       "    <tr>\n",
       "      <td>50%</td>\n",
       "      <td>9.000000</td>\n",
       "      <td>0.500000</td>\n",
       "    </tr>\n",
       "    <tr>\n",
       "      <td>75%</td>\n",
       "      <td>13.750000</td>\n",
       "      <td>11.500000</td>\n",
       "    </tr>\n",
       "    <tr>\n",
       "      <td>max</td>\n",
       "      <td>22.000000</td>\n",
       "      <td>29.000000</td>\n",
       "    </tr>\n",
       "  </tbody>\n",
       "</table>\n",
       "</div>"
      ],
      "text/plain": [
       "               u          v\n",
       "count  38.000000  38.000000\n",
       "mean    9.710526   0.710526\n",
       "std     5.367106  15.388497\n",
       "min     0.000000 -33.000000\n",
       "25%     6.000000  -8.500000\n",
       "50%     9.000000   0.500000\n",
       "75%    13.750000  11.500000\n",
       "max    22.000000  29.000000"
      ]
     },
     "execution_count": 54,
     "metadata": {},
     "output_type": "execute_result"
    }
   ],
   "source": [
    "(\n",
    "    df_trajectory_full\n",
    "    >> gr.tf_mutate(\n",
    "        u=(gr.lead(DF.x) - DF.x) / (gr.lead(DF.t) - DF.t),\n",
    "        v=(gr.lead(DF.y) - DF.y) / (gr.lead(DF.t) - DF.t),\n",
    "    )\n",
    "    >> gr.tf_select(\"u\", \"v\")\n",
    "    >> gr.tf_describe()\n",
    ")"
   ]
  },
  {
   "cell_type": "markdown",
   "metadata": {},
   "source": [
    "## Some useful concepts\n",
    "\n",
    "- Pipe-enabled Grama functions\n",
    "- The data pronoun\n",
    "- Useful verbs\n"
   ]
  },
  {
   "cell_type": "code",
   "execution_count": 55,
   "metadata": {},
   "outputs": [],
   "source": [
    "from grama.models import make_cantilever_beam\n",
    "md_beam = make_cantilever_beam()"
   ]
  },
  {
   "cell_type": "markdown",
   "metadata": {},
   "source": [
    "### The Pipe `>>`\n",
    "\n",
    "The pipe operator `>>` is a special feature of Grama. For comparison, let's look at a some Grama code:\n"
   ]
  },
  {
   "cell_type": "code",
   "execution_count": 56,
   "metadata": {},
   "outputs": [
    {
     "name": "stdout",
     "output_type": "stream",
     "text": [
      "Calling plot_hists....\n"
     ]
    },
    {
     "data": {
      "text/plain": [
       "<seaborn.axisgrid.FacetGrid at 0x7f95a6a789d0>"
      ]
     },
     "execution_count": 56,
     "metadata": {},
     "output_type": "execute_result"
    },
    {
     "data": {
      "image/png": "[encoded data removed]",
      "text/plain": [
       "<Figure size 648x216 with 3 Axes>"
      ]
     },
     "metadata": {
      "needs_background": "light"
     },
     "output_type": "display_data"
    }
   ],
   "source": [
    "df_mc = gr.eval_monte_carlo(md_beam, df_det=\"nom\", n=100)\n",
    "gr.plot_auto(df_mc)"
   ]
  },
  {
   "cell_type": "markdown",
   "metadata": {},
   "source": [
    "We can also call this using *pipe-enabled verbs*\n"
   ]
  },
  {
   "cell_type": "code",
   "execution_count": 57,
   "metadata": {},
   "outputs": [
    {
     "name": "stdout",
     "output_type": "stream",
     "text": [
      "Calling plot_hists....\n"
     ]
    },
    {
     "data": {
      "text/plain": [
       "<seaborn.axisgrid.FacetGrid at 0x7f95a88e8050>"
      ]
     },
     "execution_count": 57,
     "metadata": {},
     "output_type": "execute_result"
    },
    {
     "data": {
      "image/png": "[encoded data removed]",
      "text/plain": [
       "<Figure size 648x216 with 3 Axes>"
      ]
     },
     "metadata": {
      "needs_background": "light"
     },
     "output_type": "display_data"
    }
   ],
   "source": [
    "## Non-pipe verbs\n",
    "# df_mc = gr.eval_monte_carlo(md_beam, df_det=\"nom\", n=100)\n",
    "# gr.plot_auto(df_mc)\n",
    "\n",
    "## Pipe-enabled version\n",
    "(\n",
    "    md_beam\n",
    "    >> gr.ev_monte_carlo(df_det=\"nom\", n=100) # md -> df\n",
    "    >> gr.pt_auto()\n",
    ")"
   ]
  },
  {
   "cell_type": "markdown",
   "metadata": {},
   "source": [
    "This is helpful for many reasons:\n",
    "\n",
    "- We can focus on inputs and outputs; the input to `monte_carlo` is more prominent in the pipe-enabled version\n",
    "- We can eliminate the intermediate variable `df_mc`; this gives us one less variable to track\n",
    "- We can easily add or remove verbs from a pipeline\n"
   ]
  },
  {
   "cell_type": "markdown",
   "metadata": {},
   "source": [
    "## The Data Pronoun\n",
    "\n",
    "The function `gr.Intention()` allows us to create a \"data pronoun\":\n"
   ]
  },
  {
   "cell_type": "code",
   "execution_count": null,
   "metadata": {},
   "outputs": [],
   "source": [
    "DF = gr.Intention()\n"
   ]
  },
  {
   "cell_type": "markdown",
   "metadata": {},
   "source": [
    "This is helpful when we are carrying out a long chain of operations in a pipeline, and want to access *intermediate* steps:\n"
   ]
  },
  {
   "cell_type": "code",
   "execution_count": 65,
   "metadata": {},
   "outputs": [
    {
     "data": {
      "text/html": [
       "<div>\n",
       "<style scoped>\n",
       "    .dataframe tbody tr th:only-of-type {\n",
       "        vertical-align: middle;\n",
       "    }\n",
       "\n",
       "    .dataframe tbody tr th {\n",
       "        vertical-align: top;\n",
       "    }\n",
       "\n",
       "    .dataframe thead th {\n",
       "        text-align: right;\n",
       "    }\n",
       "</style>\n",
       "<table border=\"1\" class=\"dataframe\">\n",
       "  <thead>\n",
       "    <tr style=\"text-align: right;\">\n",
       "      <th></th>\n",
       "      <th>u</th>\n",
       "      <th>v</th>\n",
       "    </tr>\n",
       "  </thead>\n",
       "  <tbody>\n",
       "    <tr>\n",
       "      <td>count</td>\n",
       "      <td>38.000000</td>\n",
       "      <td>38.000000</td>\n",
       "    </tr>\n",
       "    <tr>\n",
       "      <td>mean</td>\n",
       "      <td>9.710526</td>\n",
       "      <td>0.710526</td>\n",
       "    </tr>\n",
       "    <tr>\n",
       "      <td>std</td>\n",
       "      <td>5.367106</td>\n",
       "      <td>15.388497</td>\n",
       "    </tr>\n",
       "    <tr>\n",
       "      <td>min</td>\n",
       "      <td>0.000000</td>\n",
       "      <td>-33.000000</td>\n",
       "    </tr>\n",
       "    <tr>\n",
       "      <td>25%</td>\n",
       "      <td>6.000000</td>\n",
       "      <td>-8.500000</td>\n",
       "    </tr>\n",
       "    <tr>\n",
       "      <td>50%</td>\n",
       "      <td>9.000000</td>\n",
       "      <td>0.500000</td>\n",
       "    </tr>\n",
       "    <tr>\n",
       "      <td>75%</td>\n",
       "      <td>13.750000</td>\n",
       "      <td>11.500000</td>\n",
       "    </tr>\n",
       "    <tr>\n",
       "      <td>max</td>\n",
       "      <td>22.000000</td>\n",
       "      <td>29.000000</td>\n",
       "    </tr>\n",
       "  </tbody>\n",
       "</table>\n",
       "</div>"
      ],
      "text/plain": [
       "               u          v\n",
       "count  38.000000  38.000000\n",
       "mean    9.710526   0.710526\n",
       "std     5.367106  15.388497\n",
       "min     0.000000 -33.000000\n",
       "25%     6.000000  -8.500000\n",
       "50%     9.000000   0.500000\n",
       "75%    13.750000  11.500000\n",
       "max    22.000000  29.000000"
      ]
     },
     "execution_count": 65,
     "metadata": {},
     "output_type": "execute_result"
    }
   ],
   "source": [
    "## Pipe-enabled code\n",
    "# (\n",
    "#     df_trajectory_full\n",
    "#     >> gr.tf_mutate(\n",
    "#         u=(gr.lead(DF.x) - DF.x) / (gr.lead(DF.t) - DF.t),\n",
    "#         v=(gr.lead(DF.y) - DF.y) / (gr.lead(DF.t) - DF.t),\n",
    "#     )\n",
    "#     >> gr.tf_select(\"u\", \"v\")\n",
    "#     >> gr.tf_describe()\n",
    "# )\n",
    "\n",
    "## Non-pipe version\n",
    "df_tmp = df_trajectory_full\n",
    "df_tmp[\"u\"] = (gr.lead(df_tmp.x) - df_tmp.x) / (gr.lead(df_tmp.t) - df_tmp.t)\n",
    "df_tmp[\"v\"] = (gr.lead(df_tmp.y) - df_tmp.y) / (gr.lead(df_tmp.t) - df_tmp.t)\n",
    "df_tmp[[\"u\", \"v\"]].describe()\n"
   ]
  },
  {
   "cell_type": "markdown",
   "metadata": {},
   "source": [
    "## Useful verbs\n",
    "\n",
    "`gr.tf_mutate()` allows you to modify or add columns.\n",
    "- [this page](https://github.com/zdelrosario/py_grama/blob/master/grama/mutate_helpers.py) has some useful mutate helpers\n"
   ]
  },
  {
   "cell_type": "code",
   "execution_count": 73,
   "metadata": {},
   "outputs": [
    {
     "data": {
      "text/html": [
       "<div>\n",
       "<style scoped>\n",
       "    .dataframe tbody tr th:only-of-type {\n",
       "        vertical-align: middle;\n",
       "    }\n",
       "\n",
       "    .dataframe tbody tr th {\n",
       "        vertical-align: top;\n",
       "    }\n",
       "\n",
       "    .dataframe thead th {\n",
       "        text-align: right;\n",
       "    }\n",
       "</style>\n",
       "<table border=\"1\" class=\"dataframe\">\n",
       "  <thead>\n",
       "    <tr style=\"text-align: right;\">\n",
       "      <th></th>\n",
       "      <th>t</th>\n",
       "      <th>x</th>\n",
       "      <th>y</th>\n",
       "      <th>u</th>\n",
       "      <th>v</th>\n",
       "      <th>d</th>\n",
       "      <th>s</th>\n",
       "    </tr>\n",
       "  </thead>\n",
       "  <tbody>\n",
       "    <tr>\n",
       "      <td>0</td>\n",
       "      <td>0.0</td>\n",
       "      <td>0.5</td>\n",
       "      <td>0.1</td>\n",
       "      <td>16.0</td>\n",
       "      <td>29.0</td>\n",
       "      <td>0.509902</td>\n",
       "      <td>3.312099</td>\n",
       "    </tr>\n",
       "    <tr>\n",
       "      <td>1</td>\n",
       "      <td>0.1</td>\n",
       "      <td>2.1</td>\n",
       "      <td>3.0</td>\n",
       "      <td>19.0</td>\n",
       "      <td>25.0</td>\n",
       "      <td>3.661967</td>\n",
       "      <td>6.452163</td>\n",
       "    </tr>\n",
       "    <tr>\n",
       "      <td>2</td>\n",
       "      <td>0.2</td>\n",
       "      <td>4.0</td>\n",
       "      <td>5.5</td>\n",
       "      <td>15.0</td>\n",
       "      <td>26.0</td>\n",
       "      <td>6.800735</td>\n",
       "      <td>9.453829</td>\n",
       "    </tr>\n",
       "    <tr>\n",
       "      <td>3</td>\n",
       "      <td>0.3</td>\n",
       "      <td>5.5</td>\n",
       "      <td>8.1</td>\n",
       "      <td>16.0</td>\n",
       "      <td>22.0</td>\n",
       "      <td>9.790812</td>\n",
       "      <td>12.174123</td>\n",
       "    </tr>\n",
       "    <tr>\n",
       "      <td>4</td>\n",
       "      <td>0.4</td>\n",
       "      <td>7.1</td>\n",
       "      <td>10.3</td>\n",
       "      <td>22.0</td>\n",
       "      <td>18.0</td>\n",
       "      <td>12.509996</td>\n",
       "      <td>15.016657</td>\n",
       "    </tr>\n",
       "  </tbody>\n",
       "</table>\n",
       "</div>"
      ],
      "text/plain": [
       "     t    x     y     u     v          d          s\n",
       "0  0.0  0.5   0.1  16.0  29.0   0.509902   3.312099\n",
       "1  0.1  2.1   3.0  19.0  25.0   3.661967   6.452163\n",
       "2  0.2  4.0   5.5  15.0  26.0   6.800735   9.453829\n",
       "3  0.3  5.5   8.1  16.0  22.0   9.790812  12.174123\n",
       "4  0.4  7.1  10.3  22.0  18.0  12.509996  15.016657"
      ]
     },
     "execution_count": 73,
     "metadata": {},
     "output_type": "execute_result"
    }
   ],
   "source": [
    "(\n",
    "    df_trajectory_full\n",
    "    >> gr.tf_mutate(\n",
    "        ## Distance from origin\n",
    "        d=gr.sqrt(DF.x**2 + DF.y**2),\n",
    "        ## Approximate path length\n",
    "        s=gr.cumsum(gr.sqrt((gr.lead(DF.x)-DF.x)**2 + (gr.lead(DF.y)-DF.y)**2))\n",
    "    )\n",
    "    >> gr.tf_head()\n",
    ")"
   ]
  },
  {
   "cell_type": "markdown",
   "metadata": {},
   "source": [
    "`gr.tf_filter()` allows you to keep only those observations that satisfy some constraint\n",
    "- [this page](https://github.com/zdelrosario/py_grama/blob/master/grama/dfply/mask_helpers.py) has some useful filter helpers\n"
   ]
  },
  {
   "cell_type": "code",
   "execution_count": 71,
   "metadata": {},
   "outputs": [
    {
     "data": {
      "text/html": [
       "<div>\n",
       "<style scoped>\n",
       "    .dataframe tbody tr th:only-of-type {\n",
       "        vertical-align: middle;\n",
       "    }\n",
       "\n",
       "    .dataframe tbody tr th {\n",
       "        vertical-align: top;\n",
       "    }\n",
       "\n",
       "    .dataframe thead th {\n",
       "        text-align: right;\n",
       "    }\n",
       "</style>\n",
       "<table border=\"1\" class=\"dataframe\">\n",
       "  <thead>\n",
       "    <tr style=\"text-align: right;\">\n",
       "      <th></th>\n",
       "      <th>t</th>\n",
       "      <th>x</th>\n",
       "      <th>y</th>\n",
       "      <th>u</th>\n",
       "      <th>v</th>\n",
       "    </tr>\n",
       "  </thead>\n",
       "  <tbody>\n",
       "    <tr>\n",
       "      <td>0</td>\n",
       "      <td>1.9</td>\n",
       "      <td>26.5</td>\n",
       "      <td>25.2</td>\n",
       "      <td>6.0</td>\n",
       "      <td>-3.0</td>\n",
       "    </tr>\n",
       "  </tbody>\n",
       "</table>\n",
       "</div>"
      ],
      "text/plain": [
       "     t     x     y    u    v\n",
       "0  1.9  26.5  25.2  6.0 -3.0"
      ]
     },
     "execution_count": 71,
     "metadata": {},
     "output_type": "execute_result"
    }
   ],
   "source": [
    "## Approximate apex\n",
    "(\n",
    "    df_trajectory_full\n",
    "    >> gr.tf_filter(DF.y == gr.colmax(DF.y))\n",
    ")"
   ]
  },
  {
   "cell_type": "markdown",
   "metadata": {},
   "source": []
  },
  {
   "cell_type": "markdown",
   "metadata": {},
   "source": [
    "# Worked Example: Aircraft Data\n",
    "\n",
    "---\n",
    "\n",
    "I'm going to work through an example of tidying and visualizing a dataset. Remember that this is up in the notes repository, so you can go through it yourself!\n"
   ]
  },
  {
   "cell_type": "code",
   "execution_count": 2,
   "metadata": {},
   "outputs": [],
   "source": [
    "filename_aircraft = \"./data/wing_weight.csv\"\n",
    "df_aircraft = pd.read_csv(filename_aircraft)"
   ]
  },
  {
   "cell_type": "markdown",
   "metadata": {},
   "source": []
  },
  {
   "cell_type": "code",
   "execution_count": 3,
   "metadata": {},
   "outputs": [
    {
     "data": {
      "text/html": [
       "<div>\n",
       "<style scoped>\n",
       "    .dataframe tbody tr th:only-of-type {\n",
       "        vertical-align: middle;\n",
       "    }\n",
       "\n",
       "    .dataframe tbody tr th {\n",
       "        vertical-align: top;\n",
       "    }\n",
       "\n",
       "    .dataframe thead th {\n",
       "        text-align: right;\n",
       "    }\n",
       "</style>\n",
       "<table border=\"1\" class=\"dataframe\">\n",
       "  <thead>\n",
       "    <tr style=\"text-align: right;\">\n",
       "      <th></th>\n",
       "      <th>Group</th>\n",
       "      <th>Name</th>\n",
       "      <th>Symbol</th>\n",
       "      <th>Units</th>\n",
       "      <th>Citation 500 Series</th>\n",
       "      <th>MDAT 30</th>\n",
       "      <th>MDAT 50</th>\n",
       "      <th>F-28</th>\n",
       "      <th>MDAT 70</th>\n",
       "      <th>DC-9-10</th>\n",
       "      <th>...</th>\n",
       "      <th>DC-10-40</th>\n",
       "      <th>747</th>\n",
       "      <th>SCAT-15</th>\n",
       "      <th>C-130A</th>\n",
       "      <th>C130E</th>\n",
       "      <th>KC-135A</th>\n",
       "      <th>C-133B</th>\n",
       "      <th>C-141A</th>\n",
       "      <th>C-5A</th>\n",
       "      <th>AST</th>\n",
       "    </tr>\n",
       "  </thead>\n",
       "  <tbody>\n",
       "    <tr>\n",
       "      <td>0</td>\n",
       "      <td>wing</td>\n",
       "      <td>wing_system_weight</td>\n",
       "      <td>W_1</td>\n",
       "      <td>lbs</td>\n",
       "      <td>1020.0</td>\n",
       "      <td>3143.0</td>\n",
       "      <td>4360.0</td>\n",
       "      <td>7526.0</td>\n",
       "      <td>5910.0</td>\n",
       "      <td>9366.0</td>\n",
       "      <td>...</td>\n",
       "      <td>57748.0</td>\n",
       "      <td>88741.0</td>\n",
       "      <td>83940.0</td>\n",
       "      <td>10593.0</td>\n",
       "      <td>11647.0</td>\n",
       "      <td>24719.0</td>\n",
       "      <td>27064.0</td>\n",
       "      <td>34262.0</td>\n",
       "      <td>81782.0</td>\n",
       "      <td>20560.0</td>\n",
       "    </tr>\n",
       "    <tr>\n",
       "      <td>1</td>\n",
       "      <td>wing</td>\n",
       "      <td>takeoff_gross</td>\n",
       "      <td>TOGW</td>\n",
       "      <td>lbs</td>\n",
       "      <td>11500.0</td>\n",
       "      <td>34480.0</td>\n",
       "      <td>46850.0</td>\n",
       "      <td>62000.0</td>\n",
       "      <td>61000.0</td>\n",
       "      <td>86300.0</td>\n",
       "      <td>...</td>\n",
       "      <td>565000.0</td>\n",
       "      <td>775000.0</td>\n",
       "      <td>631000.0</td>\n",
       "      <td>108000.0</td>\n",
       "      <td>155000.0</td>\n",
       "      <td>275000.0</td>\n",
       "      <td>286000.0</td>\n",
       "      <td>316100.0</td>\n",
       "      <td>728000.0</td>\n",
       "      <td>163500.0</td>\n",
       "    </tr>\n",
       "    <tr>\n",
       "      <td>2</td>\n",
       "      <td>wing</td>\n",
       "      <td>zero_fuel_weight</td>\n",
       "      <td>ZFW</td>\n",
       "      <td>lbs</td>\n",
       "      <td>8900.0</td>\n",
       "      <td>27450.0</td>\n",
       "      <td>37760.0</td>\n",
       "      <td>47600.0</td>\n",
       "      <td>49460.0</td>\n",
       "      <td>71800.0</td>\n",
       "      <td>...</td>\n",
       "      <td>391000.0</td>\n",
       "      <td>526500.0</td>\n",
       "      <td>364550.0</td>\n",
       "      <td>87290.0</td>\n",
       "      <td>107890.0</td>\n",
       "      <td>190380.0</td>\n",
       "      <td>215000.0</td>\n",
       "      <td>204500.0</td>\n",
       "      <td>542800.0</td>\n",
       "      <td>143000.0</td>\n",
       "    </tr>\n",
       "    <tr>\n",
       "      <td>3</td>\n",
       "      <td>wing</td>\n",
       "      <td>trap_area</td>\n",
       "      <td>S_W</td>\n",
       "      <td>sq_ft</td>\n",
       "      <td>269.0</td>\n",
       "      <td>342.0</td>\n",
       "      <td>464.0</td>\n",
       "      <td>822.0</td>\n",
       "      <td>605.0</td>\n",
       "      <td>934.0</td>\n",
       "      <td>...</td>\n",
       "      <td>3610.0</td>\n",
       "      <td>4960.0</td>\n",
       "      <td>10744.0</td>\n",
       "      <td>1808.0</td>\n",
       "      <td>1808.0</td>\n",
       "      <td>2453.0</td>\n",
       "      <td>2673.0</td>\n",
       "      <td>3000.0</td>\n",
       "      <td>6200.0</td>\n",
       "      <td>1890.0</td>\n",
       "    </tr>\n",
       "    <tr>\n",
       "      <td>4</td>\n",
       "      <td>wing</td>\n",
       "      <td>wing_loading</td>\n",
       "      <td>W/S</td>\n",
       "      <td>lb/sq_ft</td>\n",
       "      <td>43.0</td>\n",
       "      <td>101.0</td>\n",
       "      <td>101.0</td>\n",
       "      <td>75.0</td>\n",
       "      <td>101.0</td>\n",
       "      <td>92.0</td>\n",
       "      <td>...</td>\n",
       "      <td>157.0</td>\n",
       "      <td>156.0</td>\n",
       "      <td>59.0</td>\n",
       "      <td>60.0</td>\n",
       "      <td>86.0</td>\n",
       "      <td>112.0</td>\n",
       "      <td>107.0</td>\n",
       "      <td>105.0</td>\n",
       "      <td>117.0</td>\n",
       "      <td>87.0</td>\n",
       "    </tr>\n",
       "  </tbody>\n",
       "</table>\n",
       "<p>5 rows × 30 columns</p>\n",
       "</div>"
      ],
      "text/plain": [
       "  Group                Name Symbol     Units  Citation 500 Series  MDAT 30  \\\n",
       "0  wing  wing_system_weight    W_1       lbs               1020.0   3143.0   \n",
       "1  wing       takeoff_gross   TOGW       lbs              11500.0  34480.0   \n",
       "2  wing    zero_fuel_weight    ZFW       lbs               8900.0  27450.0   \n",
       "3  wing           trap_area    S_W     sq_ft                269.0    342.0   \n",
       "4  wing        wing_loading    W/S  lb/sq_ft                 43.0    101.0   \n",
       "\n",
       "   MDAT 50     F-28  MDAT 70  DC-9-10  ...  DC-10-40       747   SCAT-15  \\\n",
       "0   4360.0   7526.0   5910.0   9366.0  ...   57748.0   88741.0   83940.0   \n",
       "1  46850.0  62000.0  61000.0  86300.0  ...  565000.0  775000.0  631000.0   \n",
       "2  37760.0  47600.0  49460.0  71800.0  ...  391000.0  526500.0  364550.0   \n",
       "3    464.0    822.0    605.0    934.0  ...    3610.0    4960.0   10744.0   \n",
       "4    101.0     75.0    101.0     92.0  ...     157.0     156.0      59.0   \n",
       "\n",
       "     C-130A     C130E   KC-135A    C-133B    C-141A      C-5A       AST  \n",
       "0   10593.0   11647.0   24719.0   27064.0   34262.0   81782.0   20560.0  \n",
       "1  108000.0  155000.0  275000.0  286000.0  316100.0  728000.0  163500.0  \n",
       "2   87290.0  107890.0  190380.0  215000.0  204500.0  542800.0  143000.0  \n",
       "3    1808.0    1808.0    2453.0    2673.0    3000.0    6200.0    1890.0  \n",
       "4      60.0      86.0     112.0     107.0     105.0     117.0      87.0  \n",
       "\n",
       "[5 rows x 30 columns]"
      ]
     },
     "execution_count": 3,
     "metadata": {},
     "output_type": "execute_result"
    }
   ],
   "source": [
    "df_aircraft.head()\n"
   ]
  },
  {
   "cell_type": "markdown",
   "metadata": {},
   "source": []
  },
  {
   "cell_type": "code",
   "execution_count": 5,
   "metadata": {},
   "outputs": [
    {
     "data": {
      "text/plain": [
       "Index(['Group', 'Name', 'Symbol', 'Units', 'Citation 500 Series', 'MDAT 30',\n",
       "       'MDAT 50', 'F-28', 'MDAT 70', 'DC-9-10', 'BAC-111', 'DC-9-30',\n",
       "       '737-200', '727-100', '727-200', '707-320', 'DC-8-55', 'DC-8-62',\n",
       "       'DC-10-10', 'L-1011', 'DC-10-40', '747', 'SCAT-15', 'C-130A', 'C130E',\n",
       "       'KC-135A', 'C-133B', 'C-141A', 'C-5A', 'AST'],\n",
       "      dtype='object')"
      ]
     },
     "execution_count": 5,
     "metadata": {},
     "output_type": "execute_result"
    }
   ],
   "source": [
    "df_aircraft.columns"
   ]
  },
  {
   "cell_type": "markdown",
   "metadata": {},
   "source": []
  },
  {
   "cell_type": "code",
   "execution_count": 75,
   "metadata": {},
   "outputs": [
    {
     "data": {
      "text/html": [
       "<div>\n",
       "<style scoped>\n",
       "    .dataframe tbody tr th:only-of-type {\n",
       "        vertical-align: middle;\n",
       "    }\n",
       "\n",
       "    .dataframe tbody tr th {\n",
       "        vertical-align: top;\n",
       "    }\n",
       "\n",
       "    .dataframe thead th {\n",
       "        text-align: right;\n",
       "    }\n",
       "</style>\n",
       "<table border=\"1\" class=\"dataframe\">\n",
       "  <thead>\n",
       "    <tr style=\"text-align: right;\">\n",
       "      <th></th>\n",
       "      <th>Group</th>\n",
       "      <th>Name</th>\n",
       "      <th>Symbol</th>\n",
       "      <th>Units</th>\n",
       "      <th>aircraft</th>\n",
       "      <th>value</th>\n",
       "    </tr>\n",
       "  </thead>\n",
       "  <tbody>\n",
       "    <tr>\n",
       "      <td>0</td>\n",
       "      <td>wing</td>\n",
       "      <td>wing_system_weight</td>\n",
       "      <td>W_1</td>\n",
       "      <td>lbs</td>\n",
       "      <td>Citation 500 Series</td>\n",
       "      <td>1020.0</td>\n",
       "    </tr>\n",
       "    <tr>\n",
       "      <td>1</td>\n",
       "      <td>wing</td>\n",
       "      <td>takeoff_gross</td>\n",
       "      <td>TOGW</td>\n",
       "      <td>lbs</td>\n",
       "      <td>Citation 500 Series</td>\n",
       "      <td>11500.0</td>\n",
       "    </tr>\n",
       "    <tr>\n",
       "      <td>2</td>\n",
       "      <td>wing</td>\n",
       "      <td>zero_fuel_weight</td>\n",
       "      <td>ZFW</td>\n",
       "      <td>lbs</td>\n",
       "      <td>Citation 500 Series</td>\n",
       "      <td>8900.0</td>\n",
       "    </tr>\n",
       "    <tr>\n",
       "      <td>3</td>\n",
       "      <td>wing</td>\n",
       "      <td>trap_area</td>\n",
       "      <td>S_W</td>\n",
       "      <td>sq_ft</td>\n",
       "      <td>Citation 500 Series</td>\n",
       "      <td>269.0</td>\n",
       "    </tr>\n",
       "    <tr>\n",
       "      <td>4</td>\n",
       "      <td>wing</td>\n",
       "      <td>wing_loading</td>\n",
       "      <td>W/S</td>\n",
       "      <td>lb/sq_ft</td>\n",
       "      <td>Citation 500 Series</td>\n",
       "      <td>43.0</td>\n",
       "    </tr>\n",
       "    <tr>\n",
       "      <td>...</td>\n",
       "      <td>...</td>\n",
       "      <td>...</td>\n",
       "      <td>...</td>\n",
       "      <td>...</td>\n",
       "      <td>...</td>\n",
       "      <td>...</td>\n",
       "    </tr>\n",
       "    <tr>\n",
       "      <td>463</td>\n",
       "      <td>tail</td>\n",
       "      <td>vert_plus_rudder</td>\n",
       "      <td>W_2B</td>\n",
       "      <td>lbs</td>\n",
       "      <td>AST</td>\n",
       "      <td>2602.0</td>\n",
       "    </tr>\n",
       "    <tr>\n",
       "      <td>464</td>\n",
       "      <td>tail</td>\n",
       "      <td>horiz_area</td>\n",
       "      <td>S_h</td>\n",
       "      <td>sq_ft</td>\n",
       "      <td>AST</td>\n",
       "      <td>730.0</td>\n",
       "    </tr>\n",
       "    <tr>\n",
       "      <td>465</td>\n",
       "      <td>tail</td>\n",
       "      <td>vert_area</td>\n",
       "      <td>S_v</td>\n",
       "      <td>sq_ft</td>\n",
       "      <td>AST</td>\n",
       "      <td>648.0</td>\n",
       "    </tr>\n",
       "    <tr>\n",
       "      <td>466</td>\n",
       "      <td>body</td>\n",
       "      <td>body_weight</td>\n",
       "      <td>W_3</td>\n",
       "      <td>lbs</td>\n",
       "      <td>AST</td>\n",
       "      <td>29025.0</td>\n",
       "    </tr>\n",
       "    <tr>\n",
       "      <td>467</td>\n",
       "      <td>body</td>\n",
       "      <td>passengers_coach</td>\n",
       "      <td>N_p</td>\n",
       "      <td>people</td>\n",
       "      <td>AST</td>\n",
       "      <td>4563.0</td>\n",
       "    </tr>\n",
       "  </tbody>\n",
       "</table>\n",
       "<p>468 rows × 6 columns</p>\n",
       "</div>"
      ],
      "text/plain": [
       "    Group                Name Symbol     Units             aircraft    value\n",
       "0    wing  wing_system_weight    W_1       lbs  Citation 500 Series   1020.0\n",
       "1    wing       takeoff_gross   TOGW       lbs  Citation 500 Series  11500.0\n",
       "2    wing    zero_fuel_weight    ZFW       lbs  Citation 500 Series   8900.0\n",
       "3    wing           trap_area    S_W     sq_ft  Citation 500 Series    269.0\n",
       "4    wing        wing_loading    W/S  lb/sq_ft  Citation 500 Series     43.0\n",
       "..    ...                 ...    ...       ...                  ...      ...\n",
       "463  tail    vert_plus_rudder   W_2B       lbs                  AST   2602.0\n",
       "464  tail          horiz_area    S_h     sq_ft                  AST    730.0\n",
       "465  tail           vert_area    S_v     sq_ft                  AST    648.0\n",
       "466  body         body_weight    W_3       lbs                  AST  29025.0\n",
       "467  body    passengers_coach    N_p    people                  AST   4563.0\n",
       "\n",
       "[468 rows x 6 columns]"
      ]
     },
     "execution_count": 75,
     "metadata": {},
     "output_type": "execute_result"
    }
   ],
   "source": [
    "(\n",
    "    df_aircraft\n",
    "    >> gr.tf_gather(\"aircraft\", \"value\", aircraft)\n",
    ")"
   ]
  },
  {
   "cell_type": "markdown",
   "metadata": {},
   "source": []
  },
  {
   "cell_type": "code",
   "execution_count": 10,
   "metadata": {},
   "outputs": [
    {
     "data": {
      "text/plain": [
       "Index(['Citation 500 Series', 'MDAT 30', 'MDAT 50', 'F-28', 'MDAT 70',\n",
       "       'DC-9-10', 'BAC-111', 'DC-9-30', '737-200', '727-100', '727-200',\n",
       "       '707-320', 'DC-8-55', 'DC-8-62', 'DC-10-10', 'L-1011', 'DC-10-40',\n",
       "       '747', 'SCAT-15', 'C-130A', 'C130E', 'KC-135A', 'C-133B', 'C-141A',\n",
       "       'C-5A', 'AST'],\n",
       "      dtype='object')"
      ]
     },
     "execution_count": 10,
     "metadata": {},
     "output_type": "execute_result"
    }
   ],
   "source": [
    "aircraft = df_aircraft.columns.drop([\"Group\", \"Name\", \"Symbol\", \"Units\"])\n",
    "aircraft"
   ]
  },
  {
   "cell_type": "markdown",
   "metadata": {},
   "source": []
  },
  {
   "cell_type": "code",
   "execution_count": 24,
   "metadata": {},
   "outputs": [
    {
     "data": {
      "text/html": [
       "<div>\n",
       "<style scoped>\n",
       "    .dataframe tbody tr th:only-of-type {\n",
       "        vertical-align: middle;\n",
       "    }\n",
       "\n",
       "    .dataframe tbody tr th {\n",
       "        vertical-align: top;\n",
       "    }\n",
       "\n",
       "    .dataframe thead th {\n",
       "        text-align: right;\n",
       "    }\n",
       "</style>\n",
       "<table border=\"1\" class=\"dataframe\">\n",
       "  <thead>\n",
       "    <tr style=\"text-align: right;\">\n",
       "      <th></th>\n",
       "      <th>aircraft</th>\n",
       "      <th>AR</th>\n",
       "      <th>I_W</th>\n",
       "      <th>N_p</th>\n",
       "      <th>Omega C/4</th>\n",
       "      <th>S_W</th>\n",
       "      <th>S_h</th>\n",
       "      <th>S_v</th>\n",
       "      <th>TOGW</th>\n",
       "      <th>U</th>\n",
       "      <th>W/S</th>\n",
       "      <th>W_1</th>\n",
       "      <th>W_2</th>\n",
       "      <th>W_2A</th>\n",
       "      <th>W_2B</th>\n",
       "      <th>W_3</th>\n",
       "      <th>ZFW</th>\n",
       "      <th>lambda</th>\n",
       "      <th>t/c</th>\n",
       "    </tr>\n",
       "  </thead>\n",
       "  <tbody>\n",
       "    <tr>\n",
       "      <td>0</td>\n",
       "      <td>707-320</td>\n",
       "      <td>7.30</td>\n",
       "      <td>14055.0</td>\n",
       "      <td>162.0</td>\n",
       "      <td>35.0</td>\n",
       "      <td>2892.0</td>\n",
       "      <td>625.0</td>\n",
       "      <td>312.0</td>\n",
       "      <td>312000.0</td>\n",
       "      <td>3.75</td>\n",
       "      <td>108.0</td>\n",
       "      <td>28647.0</td>\n",
       "      <td>6004.0</td>\n",
       "      <td>4043.0</td>\n",
       "      <td>1961.0</td>\n",
       "      <td>22299.0</td>\n",
       "      <td>190000.0</td>\n",
       "      <td>0.300</td>\n",
       "      <td>0.120</td>\n",
       "    </tr>\n",
       "    <tr>\n",
       "      <td>1</td>\n",
       "      <td>727-100</td>\n",
       "      <td>7.70</td>\n",
       "      <td>6192.0</td>\n",
       "      <td>138.0</td>\n",
       "      <td>32.0</td>\n",
       "      <td>1520.0</td>\n",
       "      <td>377.0</td>\n",
       "      <td>384.0</td>\n",
       "      <td>161000.0</td>\n",
       "      <td>3.75</td>\n",
       "      <td>106.0</td>\n",
       "      <td>17682.0</td>\n",
       "      <td>4148.0</td>\n",
       "      <td>1999.0</td>\n",
       "      <td>2149.0</td>\n",
       "      <td>17589.0</td>\n",
       "      <td>118000.0</td>\n",
       "      <td>0.372</td>\n",
       "      <td>0.123</td>\n",
       "    </tr>\n",
       "    <tr>\n",
       "      <td>2</td>\n",
       "      <td>727-200</td>\n",
       "      <td>7.70</td>\n",
       "      <td>7018.0</td>\n",
       "      <td>158.0</td>\n",
       "      <td>32.0</td>\n",
       "      <td>1520.0</td>\n",
       "      <td>377.0</td>\n",
       "      <td>384.0</td>\n",
       "      <td>175000.0</td>\n",
       "      <td>3.75</td>\n",
       "      <td>115.0</td>\n",
       "      <td>18529.0</td>\n",
       "      <td>4142.0</td>\n",
       "      <td>1921.0</td>\n",
       "      <td>2221.0</td>\n",
       "      <td>22415.0</td>\n",
       "      <td>140000.0</td>\n",
       "      <td>0.372</td>\n",
       "      <td>0.123</td>\n",
       "    </tr>\n",
       "    <tr>\n",
       "      <td>3</td>\n",
       "      <td>737-200</td>\n",
       "      <td>7.80</td>\n",
       "      <td>2740.0</td>\n",
       "      <td>115.0</td>\n",
       "      <td>25.0</td>\n",
       "      <td>964.0</td>\n",
       "      <td>312.0</td>\n",
       "      <td>224.0</td>\n",
       "      <td>104000.0</td>\n",
       "      <td>3.75</td>\n",
       "      <td>108.0</td>\n",
       "      <td>11164.0</td>\n",
       "      <td>2777.0</td>\n",
       "      <td>1606.0</td>\n",
       "      <td>1171.0</td>\n",
       "      <td>11920.0</td>\n",
       "      <td>85000.0</td>\n",
       "      <td>0.340</td>\n",
       "      <td>0.133</td>\n",
       "    </tr>\n",
       "    <tr>\n",
       "      <td>4</td>\n",
       "      <td>747</td>\n",
       "      <td>7.70</td>\n",
       "      <td>59172.0</td>\n",
       "      <td>435.0</td>\n",
       "      <td>37.5</td>\n",
       "      <td>4960.0</td>\n",
       "      <td>1470.0</td>\n",
       "      <td>830.0</td>\n",
       "      <td>775000.0</td>\n",
       "      <td>3.75</td>\n",
       "      <td>156.0</td>\n",
       "      <td>88741.0</td>\n",
       "      <td>11958.0</td>\n",
       "      <td>8017.0</td>\n",
       "      <td>3941.0</td>\n",
       "      <td>68452.0</td>\n",
       "      <td>526500.0</td>\n",
       "      <td>0.356</td>\n",
       "      <td>0.122</td>\n",
       "    </tr>\n",
       "    <tr>\n",
       "      <td>5</td>\n",
       "      <td>AST</td>\n",
       "      <td>7.00</td>\n",
       "      <td>6583.0</td>\n",
       "      <td>4563.0</td>\n",
       "      <td>25.0</td>\n",
       "      <td>1890.0</td>\n",
       "      <td>730.0</td>\n",
       "      <td>648.0</td>\n",
       "      <td>163500.0</td>\n",
       "      <td>5.10</td>\n",
       "      <td>87.0</td>\n",
       "      <td>20560.0</td>\n",
       "      <td>8730.0</td>\n",
       "      <td>5127.0</td>\n",
       "      <td>2602.0</td>\n",
       "      <td>29025.0</td>\n",
       "      <td>143000.0</td>\n",
       "      <td>0.300</td>\n",
       "      <td>0.100</td>\n",
       "    </tr>\n",
       "    <tr>\n",
       "      <td>6</td>\n",
       "      <td>BAC-111</td>\n",
       "      <td>8.60</td>\n",
       "      <td>3512.0</td>\n",
       "      <td>99.0</td>\n",
       "      <td>22.2</td>\n",
       "      <td>1014.0</td>\n",
       "      <td>258.0</td>\n",
       "      <td>180.0</td>\n",
       "      <td>99650.0</td>\n",
       "      <td>3.75</td>\n",
       "      <td>98.0</td>\n",
       "      <td>9817.0</td>\n",
       "      <td>2470.0</td>\n",
       "      <td>1610.0</td>\n",
       "      <td>860.0</td>\n",
       "      <td>11274.0</td>\n",
       "      <td>81000.0</td>\n",
       "      <td>0.333</td>\n",
       "      <td>0.112</td>\n",
       "    </tr>\n",
       "    <tr>\n",
       "      <td>7</td>\n",
       "      <td>C-130A</td>\n",
       "      <td>9.70</td>\n",
       "      <td>5007.0</td>\n",
       "      <td>3339.0</td>\n",
       "      <td>0.0</td>\n",
       "      <td>1808.0</td>\n",
       "      <td>545.0</td>\n",
       "      <td>300.0</td>\n",
       "      <td>108000.0</td>\n",
       "      <td>4.50</td>\n",
       "      <td>60.0</td>\n",
       "      <td>10593.0</td>\n",
       "      <td>3190.0</td>\n",
       "      <td>2106.0</td>\n",
       "      <td>1084.0</td>\n",
       "      <td>14045.0</td>\n",
       "      <td>87290.0</td>\n",
       "      <td>0.440</td>\n",
       "      <td>0.147</td>\n",
       "    </tr>\n",
       "    <tr>\n",
       "      <td>8</td>\n",
       "      <td>C-133B</td>\n",
       "      <td>12.10</td>\n",
       "      <td>14703.0</td>\n",
       "      <td>6900.0</td>\n",
       "      <td>0.0</td>\n",
       "      <td>2673.0</td>\n",
       "      <td>801.0</td>\n",
       "      <td>537.0</td>\n",
       "      <td>286000.0</td>\n",
       "      <td>3.75</td>\n",
       "      <td>107.0</td>\n",
       "      <td>27064.0</td>\n",
       "      <td>6147.0</td>\n",
       "      <td>3721.0</td>\n",
       "      <td>2426.0</td>\n",
       "      <td>32119.0</td>\n",
       "      <td>215000.0</td>\n",
       "      <td>0.226</td>\n",
       "      <td>0.163</td>\n",
       "    </tr>\n",
       "    <tr>\n",
       "      <td>9</td>\n",
       "      <td>C-141A</td>\n",
       "      <td>8.50</td>\n",
       "      <td>16232.0</td>\n",
       "      <td>5096.0</td>\n",
       "      <td>25.0</td>\n",
       "      <td>3000.0</td>\n",
       "      <td>483.0</td>\n",
       "      <td>416.0</td>\n",
       "      <td>316100.0</td>\n",
       "      <td>3.75</td>\n",
       "      <td>105.0</td>\n",
       "      <td>34262.0</td>\n",
       "      <td>5745.0</td>\n",
       "      <td>3155.0</td>\n",
       "      <td>2590.0</td>\n",
       "      <td>28578.0</td>\n",
       "      <td>204500.0</td>\n",
       "      <td>0.335</td>\n",
       "      <td>0.121</td>\n",
       "    </tr>\n",
       "    <tr>\n",
       "      <td>10</td>\n",
       "      <td>C-5A</td>\n",
       "      <td>7.70</td>\n",
       "      <td>50237.0</td>\n",
       "      <td>16507.0</td>\n",
       "      <td>24.5</td>\n",
       "      <td>6200.0</td>\n",
       "      <td>966.0</td>\n",
       "      <td>961.0</td>\n",
       "      <td>728000.0</td>\n",
       "      <td>3.75</td>\n",
       "      <td>117.0</td>\n",
       "      <td>81782.0</td>\n",
       "      <td>12344.0</td>\n",
       "      <td>6788.0</td>\n",
       "      <td>5556.0</td>\n",
       "      <td>115216.0</td>\n",
       "      <td>542800.0</td>\n",
       "      <td>0.338</td>\n",
       "      <td>0.119</td>\n",
       "    </tr>\n",
       "    <tr>\n",
       "      <td>11</td>\n",
       "      <td>C130E</td>\n",
       "      <td>9.70</td>\n",
       "      <td>5550.0</td>\n",
       "      <td>3339.0</td>\n",
       "      <td>0.0</td>\n",
       "      <td>1808.0</td>\n",
       "      <td>545.0</td>\n",
       "      <td>300.0</td>\n",
       "      <td>155000.0</td>\n",
       "      <td>3.75</td>\n",
       "      <td>86.0</td>\n",
       "      <td>11647.0</td>\n",
       "      <td>3409.0</td>\n",
       "      <td>2250.0</td>\n",
       "      <td>1159.0</td>\n",
       "      <td>14241.0</td>\n",
       "      <td>107890.0</td>\n",
       "      <td>0.440</td>\n",
       "      <td>0.147</td>\n",
       "    </tr>\n",
       "    <tr>\n",
       "      <td>12</td>\n",
       "      <td>Citation 500 Series</td>\n",
       "      <td>7.10</td>\n",
       "      <td>207.0</td>\n",
       "      <td>8.0</td>\n",
       "      <td>1.4</td>\n",
       "      <td>269.0</td>\n",
       "      <td>72.0</td>\n",
       "      <td>51.0</td>\n",
       "      <td>11500.0</td>\n",
       "      <td>6.30</td>\n",
       "      <td>43.0</td>\n",
       "      <td>1020.0</td>\n",
       "      <td>288.0</td>\n",
       "      <td>173.0</td>\n",
       "      <td>115.0</td>\n",
       "      <td>930.0</td>\n",
       "      <td>8900.0</td>\n",
       "      <td>0.390</td>\n",
       "      <td>0.123</td>\n",
       "    </tr>\n",
       "    <tr>\n",
       "      <td>13</td>\n",
       "      <td>DC-10-10</td>\n",
       "      <td>6.80</td>\n",
       "      <td>24600.0</td>\n",
       "      <td>330.0</td>\n",
       "      <td>35.0</td>\n",
       "      <td>3550.0</td>\n",
       "      <td>1338.0</td>\n",
       "      <td>287.0</td>\n",
       "      <td>430000.0</td>\n",
       "      <td>3.75</td>\n",
       "      <td>121.0</td>\n",
       "      <td>48990.0</td>\n",
       "      <td>9798.0</td>\n",
       "      <td>7593.0</td>\n",
       "      <td>2205.0</td>\n",
       "      <td>44790.0</td>\n",
       "      <td>335000.0</td>\n",
       "      <td>0.300</td>\n",
       "      <td>0.112</td>\n",
       "    </tr>\n",
       "    <tr>\n",
       "      <td>14</td>\n",
       "      <td>DC-10-40</td>\n",
       "      <td>7.20</td>\n",
       "      <td>33166.0</td>\n",
       "      <td>308.0</td>\n",
       "      <td>35.0</td>\n",
       "      <td>3610.0</td>\n",
       "      <td>1338.0</td>\n",
       "      <td>287.0</td>\n",
       "      <td>565000.0</td>\n",
       "      <td>3.75</td>\n",
       "      <td>157.0</td>\n",
       "      <td>57748.0</td>\n",
       "      <td>10533.0</td>\n",
       "      <td>8306.0</td>\n",
       "      <td>2227.0</td>\n",
       "      <td>46522.0</td>\n",
       "      <td>391000.0</td>\n",
       "      <td>0.273</td>\n",
       "      <td>0.112</td>\n",
       "    </tr>\n",
       "    <tr>\n",
       "      <td>15</td>\n",
       "      <td>DC-8-55</td>\n",
       "      <td>7.00</td>\n",
       "      <td>14557.0</td>\n",
       "      <td>165.0</td>\n",
       "      <td>30.6</td>\n",
       "      <td>2883.0</td>\n",
       "      <td>559.0</td>\n",
       "      <td>352.0</td>\n",
       "      <td>325000.0</td>\n",
       "      <td>3.75</td>\n",
       "      <td>113.0</td>\n",
       "      <td>34909.0</td>\n",
       "      <td>4952.0</td>\n",
       "      <td>3212.0</td>\n",
       "      <td>1740.0</td>\n",
       "      <td>22246.0</td>\n",
       "      <td>224000.0</td>\n",
       "      <td>0.230</td>\n",
       "      <td>0.111</td>\n",
       "    </tr>\n",
       "    <tr>\n",
       "      <td>16</td>\n",
       "      <td>DC-8-62</td>\n",
       "      <td>7.50</td>\n",
       "      <td>15050.0</td>\n",
       "      <td>189.0</td>\n",
       "      <td>30.6</td>\n",
       "      <td>2927.0</td>\n",
       "      <td>559.0</td>\n",
       "      <td>352.0</td>\n",
       "      <td>335000.0</td>\n",
       "      <td>3.75</td>\n",
       "      <td>114.0</td>\n",
       "      <td>36247.0</td>\n",
       "      <td>4930.0</td>\n",
       "      <td>3190.0</td>\n",
       "      <td>1740.0</td>\n",
       "      <td>23704.0</td>\n",
       "      <td>195000.0</td>\n",
       "      <td>0.200</td>\n",
       "      <td>0.111</td>\n",
       "    </tr>\n",
       "    <tr>\n",
       "      <td>17</td>\n",
       "      <td>DC-9-10</td>\n",
       "      <td>8.60</td>\n",
       "      <td>2814.0</td>\n",
       "      <td>80.0</td>\n",
       "      <td>24.0</td>\n",
       "      <td>934.0</td>\n",
       "      <td>276.0</td>\n",
       "      <td>161.0</td>\n",
       "      <td>86300.0</td>\n",
       "      <td>3.75</td>\n",
       "      <td>92.0</td>\n",
       "      <td>9366.0</td>\n",
       "      <td>2619.0</td>\n",
       "      <td>1527.0</td>\n",
       "      <td>1092.0</td>\n",
       "      <td>9452.0</td>\n",
       "      <td>71800.0</td>\n",
       "      <td>0.254</td>\n",
       "      <td>0.116</td>\n",
       "    </tr>\n",
       "    <tr>\n",
       "      <td>18</td>\n",
       "      <td>DC-9-30</td>\n",
       "      <td>8.70</td>\n",
       "      <td>3759.0</td>\n",
       "      <td>110.0</td>\n",
       "      <td>24.5</td>\n",
       "      <td>1001.0</td>\n",
       "      <td>276.0</td>\n",
       "      <td>161.0</td>\n",
       "      <td>108000.0</td>\n",
       "      <td>3.75</td>\n",
       "      <td>108.0</td>\n",
       "      <td>11391.0</td>\n",
       "      <td>2790.0</td>\n",
       "      <td>1635.0</td>\n",
       "      <td>1155.0</td>\n",
       "      <td>11118.0</td>\n",
       "      <td>87000.0</td>\n",
       "      <td>0.204</td>\n",
       "      <td>0.111</td>\n",
       "    </tr>\n",
       "    <tr>\n",
       "      <td>19</td>\n",
       "      <td>F-28</td>\n",
       "      <td>7.27</td>\n",
       "      <td>1656.0</td>\n",
       "      <td>60.0</td>\n",
       "      <td>16.0</td>\n",
       "      <td>822.0</td>\n",
       "      <td>210.0</td>\n",
       "      <td>132.0</td>\n",
       "      <td>62000.0</td>\n",
       "      <td>5.14</td>\n",
       "      <td>75.0</td>\n",
       "      <td>7526.0</td>\n",
       "      <td>1477.0</td>\n",
       "      <td>809.0</td>\n",
       "      <td>668.0</td>\n",
       "      <td>6909.0</td>\n",
       "      <td>47600.0</td>\n",
       "      <td>0.361</td>\n",
       "      <td>0.129</td>\n",
       "    </tr>\n",
       "    <tr>\n",
       "      <td>20</td>\n",
       "      <td>KC-135A</td>\n",
       "      <td>7.00</td>\n",
       "      <td>7909.0</td>\n",
       "      <td>4420.0</td>\n",
       "      <td>35.0</td>\n",
       "      <td>2453.0</td>\n",
       "      <td>500.0</td>\n",
       "      <td>312.0</td>\n",
       "      <td>275000.0</td>\n",
       "      <td>3.00</td>\n",
       "      <td>112.0</td>\n",
       "      <td>24719.0</td>\n",
       "      <td>4958.0</td>\n",
       "      <td>3192.0</td>\n",
       "      <td>1766.0</td>\n",
       "      <td>17850.0</td>\n",
       "      <td>190380.0</td>\n",
       "      <td>0.331</td>\n",
       "      <td>0.148</td>\n",
       "    </tr>\n",
       "    <tr>\n",
       "      <td>21</td>\n",
       "      <td>L-1011</td>\n",
       "      <td>6.90</td>\n",
       "      <td>25258.0</td>\n",
       "      <td>330.0</td>\n",
       "      <td>35.0</td>\n",
       "      <td>3456.0</td>\n",
       "      <td>1282.0</td>\n",
       "      <td>550.0</td>\n",
       "      <td>430000.0</td>\n",
       "      <td>3.75</td>\n",
       "      <td>124.0</td>\n",
       "      <td>47401.0</td>\n",
       "      <td>8570.0</td>\n",
       "      <td>6848.0</td>\n",
       "      <td>1722.0</td>\n",
       "      <td>49432.0</td>\n",
       "      <td>325000.0</td>\n",
       "      <td>0.298</td>\n",
       "      <td>0.108</td>\n",
       "    </tr>\n",
       "    <tr>\n",
       "      <td>22</td>\n",
       "      <td>MDAT 30</td>\n",
       "      <td>9.00</td>\n",
       "      <td>500.0</td>\n",
       "      <td>30.0</td>\n",
       "      <td>4.9</td>\n",
       "      <td>342.0</td>\n",
       "      <td>112.0</td>\n",
       "      <td>104.0</td>\n",
       "      <td>34480.0</td>\n",
       "      <td>3.75</td>\n",
       "      <td>101.0</td>\n",
       "      <td>3143.0</td>\n",
       "      <td>1010.0</td>\n",
       "      <td>405.0</td>\n",
       "      <td>605.0</td>\n",
       "      <td>4276.0</td>\n",
       "      <td>27450.0</td>\n",
       "      <td>0.300</td>\n",
       "      <td>0.143</td>\n",
       "    </tr>\n",
       "    <tr>\n",
       "      <td>23</td>\n",
       "      <td>MDAT 50</td>\n",
       "      <td>9.00</td>\n",
       "      <td>796.0</td>\n",
       "      <td>50.0</td>\n",
       "      <td>4.9</td>\n",
       "      <td>464.0</td>\n",
       "      <td>138.0</td>\n",
       "      <td>119.0</td>\n",
       "      <td>46850.0</td>\n",
       "      <td>3.75</td>\n",
       "      <td>101.0</td>\n",
       "      <td>4360.0</td>\n",
       "      <td>1193.0</td>\n",
       "      <td>500.0</td>\n",
       "      <td>693.0</td>\n",
       "      <td>5692.0</td>\n",
       "      <td>37760.0</td>\n",
       "      <td>0.300</td>\n",
       "      <td>0.143</td>\n",
       "    </tr>\n",
       "    <tr>\n",
       "      <td>24</td>\n",
       "      <td>MDAT 70</td>\n",
       "      <td>9.00</td>\n",
       "      <td>1188.0</td>\n",
       "      <td>70.0</td>\n",
       "      <td>4.9</td>\n",
       "      <td>605.0</td>\n",
       "      <td>177.0</td>\n",
       "      <td>147.0</td>\n",
       "      <td>61000.0</td>\n",
       "      <td>3.75</td>\n",
       "      <td>101.0</td>\n",
       "      <td>5910.0</td>\n",
       "      <td>1505.0</td>\n",
       "      <td>645.0</td>\n",
       "      <td>860.0</td>\n",
       "      <td>7118.0</td>\n",
       "      <td>49460.0</td>\n",
       "      <td>0.300</td>\n",
       "      <td>0.143</td>\n",
       "    </tr>\n",
       "    <tr>\n",
       "      <td>25</td>\n",
       "      <td>SCAT-15</td>\n",
       "      <td>1.60</td>\n",
       "      <td>14215.0</td>\n",
       "      <td>234.0</td>\n",
       "      <td>0.0</td>\n",
       "      <td>10744.0</td>\n",
       "      <td>496.0</td>\n",
       "      <td>230.0</td>\n",
       "      <td>631000.0</td>\n",
       "      <td>3.75</td>\n",
       "      <td>59.0</td>\n",
       "      <td>83940.0</td>\n",
       "      <td>8590.0</td>\n",
       "      <td>5320.0</td>\n",
       "      <td>3270.0</td>\n",
       "      <td>54322.0</td>\n",
       "      <td>364550.0</td>\n",
       "      <td>0.096</td>\n",
       "      <td>0.029</td>\n",
       "    </tr>\n",
       "  </tbody>\n",
       "</table>\n",
       "</div>"
      ],
      "text/plain": [
       "               aircraft     AR      I_W      N_p  Omega C/4      S_W     S_h  \\\n",
       "0               707-320   7.30  14055.0    162.0       35.0   2892.0   625.0   \n",
       "1               727-100   7.70   6192.0    138.0       32.0   1520.0   377.0   \n",
       "2               727-200   7.70   7018.0    158.0       32.0   1520.0   377.0   \n",
       "3               737-200   7.80   2740.0    115.0       25.0    964.0   312.0   \n",
       "4                   747   7.70  59172.0    435.0       37.5   4960.0  1470.0   \n",
       "5                   AST   7.00   6583.0   4563.0       25.0   1890.0   730.0   \n",
       "6               BAC-111   8.60   3512.0     99.0       22.2   1014.0   258.0   \n",
       "7                C-130A   9.70   5007.0   3339.0        0.0   1808.0   545.0   \n",
       "8                C-133B  12.10  14703.0   6900.0        0.0   2673.0   801.0   \n",
       "9                C-141A   8.50  16232.0   5096.0       25.0   3000.0   483.0   \n",
       "10                 C-5A   7.70  50237.0  16507.0       24.5   6200.0   966.0   \n",
       "11                C130E   9.70   5550.0   3339.0        0.0   1808.0   545.0   \n",
       "12  Citation 500 Series   7.10    207.0      8.0        1.4    269.0    72.0   \n",
       "13             DC-10-10   6.80  24600.0    330.0       35.0   3550.0  1338.0   \n",
       "14             DC-10-40   7.20  33166.0    308.0       35.0   3610.0  1338.0   \n",
       "15              DC-8-55   7.00  14557.0    165.0       30.6   2883.0   559.0   \n",
       "16              DC-8-62   7.50  15050.0    189.0       30.6   2927.0   559.0   \n",
       "17              DC-9-10   8.60   2814.0     80.0       24.0    934.0   276.0   \n",
       "18              DC-9-30   8.70   3759.0    110.0       24.5   1001.0   276.0   \n",
       "19                 F-28   7.27   1656.0     60.0       16.0    822.0   210.0   \n",
       "20              KC-135A   7.00   7909.0   4420.0       35.0   2453.0   500.0   \n",
       "21               L-1011   6.90  25258.0    330.0       35.0   3456.0  1282.0   \n",
       "22              MDAT 30   9.00    500.0     30.0        4.9    342.0   112.0   \n",
       "23              MDAT 50   9.00    796.0     50.0        4.9    464.0   138.0   \n",
       "24              MDAT 70   9.00   1188.0     70.0        4.9    605.0   177.0   \n",
       "25              SCAT-15   1.60  14215.0    234.0        0.0  10744.0   496.0   \n",
       "\n",
       "      S_v      TOGW     U    W/S      W_1      W_2    W_2A    W_2B       W_3  \\\n",
       "0   312.0  312000.0  3.75  108.0  28647.0   6004.0  4043.0  1961.0   22299.0   \n",
       "1   384.0  161000.0  3.75  106.0  17682.0   4148.0  1999.0  2149.0   17589.0   \n",
       "2   384.0  175000.0  3.75  115.0  18529.0   4142.0  1921.0  2221.0   22415.0   \n",
       "3   224.0  104000.0  3.75  108.0  11164.0   2777.0  1606.0  1171.0   11920.0   \n",
       "4   830.0  775000.0  3.75  156.0  88741.0  11958.0  8017.0  3941.0   68452.0   \n",
       "5   648.0  163500.0  5.10   87.0  20560.0   8730.0  5127.0  2602.0   29025.0   \n",
       "6   180.0   99650.0  3.75   98.0   9817.0   2470.0  1610.0   860.0   11274.0   \n",
       "7   300.0  108000.0  4.50   60.0  10593.0   3190.0  2106.0  1084.0   14045.0   \n",
       "8   537.0  286000.0  3.75  107.0  27064.0   6147.0  3721.0  2426.0   32119.0   \n",
       "9   416.0  316100.0  3.75  105.0  34262.0   5745.0  3155.0  2590.0   28578.0   \n",
       "10  961.0  728000.0  3.75  117.0  81782.0  12344.0  6788.0  5556.0  115216.0   \n",
       "11  300.0  155000.0  3.75   86.0  11647.0   3409.0  2250.0  1159.0   14241.0   \n",
       "12   51.0   11500.0  6.30   43.0   1020.0    288.0   173.0   115.0     930.0   \n",
       "13  287.0  430000.0  3.75  121.0  48990.0   9798.0  7593.0  2205.0   44790.0   \n",
       "14  287.0  565000.0  3.75  157.0  57748.0  10533.0  8306.0  2227.0   46522.0   \n",
       "15  352.0  325000.0  3.75  113.0  34909.0   4952.0  3212.0  1740.0   22246.0   \n",
       "16  352.0  335000.0  3.75  114.0  36247.0   4930.0  3190.0  1740.0   23704.0   \n",
       "17  161.0   86300.0  3.75   92.0   9366.0   2619.0  1527.0  1092.0    9452.0   \n",
       "18  161.0  108000.0  3.75  108.0  11391.0   2790.0  1635.0  1155.0   11118.0   \n",
       "19  132.0   62000.0  5.14   75.0   7526.0   1477.0   809.0   668.0    6909.0   \n",
       "20  312.0  275000.0  3.00  112.0  24719.0   4958.0  3192.0  1766.0   17850.0   \n",
       "21  550.0  430000.0  3.75  124.0  47401.0   8570.0  6848.0  1722.0   49432.0   \n",
       "22  104.0   34480.0  3.75  101.0   3143.0   1010.0   405.0   605.0    4276.0   \n",
       "23  119.0   46850.0  3.75  101.0   4360.0   1193.0   500.0   693.0    5692.0   \n",
       "24  147.0   61000.0  3.75  101.0   5910.0   1505.0   645.0   860.0    7118.0   \n",
       "25  230.0  631000.0  3.75   59.0  83940.0   8590.0  5320.0  3270.0   54322.0   \n",
       "\n",
       "         ZFW  lambda    t/c  \n",
       "0   190000.0   0.300  0.120  \n",
       "1   118000.0   0.372  0.123  \n",
       "2   140000.0   0.372  0.123  \n",
       "3    85000.0   0.340  0.133  \n",
       "4   526500.0   0.356  0.122  \n",
       "5   143000.0   0.300  0.100  \n",
       "6    81000.0   0.333  0.112  \n",
       "7    87290.0   0.440  0.147  \n",
       "8   215000.0   0.226  0.163  \n",
       "9   204500.0   0.335  0.121  \n",
       "10  542800.0   0.338  0.119  \n",
       "11  107890.0   0.440  0.147  \n",
       "12    8900.0   0.390  0.123  \n",
       "13  335000.0   0.300  0.112  \n",
       "14  391000.0   0.273  0.112  \n",
       "15  224000.0   0.230  0.111  \n",
       "16  195000.0   0.200  0.111  \n",
       "17   71800.0   0.254  0.116  \n",
       "18   87000.0   0.204  0.111  \n",
       "19   47600.0   0.361  0.129  \n",
       "20  190380.0   0.331  0.148  \n",
       "21  325000.0   0.298  0.108  \n",
       "22   27450.0   0.300  0.143  \n",
       "23   37760.0   0.300  0.143  \n",
       "24   49460.0   0.300  0.143  \n",
       "25  364550.0   0.096  0.029  "
      ]
     },
     "execution_count": 24,
     "metadata": {},
     "output_type": "execute_result"
    }
   ],
   "source": [
    "df_aircraft_tidy = (\n",
    "    df_aircraft\n",
    "    >> gr.tf_gather(\"aircraft\", \"value\", aircraft)\n",
    "    >> gr.tf_select(\"Symbol\", \"aircraft\", \"value\")\n",
    "    >> gr.tf_spread(\"Symbol\", \"value\")\n",
    ")\n",
    "df_aircraft_tidy"
   ]
  },
  {
   "cell_type": "markdown",
   "metadata": {},
   "source": [
    "Now that the data are tidy, we can run all kinds of analyses:\n"
   ]
  },
  {
   "cell_type": "code",
   "execution_count": 27,
   "metadata": {},
   "outputs": [
    {
     "data": {
      "image/png": "[encoded data removed]",
      "text/plain": [
       "<Figure size 640x480 with 1 Axes>"
      ]
     },
     "metadata": {},
     "output_type": "display_data"
    },
    {
     "data": {
      "text/plain": [
       "<ggplot: (8767544958561)>"
      ]
     },
     "execution_count": 27,
     "metadata": {},
     "output_type": "execute_result"
    }
   ],
   "source": [
    "(\n",
    "    df_aircraft_tidy\n",
    "    >> gr.tf_mutate(aircraft=gr.fct_reorder(DF.aircraft, DF.TOGW))\n",
    "    \n",
    "    >> pt.ggplot(pt.aes(\"aircraft\", \"TOGW\"))\n",
    "    + pt.geom_col()\n",
    "    + pt.scale_y_log10()\n",
    "    + pt.theme(axis_text_x=pt.element_text(angle=270))\n",
    ")"
   ]
  },
  {
   "cell_type": "markdown",
   "metadata": {},
   "source": []
  },
  {
   "cell_type": "code",
   "execution_count": 31,
   "metadata": {},
   "outputs": [
    {
     "data": {
      "image/png": "[encoded data removed]",
      "text/plain": [
       "<Figure size 640x480 with 1 Axes>"
      ]
     },
     "metadata": {},
     "output_type": "display_data"
    },
    {
     "data": {
      "text/plain": [
       "<ggplot: (8767544973853)>"
      ]
     },
     "execution_count": 31,
     "metadata": {},
     "output_type": "execute_result"
    }
   ],
   "source": [
    "# df_aircraft_tidy.columns\n",
    "(\n",
    "    df_aircraft_tidy\n",
    "    >> pt.ggplot(pt.aes(\"TOGW\", \"W_1\"))\n",
    "    + pt.geom_point()\n",
    ")"
   ]
  },
  {
   "cell_type": "markdown",
   "metadata": {},
   "source": [
    "## Aside: Plotly is Amazing\n",
    "\n",
    "If you have some extra time on your hands, I *highly* recommend learning the [Plotly](https://plotly.com/python/plotly-express/) library for Python. It's extremely useful for interactive data exploration.\n"
   ]
  },
  {
   "cell_type": "code",
   "execution_count": 58,
   "metadata": {},
   "outputs": [],
   "source": [
    "import plotly.express as px\n"
   ]
  },
  {
   "cell_type": "markdown",
   "metadata": {},
   "source": [
    "One of the *most important features* of plotly is that plots are interactive, and you can assign variables to be shown on mouse hover:\n"
   ]
  },
  {
   "cell_type": "code",
   "execution_count": 61,
   "metadata": {},
   "outputs": [
    {
     "data": {
      "application/vnd.plotly.v1+json": {
       "config": {
        "plotlyServerURL": "https://plot.ly"
       },
       "data": [
        {
         "customdata": [
          [
           "707-320"
          ],
          [
           "727-100"
          ],
          [
           "727-200"
          ],
          [
           "737-200"
          ],
          [
           "747"
          ],
          [
           "AST"
          ],
          [
           "BAC-111"
          ],
          [
           "C-130A"
          ],
          [
           "C-133B"
          ],
          [
           "C-141A"
          ],
          [
           "C-5A"
          ],
          [
           "C130E"
          ],
          [
           "Citation 500 Series"
          ],
          [
           "DC-10-10"
          ],
          [
           "DC-10-40"
          ],
          [
           "DC-8-55"
          ],
          [
           "DC-8-62"
          ],
          [
           "DC-9-10"
          ],
          [
           "DC-9-30"
          ],
          [
           "F-28"
          ],
          [
           "KC-135A"
          ],
          [
           "L-1011"
          ],
          [
           "MDAT 30"
          ],
          [
           "MDAT 50"
          ],
          [
           "MDAT 70"
          ],
          [
           "SCAT-15"
          ]
         ],
         "hovertemplate": "TOGW=%{x}<br>W_1=%{y}<br>aircraft=%{customdata[0]}<extra></extra>",
         "legendgroup": "",
         "marker": {
          "color": "#636efa",
          "symbol": "circle"
         },
         "mode": "markers",
         "name": "",
         "orientation": "v",
         "showlegend": false,
         "type": "scatter",
         "x": [
          312000,
          161000,
          175000,
          104000,
          775000,
          163500,
          99650,
          108000,
          286000,
          316100,
          728000,
          155000,
          11500,
          430000,
          565000,
          325000,
          335000,
          86300,
          108000,
          62000,
          275000,
          430000,
          34480,
          46850,
          61000,
          631000
         ],
         "xaxis": "x",
         "y": [
          28647,
          17682,
          18529,
          11164,
          88741,
          20560,
          9817,
          10593,
          27064,
          34262,
          81782,
          11647,
          1020,
          48990,
          57748,
          34909,
          36247,
          9366,
          11391,
          7526,
          24719,
          47401,
          3143,
          4360,
          5910,
          83940
         ],
         "yaxis": "y"
        }
       ],
       "layout": {
        "autosize": true,
        "legend": {
         "tracegroupgap": 0
        },
        "margin": {
         "t": 60
        },
        "template": {
         "data": {
          "bar": [
           {
            "error_x": {
             "color": "#2a3f5f"
            },
            "error_y": {
             "color": "#2a3f5f"
            },
            "marker": {
             "line": {
              "color": "#E5ECF6",
              "width": 0.5
             }
            },
            "type": "bar"
           }
          ],
          "barpolar": [
           {
            "marker": {
             "line": {
              "color": "#E5ECF6",
              "width": 0.5
             }
            },
            "type": "barpolar"
           }
          ],
          "carpet": [
           {
            "aaxis": {
             "endlinecolor": "#2a3f5f",
             "gridcolor": "white",
             "linecolor": "white",
             "minorgridcolor": "white",
             "startlinecolor": "#2a3f5f"
            },
            "baxis": {
             "endlinecolor": "#2a3f5f",
             "gridcolor": "white",
             "linecolor": "white",
             "minorgridcolor": "white",
             "startlinecolor": "#2a3f5f"
            },
            "type": "carpet"
           }
          ],
          "choropleth": [
           {
            "colorbar": {
             "outlinewidth": 0,
             "ticks": ""
            },
            "type": "choropleth"
           }
          ],
          "contour": [
           {
            "colorbar": {
             "outlinewidth": 0,
             "ticks": ""
            },
            "colorscale": [
             [
              0,
              "#0d0887"
             ],
             [
              0.1111111111111111,
              "#46039f"
             ],
             [
              0.2222222222222222,
              "#7201a8"
             ],
             [
              0.3333333333333333,
              "#9c179e"
             ],
             [
              0.4444444444444444,
              "#bd3786"
             ],
             [
              0.5555555555555556,
              "#d8576b"
             ],
             [
              0.6666666666666666,
              "#ed7953"
             ],
             [
              0.7777777777777778,
              "#fb9f3a"
             ],
             [
              0.8888888888888888,
              "#fdca26"
             ],
             [
              1,
              "#f0f921"
             ]
            ],
            "type": "contour"
           }
          ],
          "contourcarpet": [
           {
            "colorbar": {
             "outlinewidth": 0,
             "ticks": ""
            },
            "type": "contourcarpet"
           }
          ],
          "heatmap": [
           {
            "colorbar": {
             "outlinewidth": 0,
             "ticks": ""
            },
            "colorscale": [
             [
              0,
              "#0d0887"
             ],
             [
              0.1111111111111111,
              "#46039f"
             ],
             [
              0.2222222222222222,
              "#7201a8"
             ],
             [
              0.3333333333333333,
              "#9c179e"
             ],
             [
              0.4444444444444444,
              "#bd3786"
             ],
             [
              0.5555555555555556,
              "#d8576b"
             ],
             [
              0.6666666666666666,
              "#ed7953"
             ],
             [
              0.7777777777777778,
              "#fb9f3a"
             ],
             [
              0.8888888888888888,
              "#fdca26"
             ],
             [
              1,
              "#f0f921"
             ]
            ],
            "type": "heatmap"
           }
          ],
          "heatmapgl": [
           {
            "colorbar": {
             "outlinewidth": 0,
             "ticks": ""
            },
            "colorscale": [
             [
              0,
              "#0d0887"
             ],
             [
              0.1111111111111111,
              "#46039f"
             ],
             [
              0.2222222222222222,
              "#7201a8"
             ],
             [
              0.3333333333333333,
              "#9c179e"
             ],
             [
              0.4444444444444444,
              "#bd3786"
             ],
             [
              0.5555555555555556,
              "#d8576b"
             ],
             [
              0.6666666666666666,
              "#ed7953"
             ],
             [
              0.7777777777777778,
              "#fb9f3a"
             ],
             [
              0.8888888888888888,
              "#fdca26"
             ],
             [
              1,
              "#f0f921"
             ]
            ],
            "type": "heatmapgl"
           }
          ],
          "histogram": [
           {
            "marker": {
             "colorbar": {
              "outlinewidth": 0,
              "ticks": ""
             }
            },
            "type": "histogram"
           }
          ],
          "histogram2d": [
           {
            "colorbar": {
             "outlinewidth": 0,
             "ticks": ""
            },
            "colorscale": [
             [
              0,
              "#0d0887"
             ],
             [
              0.1111111111111111,
              "#46039f"
             ],
             [
              0.2222222222222222,
              "#7201a8"
             ],
             [
              0.3333333333333333,
              "#9c179e"
             ],
             [
              0.4444444444444444,
              "#bd3786"
             ],
             [
              0.5555555555555556,
              "#d8576b"
             ],
             [
              0.6666666666666666,
              "#ed7953"
             ],
             [
              0.7777777777777778,
              "#fb9f3a"
             ],
             [
              0.8888888888888888,
              "#fdca26"
             ],
             [
              1,
              "#f0f921"
             ]
            ],
            "type": "histogram2d"
           }
          ],
          "histogram2dcontour": [
           {
            "colorbar": {
             "outlinewidth": 0,
             "ticks": ""
            },
            "colorscale": [
             [
              0,
              "#0d0887"
             ],
             [
              0.1111111111111111,
              "#46039f"
             ],
             [
              0.2222222222222222,
              "#7201a8"
             ],
             [
              0.3333333333333333,
              "#9c179e"
             ],
             [
              0.4444444444444444,
              "#bd3786"
             ],
             [
              0.5555555555555556,
              "#d8576b"
             ],
             [
              0.6666666666666666,
              "#ed7953"
             ],
             [
              0.7777777777777778,
              "#fb9f3a"
             ],
             [
              0.8888888888888888,
              "#fdca26"
             ],
             [
              1,
              "#f0f921"
             ]
            ],
            "type": "histogram2dcontour"
           }
          ],
          "mesh3d": [
           {
            "colorbar": {
             "outlinewidth": 0,
             "ticks": ""
            },
            "type": "mesh3d"
           }
          ],
          "parcoords": [
           {
            "line": {
             "colorbar": {
              "outlinewidth": 0,
              "ticks": ""
             }
            },
            "type": "parcoords"
           }
          ],
          "pie": [
           {
            "automargin": true,
            "type": "pie"
           }
          ],
          "scatter": [
           {
            "marker": {
             "colorbar": {
              "outlinewidth": 0,
              "ticks": ""
             }
            },
            "type": "scatter"
           }
          ],
          "scatter3d": [
           {
            "line": {
             "colorbar": {
              "outlinewidth": 0,
              "ticks": ""
             }
            },
            "marker": {
             "colorbar": {
              "outlinewidth": 0,
              "ticks": ""
             }
            },
            "type": "scatter3d"
           }
          ],
          "scattercarpet": [
           {
            "marker": {
             "colorbar": {
              "outlinewidth": 0,
              "ticks": ""
             }
            },
            "type": "scattercarpet"
           }
          ],
          "scattergeo": [
           {
            "marker": {
             "colorbar": {
              "outlinewidth": 0,
              "ticks": ""
             }
            },
            "type": "scattergeo"
           }
          ],
          "scattergl": [
           {
            "marker": {
             "colorbar": {
              "outlinewidth": 0,
              "ticks": ""
             }
            },
            "type": "scattergl"
           }
          ],
          "scattermapbox": [
           {
            "marker": {
             "colorbar": {
              "outlinewidth": 0,
              "ticks": ""
             }
            },
            "type": "scattermapbox"
           }
          ],
          "scatterpolar": [
           {
            "marker": {
             "colorbar": {
              "outlinewidth": 0,
              "ticks": ""
             }
            },
            "type": "scatterpolar"
           }
          ],
          "scatterpolargl": [
           {
            "marker": {
             "colorbar": {
              "outlinewidth": 0,
              "ticks": ""
             }
            },
            "type": "scatterpolargl"
           }
          ],
          "scatterternary": [
           {
            "marker": {
             "colorbar": {
              "outlinewidth": 0,
              "ticks": ""
             }
            },
            "type": "scatterternary"
           }
          ],
          "surface": [
           {
            "colorbar": {
             "outlinewidth": 0,
             "ticks": ""
            },
            "colorscale": [
             [
              0,
              "#0d0887"
             ],
             [
              0.1111111111111111,
              "#46039f"
             ],
             [
              0.2222222222222222,
              "#7201a8"
             ],
             [
              0.3333333333333333,
              "#9c179e"
             ],
             [
              0.4444444444444444,
              "#bd3786"
             ],
             [
              0.5555555555555556,
              "#d8576b"
             ],
             [
              0.6666666666666666,
              "#ed7953"
             ],
             [
              0.7777777777777778,
              "#fb9f3a"
             ],
             [
              0.8888888888888888,
              "#fdca26"
             ],
             [
              1,
              "#f0f921"
             ]
            ],
            "type": "surface"
           }
          ],
          "table": [
           {
            "cells": {
             "fill": {
              "color": "#EBF0F8"
             },
             "line": {
              "color": "white"
             }
            },
            "header": {
             "fill": {
              "color": "#C8D4E3"
             },
             "line": {
              "color": "white"
             }
            },
            "type": "table"
           }
          ]
         },
         "layout": {
          "annotationdefaults": {
           "arrowcolor": "#2a3f5f",
           "arrowhead": 0,
           "arrowwidth": 1
          },
          "autotypenumbers": "strict",
          "coloraxis": {
           "colorbar": {
            "outlinewidth": 0,
            "ticks": ""
           }
          },
          "colorscale": {
           "diverging": [
            [
             0,
             "#8e0152"
            ],
            [
             0.1,
             "#c51b7d"
            ],
            [
             0.2,
             "#de77ae"
            ],
            [
             0.3,
             "#f1b6da"
            ],
            [
             0.4,
             "#fde0ef"
            ],
            [
             0.5,
             "#f7f7f7"
            ],
            [
             0.6,
             "#e6f5d0"
            ],
            [
             0.7,
             "#b8e186"
            ],
            [
             0.8,
             "#7fbc41"
            ],
            [
             0.9,
             "#4d9221"
            ],
            [
             1,
             "#276419"
            ]
           ],
           "sequential": [
            [
             0,
             "#0d0887"
            ],
            [
             0.1111111111111111,
             "#46039f"
            ],
            [
             0.2222222222222222,
             "#7201a8"
            ],
            [
             0.3333333333333333,
             "#9c179e"
            ],
            [
             0.4444444444444444,
             "#bd3786"
            ],
            [
             0.5555555555555556,
             "#d8576b"
            ],
            [
             0.6666666666666666,
             "#ed7953"
            ],
            [
             0.7777777777777778,
             "#fb9f3a"
            ],
            [
             0.8888888888888888,
             "#fdca26"
            ],
            [
             1,
             "#f0f921"
            ]
           ],
           "sequentialminus": [
            [
             0,
             "#0d0887"
            ],
            [
             0.1111111111111111,
             "#46039f"
            ],
            [
             0.2222222222222222,
             "#7201a8"
            ],
            [
             0.3333333333333333,
             "#9c179e"
            ],
            [
             0.4444444444444444,
             "#bd3786"
            ],
            [
             0.5555555555555556,
             "#d8576b"
            ],
            [
             0.6666666666666666,
             "#ed7953"
            ],
            [
             0.7777777777777778,
             "#fb9f3a"
            ],
            [
             0.8888888888888888,
             "#fdca26"
            ],
            [
             1,
             "#f0f921"
            ]
           ]
          },
          "colorway": [
           "#636efa",
           "#EF553B",
           "#00cc96",
           "#ab63fa",
           "#FFA15A",
           "#19d3f3",
           "#FF6692",
           "#B6E880",
           "#FF97FF",
           "#FECB52"
          ],
          "font": {
           "color": "#2a3f5f"
          },
          "geo": {
           "bgcolor": "white",
           "lakecolor": "white",
           "landcolor": "#E5ECF6",
           "showlakes": true,
           "showland": true,
           "subunitcolor": "white"
          },
          "hoverlabel": {
           "align": "left"
          },
          "hovermode": "closest",
          "mapbox": {
           "style": "light"
          },
          "paper_bgcolor": "white",
          "plot_bgcolor": "#E5ECF6",
          "polar": {
           "angularaxis": {
            "gridcolor": "white",
            "linecolor": "white",
            "ticks": ""
           },
           "bgcolor": "#E5ECF6",
           "radialaxis": {
            "gridcolor": "white",
            "linecolor": "white",
            "ticks": ""
           }
          },
          "scene": {
           "xaxis": {
            "backgroundcolor": "#E5ECF6",
            "gridcolor": "white",
            "gridwidth": 2,
            "linecolor": "white",
            "showbackground": true,
            "ticks": "",
            "zerolinecolor": "white"
           },
           "yaxis": {
            "backgroundcolor": "#E5ECF6",
            "gridcolor": "white",
            "gridwidth": 2,
            "linecolor": "white",
            "showbackground": true,
            "ticks": "",
            "zerolinecolor": "white"
           },
           "zaxis": {
            "backgroundcolor": "#E5ECF6",
            "gridcolor": "white",
            "gridwidth": 2,
            "linecolor": "white",
            "showbackground": true,
            "ticks": "",
            "zerolinecolor": "white"
           }
          },
          "shapedefaults": {
           "line": {
            "color": "#2a3f5f"
           }
          },
          "ternary": {
           "aaxis": {
            "gridcolor": "white",
            "linecolor": "white",
            "ticks": ""
           },
           "baxis": {
            "gridcolor": "white",
            "linecolor": "white",
            "ticks": ""
           },
           "bgcolor": "#E5ECF6",
           "caxis": {
            "gridcolor": "white",
            "linecolor": "white",
            "ticks": ""
           }
          },
          "title": {
           "x": 0.05
          },
          "xaxis": {
           "automargin": true,
           "gridcolor": "white",
           "linecolor": "white",
           "ticks": "",
           "title": {
            "standoff": 15
           },
           "zerolinecolor": "white",
           "zerolinewidth": 2
          },
          "yaxis": {
           "automargin": true,
           "gridcolor": "white",
           "linecolor": "white",
           "ticks": "",
           "title": {
            "standoff": 15
           },
           "zerolinecolor": "white",
           "zerolinewidth": 2
          }
         }
        },
        "xaxis": {
         "anchor": "y",
         "autorange": true,
         "domain": [
          0,
          1
         ],
         "range": [
          -36226.715072608924,
          822726.7150726089
         ],
         "title": {
          "text": "TOGW"
         },
         "type": "linear"
        },
        "yaxis": {
         "anchor": "x",
         "autorange": true,
         "domain": [
          0,
          1
         ],
         "range": [
          -5199.628913443831,
          94960.62891344383
         ],
         "title": {
          "text": "W_1"
         },
         "type": "linear"
        }
       }
      },
      "image/png": "[encoded data removed]",
      "text/html": [
       "<div>                            <div id=\"deb7d927-32ee-4408-ac32-bde1d37a77ae\" class=\"plotly-graph-div\" style=\"height:525px; width:100%;\"></div>            <script type=\"text/javascript\">                require([\"plotly\"], function(Plotly) {                    window.PLOTLYENV=window.PLOTLYENV || {};                                    if (document.getElementById(\"deb7d927-32ee-4408-ac32-bde1d37a77ae\")) {                    Plotly.newPlot(                        \"deb7d927-32ee-4408-ac32-bde1d37a77ae\",                        [{\"customdata\": [[\"707-320\"], [\"727-100\"], [\"727-200\"], [\"737-200\"], [\"747\"], [\"AST\"], [\"BAC-111\"], [\"C-130A\"], [\"C-133B\"], [\"C-141A\"], [\"C-5A\"], [\"C130E\"], [\"Citation 500 Series\"], [\"DC-10-10\"], [\"DC-10-40\"], [\"DC-8-55\"], [\"DC-8-62\"], [\"DC-9-10\"], [\"DC-9-30\"], [\"F-28\"], [\"KC-135A\"], [\"L-1011\"], [\"MDAT 30\"], [\"MDAT 50\"], [\"MDAT 70\"], [\"SCAT-15\"]], \"hovertemplate\": \"TOGW=%{x}<br>W_1=%{y}<br>aircraft=%{customdata[0]}<extra></extra>\", \"legendgroup\": \"\", \"marker\": {\"color\": \"#636efa\", \"symbol\": \"circle\"}, \"mode\": \"markers\", \"name\": \"\", \"orientation\": \"v\", \"showlegend\": false, \"type\": \"scatter\", \"x\": [312000.0, 161000.0, 175000.0, 104000.0, 775000.0, 163500.0, 99650.0, 108000.0, 286000.0, 316100.0, 728000.0, 155000.0, 11500.0, 430000.0, 565000.0, 325000.0, 335000.0, 86300.0, 108000.0, 62000.0, 275000.0, 430000.0, 34480.0, 46850.0, 61000.0, 631000.0], \"xaxis\": \"x\", \"y\": [28647.0, 17682.0, 18529.0, 11164.0, 88741.0, 20560.0, 9817.0, 10593.0, 27064.0, 34262.0, 81782.0, 11647.0, 1020.0, 48990.0, 57748.0, 34909.0, 36247.0, 9366.0, 11391.0, 7526.0, 24719.0, 47401.0, 3143.0, 4360.0, 5910.0, 83940.0], \"yaxis\": \"y\"}],                        {\"legend\": {\"tracegroupgap\": 0}, \"margin\": {\"t\": 60}, \"template\": {\"data\": {\"bar\": [{\"error_x\": {\"color\": \"#2a3f5f\"}, \"error_y\": {\"color\": \"#2a3f5f\"}, \"marker\": {\"line\": {\"color\": \"#E5ECF6\", \"width\": 0.5}}, \"type\": \"bar\"}], \"barpolar\": [{\"marker\": {\"line\": {\"color\": \"#E5ECF6\", \"width\": 0.5}}, \"type\": \"barpolar\"}], \"carpet\": [{\"aaxis\": {\"endlinecolor\": \"#2a3f5f\", \"gridcolor\": \"white\", \"linecolor\": \"white\", \"minorgridcolor\": \"white\", \"startlinecolor\": \"#2a3f5f\"}, \"baxis\": {\"endlinecolor\": \"#2a3f5f\", \"gridcolor\": \"white\", \"linecolor\": \"white\", \"minorgridcolor\": \"white\", \"startlinecolor\": \"#2a3f5f\"}, \"type\": \"carpet\"}], \"choropleth\": [{\"colorbar\": {\"outlinewidth\": 0, \"ticks\": \"\"}, \"type\": \"choropleth\"}], \"contour\": [{\"colorbar\": {\"outlinewidth\": 0, \"ticks\": \"\"}, \"colorscale\": [[0.0, \"#0d0887\"], [0.1111111111111111, \"#46039f\"], [0.2222222222222222, \"#7201a8\"], [0.3333333333333333, \"#9c179e\"], [0.4444444444444444, \"#bd3786\"], [0.5555555555555556, \"#d8576b\"], [0.6666666666666666, \"#ed7953\"], [0.7777777777777778, \"#fb9f3a\"], [0.8888888888888888, \"#fdca26\"], [1.0, \"#f0f921\"]], \"type\": \"contour\"}], \"contourcarpet\": [{\"colorbar\": {\"outlinewidth\": 0, \"ticks\": \"\"}, \"type\": \"contourcarpet\"}], \"heatmap\": [{\"colorbar\": {\"outlinewidth\": 0, \"ticks\": \"\"}, \"colorscale\": [[0.0, \"#0d0887\"], [0.1111111111111111, \"#46039f\"], [0.2222222222222222, \"#7201a8\"], [0.3333333333333333, \"#9c179e\"], [0.4444444444444444, \"#bd3786\"], [0.5555555555555556, \"#d8576b\"], [0.6666666666666666, \"#ed7953\"], [0.7777777777777778, \"#fb9f3a\"], [0.8888888888888888, \"#fdca26\"], [1.0, \"#f0f921\"]], \"type\": \"heatmap\"}], \"heatmapgl\": [{\"colorbar\": {\"outlinewidth\": 0, \"ticks\": \"\"}, \"colorscale\": [[0.0, \"#0d0887\"], [0.1111111111111111, \"#46039f\"], [0.2222222222222222, \"#7201a8\"], [0.3333333333333333, \"#9c179e\"], [0.4444444444444444, \"#bd3786\"], [0.5555555555555556, \"#d8576b\"], [0.6666666666666666, \"#ed7953\"], [0.7777777777777778, \"#fb9f3a\"], [0.8888888888888888, \"#fdca26\"], [1.0, \"#f0f921\"]], \"type\": \"heatmapgl\"}], \"histogram\": [{\"marker\": {\"colorbar\": {\"outlinewidth\": 0, \"ticks\": \"\"}}, \"type\": \"histogram\"}], \"histogram2d\": [{\"colorbar\": {\"outlinewidth\": 0, \"ticks\": \"\"}, \"colorscale\": [[0.0, \"#0d0887\"], [0.1111111111111111, \"#46039f\"], [0.2222222222222222, \"#7201a8\"], [0.3333333333333333, \"#9c179e\"], [0.4444444444444444, \"#bd3786\"], [0.5555555555555556, \"#d8576b\"], [0.6666666666666666, \"#ed7953\"], [0.7777777777777778, \"#fb9f3a\"], [0.8888888888888888, \"#fdca26\"], [1.0, \"#f0f921\"]], \"type\": \"histogram2d\"}], \"histogram2dcontour\": [{\"colorbar\": {\"outlinewidth\": 0, \"ticks\": \"\"}, \"colorscale\": [[0.0, \"#0d0887\"], [0.1111111111111111, \"#46039f\"], [0.2222222222222222, \"#7201a8\"], [0.3333333333333333, \"#9c179e\"], [0.4444444444444444, \"#bd3786\"], [0.5555555555555556, \"#d8576b\"], [0.6666666666666666, \"#ed7953\"], [0.7777777777777778, \"#fb9f3a\"], [0.8888888888888888, \"#fdca26\"], [1.0, \"#f0f921\"]], \"type\": \"histogram2dcontour\"}], \"mesh3d\": [{\"colorbar\": {\"outlinewidth\": 0, \"ticks\": \"\"}, \"type\": \"mesh3d\"}], \"parcoords\": [{\"line\": {\"colorbar\": {\"outlinewidth\": 0, \"ticks\": \"\"}}, \"type\": \"parcoords\"}], \"pie\": [{\"automargin\": true, \"type\": \"pie\"}], \"scatter\": [{\"marker\": {\"colorbar\": {\"outlinewidth\": 0, \"ticks\": \"\"}}, \"type\": \"scatter\"}], \"scatter3d\": [{\"line\": {\"colorbar\": {\"outlinewidth\": 0, \"ticks\": \"\"}}, \"marker\": {\"colorbar\": {\"outlinewidth\": 0, \"ticks\": \"\"}}, \"type\": \"scatter3d\"}], \"scattercarpet\": [{\"marker\": {\"colorbar\": {\"outlinewidth\": 0, \"ticks\": \"\"}}, \"type\": \"scattercarpet\"}], \"scattergeo\": [{\"marker\": {\"colorbar\": {\"outlinewidth\": 0, \"ticks\": \"\"}}, \"type\": \"scattergeo\"}], \"scattergl\": [{\"marker\": {\"colorbar\": {\"outlinewidth\": 0, \"ticks\": \"\"}}, \"type\": \"scattergl\"}], \"scattermapbox\": [{\"marker\": {\"colorbar\": {\"outlinewidth\": 0, \"ticks\": \"\"}}, \"type\": \"scattermapbox\"}], \"scatterpolar\": [{\"marker\": {\"colorbar\": {\"outlinewidth\": 0, \"ticks\": \"\"}}, \"type\": \"scatterpolar\"}], \"scatterpolargl\": [{\"marker\": {\"colorbar\": {\"outlinewidth\": 0, \"ticks\": \"\"}}, \"type\": \"scatterpolargl\"}], \"scatterternary\": [{\"marker\": {\"colorbar\": {\"outlinewidth\": 0, \"ticks\": \"\"}}, \"type\": \"scatterternary\"}], \"surface\": [{\"colorbar\": {\"outlinewidth\": 0, \"ticks\": \"\"}, \"colorscale\": [[0.0, \"#0d0887\"], [0.1111111111111111, \"#46039f\"], [0.2222222222222222, \"#7201a8\"], [0.3333333333333333, \"#9c179e\"], [0.4444444444444444, \"#bd3786\"], [0.5555555555555556, \"#d8576b\"], [0.6666666666666666, \"#ed7953\"], [0.7777777777777778, \"#fb9f3a\"], [0.8888888888888888, \"#fdca26\"], [1.0, \"#f0f921\"]], \"type\": \"surface\"}], \"table\": [{\"cells\": {\"fill\": {\"color\": \"#EBF0F8\"}, \"line\": {\"color\": \"white\"}}, \"header\": {\"fill\": {\"color\": \"#C8D4E3\"}, \"line\": {\"color\": \"white\"}}, \"type\": \"table\"}]}, \"layout\": {\"annotationdefaults\": {\"arrowcolor\": \"#2a3f5f\", \"arrowhead\": 0, \"arrowwidth\": 1}, \"autotypenumbers\": \"strict\", \"coloraxis\": {\"colorbar\": {\"outlinewidth\": 0, \"ticks\": \"\"}}, \"colorscale\": {\"diverging\": [[0, \"#8e0152\"], [0.1, \"#c51b7d\"], [0.2, \"#de77ae\"], [0.3, \"#f1b6da\"], [0.4, \"#fde0ef\"], [0.5, \"#f7f7f7\"], [0.6, \"#e6f5d0\"], [0.7, \"#b8e186\"], [0.8, \"#7fbc41\"], [0.9, \"#4d9221\"], [1, \"#276419\"]], \"sequential\": [[0.0, \"#0d0887\"], [0.1111111111111111, \"#46039f\"], [0.2222222222222222, \"#7201a8\"], [0.3333333333333333, \"#9c179e\"], [0.4444444444444444, \"#bd3786\"], [0.5555555555555556, \"#d8576b\"], [0.6666666666666666, \"#ed7953\"], [0.7777777777777778, \"#fb9f3a\"], [0.8888888888888888, \"#fdca26\"], [1.0, \"#f0f921\"]], \"sequentialminus\": [[0.0, \"#0d0887\"], [0.1111111111111111, \"#46039f\"], [0.2222222222222222, \"#7201a8\"], [0.3333333333333333, \"#9c179e\"], [0.4444444444444444, \"#bd3786\"], [0.5555555555555556, \"#d8576b\"], [0.6666666666666666, \"#ed7953\"], [0.7777777777777778, \"#fb9f3a\"], [0.8888888888888888, \"#fdca26\"], [1.0, \"#f0f921\"]]}, \"colorway\": [\"#636efa\", \"#EF553B\", \"#00cc96\", \"#ab63fa\", \"#FFA15A\", \"#19d3f3\", \"#FF6692\", \"#B6E880\", \"#FF97FF\", \"#FECB52\"], \"font\": {\"color\": \"#2a3f5f\"}, \"geo\": {\"bgcolor\": \"white\", \"lakecolor\": \"white\", \"landcolor\": \"#E5ECF6\", \"showlakes\": true, \"showland\": true, \"subunitcolor\": \"white\"}, \"hoverlabel\": {\"align\": \"left\"}, \"hovermode\": \"closest\", \"mapbox\": {\"style\": \"light\"}, \"paper_bgcolor\": \"white\", \"plot_bgcolor\": \"#E5ECF6\", \"polar\": {\"angularaxis\": {\"gridcolor\": \"white\", \"linecolor\": \"white\", \"ticks\": \"\"}, \"bgcolor\": \"#E5ECF6\", \"radialaxis\": {\"gridcolor\": \"white\", \"linecolor\": \"white\", \"ticks\": \"\"}}, \"scene\": {\"xaxis\": {\"backgroundcolor\": \"#E5ECF6\", \"gridcolor\": \"white\", \"gridwidth\": 2, \"linecolor\": \"white\", \"showbackground\": true, \"ticks\": \"\", \"zerolinecolor\": \"white\"}, \"yaxis\": {\"backgroundcolor\": \"#E5ECF6\", \"gridcolor\": \"white\", \"gridwidth\": 2, \"linecolor\": \"white\", \"showbackground\": true, \"ticks\": \"\", \"zerolinecolor\": \"white\"}, \"zaxis\": {\"backgroundcolor\": \"#E5ECF6\", \"gridcolor\": \"white\", \"gridwidth\": 2, \"linecolor\": \"white\", \"showbackground\": true, \"ticks\": \"\", \"zerolinecolor\": \"white\"}}, \"shapedefaults\": {\"line\": {\"color\": \"#2a3f5f\"}}, \"ternary\": {\"aaxis\": {\"gridcolor\": \"white\", \"linecolor\": \"white\", \"ticks\": \"\"}, \"baxis\": {\"gridcolor\": \"white\", \"linecolor\": \"white\", \"ticks\": \"\"}, \"bgcolor\": \"#E5ECF6\", \"caxis\": {\"gridcolor\": \"white\", \"linecolor\": \"white\", \"ticks\": \"\"}}, \"title\": {\"x\": 0.05}, \"xaxis\": {\"automargin\": true, \"gridcolor\": \"white\", \"linecolor\": \"white\", \"ticks\": \"\", \"title\": {\"standoff\": 15}, \"zerolinecolor\": \"white\", \"zerolinewidth\": 2}, \"yaxis\": {\"automargin\": true, \"gridcolor\": \"white\", \"linecolor\": \"white\", \"ticks\": \"\", \"title\": {\"standoff\": 15}, \"zerolinecolor\": \"white\", \"zerolinewidth\": 2}}}, \"xaxis\": {\"anchor\": \"y\", \"domain\": [0.0, 1.0], \"title\": {\"text\": \"TOGW\"}}, \"yaxis\": {\"anchor\": \"x\", \"domain\": [0.0, 1.0], \"title\": {\"text\": \"W_1\"}}},                        {\"responsive\": true}                    ).then(function(){\n",
       "                            \n",
       "var gd = document.getElementById('deb7d927-32ee-4408-ac32-bde1d37a77ae');\n",
       "var x = new MutationObserver(function (mutations, observer) {{\n",
       "        var display = window.getComputedStyle(gd).display;\n",
       "        if (!display || display === 'none') {{\n",
       "            console.log([gd, 'removed!']);\n",
       "            Plotly.purge(gd);\n",
       "            observer.disconnect();\n",
       "        }}\n",
       "}});\n",
       "\n",
       "// Listen for the removal of the full notebook cells\n",
       "var notebookContainer = gd.closest('#notebook-container');\n",
       "if (notebookContainer) {{\n",
       "    x.observe(notebookContainer, {childList: true});\n",
       "}}\n",
       "\n",
       "// Listen for the clearing of the current output cell\n",
       "var outputEl = gd.closest('.output');\n",
       "if (outputEl) {{\n",
       "    x.observe(outputEl, {childList: true});\n",
       "}}\n",
       "\n",
       "                        })                };                });            </script>        </div>"
      ]
     },
     "metadata": {},
     "output_type": "display_data"
    }
   ],
   "source": [
    "px.scatter(df_aircraft_tidy, x=\"TOGW\", y=\"W_1\", hover_data=[\"aircraft\"])"
   ]
  },
  {
   "cell_type": "markdown",
   "metadata": {},
   "source": [
    "## What questions can we answer with this dataset?\n",
    "\n",
    "- Which is the heaviest aircraft?\n",
    "- Which is the lightest aircraft?\n",
    "- What's a typical sweep angle `Omega C/4`?\n",
    "- \n"
   ]
  }
 ],
 "metadata": {
  "kernelspec": {
   "display_name": "Python 3",
   "language": "python",
   "name": "python3"
  },
  "language_info": {
   "codemirror_mode": {
    "name": "ipython",
    "version": 3
   },
   "file_extension": ".py",
   "mimetype": "text/x-python",
   "name": "python",
   "nbconvert_exporter": "python",
   "pygments_lexer": "ipython3",
   "version": "3.7.4"
  }
 },
 "nbformat": 4,
 "nbformat_minor": 4
}
