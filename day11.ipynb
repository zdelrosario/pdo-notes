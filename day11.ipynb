{
 "cells": [
  {
   "cell_type": "markdown",
   "metadata": {},
   "source": [
    "# Day 11: Guiding Decisions with Optimization\n",
    "\n",
    "---\n",
    "\n",
    "Let's talk about how we can use the optimization ideas we've seen so far to help guide design decisions:\n",
    "\n",
    "- Multiple objectives\n",
    "  - Pareto frontier as \"menu\"; use supporting information\n",
    "  - Oar materials revisited:\n",
    "    - Why not rigid foams?\n",
    "    - Why not technical ceramics?\n",
    "- Constraints\n"
   ]
  },
  {
   "cell_type": "code",
   "execution_count": 4,
   "metadata": {},
   "outputs": [],
   "source": [
    "import pandas as pd \n",
    "import grama as gr \n",
    "import numpy as np\n",
    "from plotnine import *\n",
    "DF = gr.Intention()\n"
   ]
  },
  {
   "cell_type": "markdown",
   "metadata": {},
   "source": [
    "# Multiple Objectives\n",
    "\n",
    "---\n",
    "\n",
    "## Recall: Oar material selection\n",
    "\n",
    "---\n",
    "\n",
    "Remember that we eliminated \"Rigid polymer foams\"; why?\n"
   ]
  },
  {
   "cell_type": "markdown",
   "metadata": {},
   "source": [
    "![ashby plot](./images/ashby-fig6.2.png)\n"
   ]
  },
  {
   "cell_type": "markdown",
   "metadata": {},
   "source": [
    "### Why not technical ceramics?\n",
    "\n",
    "Ceramics are brittle; they fracture easily (compared to wood and CFRP).\n"
   ]
  },
  {
   "cell_type": "markdown",
   "metadata": {},
   "source": [
    "### Why not rigid foams?\n",
    "\n",
    "For one thing, rigid foams have low toughness, but there's another reason we should discount them.\n",
    "\n",
    "Let's use our optimal radius:\n",
    "\n",
    "$$r^* = \\left( \\frac{4}{3\\pi} \\frac{FL^3}{E} \\frac{1}{\\delta_{\\max}} \\right)^{1/4}$$\n",
    "\n",
    "So the ratio between the optimal radius for different materials---all else but $E$ equal---would be:\n",
    "\n",
    "$$r_1 / r_2 = (E_2 / E_1)^{1/4}$$\n",
    "\n",
    "Note that $E_{\\text{wood}} / E_{\\text{foam}} \\approx 10^2$, thus\n",
    "\n",
    "$$r_{\\text{foam}} = 10^{1/2} r_{\\text{wood}} \\approx 3 r_{\\text{wood}}$$\n",
    "\n",
    "or $A_{\\text{foam}} = 10 A_{\\text{wood}}$. This would be rather unwieldy, plus real rowers are unlikely to buy these because they'd look comical. There would probably be drag concerns as well.\n",
    "\n",
    "**Conclusion**: Maybe we were missing a constraint; a maximum radius.\n"
   ]
  },
  {
   "cell_type": "markdown",
   "metadata": {},
   "source": [
    "## Exchange constants\n",
    "\n",
    "---\n",
    "\n",
    "We talked about the *weight method* to identify individual points on the Pareto frontier. By using a variety of weights, you can sketch-out a Pareto frontier by finding individual non-dominated points.\n",
    "\n",
    "One way we can choose a *single* set of weights is to compute [exchange coefficients](https://www.sciencedirect.com/topics/engineering/exchange-constant); these represent the rate at which we would \"exchange\" one objective for another.\n",
    "\n",
    "### Example exchange constants: US Dollars for Mass\n",
    "\n",
    "One easy-to-understand case of an exchange coefficient is money for mass. Using problem-specific knowledge, it's often possible to *estimate* the cost associated with a unit of mass. For the following transportation categories, a different Basis was used to estimate the cost of having an additional kilogram of mass in the vehicle structure.\n",
    "\n",
    "| Sector | Basis | Exchange (USD / kg) |\n",
    "|---|---|---|\n",
    "| Family car | Fuel savings | 1-2 |\n",
    "| Truck | Payload | 5-20 |\n",
    "| Civil aircraft | Payload | 100-500 |\n",
    "| Military aircraft | Payload/performance | 500-1,000 |\n",
    "| Spacecraft | Payload | 3,000-10,000 |\n",
    "\n",
    "Adapted from Table 9.2 in Ashby (1994)\n"
   ]
  },
  {
   "cell_type": "markdown",
   "metadata": {},
   "source": [
    "Let's look at an example; suppose we have the following profit vs mass relationship. Clearly we want\n",
    "\n",
    "$$\\max\\, \\text{Profit}$$\n",
    "$$\\min\\, \\text{Mass}$$\n"
   ]
  },
  {
   "cell_type": "code",
   "execution_count": 79,
   "metadata": {},
   "outputs": [
    {
     "data": {
      "image/png": "[encoded data removed]",
      "text/plain": [
       "<Figure size 640x480 with 1 Axes>"
      ]
     },
     "metadata": {
      "needs_background": "light"
     },
     "output_type": "display_data"
    },
    {
     "data": {
      "text/plain": [
       "<ggplot: (8769230936113)>"
      ]
     },
     "execution_count": 79,
     "metadata": {},
     "output_type": "execute_result"
    }
   ],
   "source": [
    "md_cost = (\n",
    "    gr.Model()\n",
    "    >> gr.cp_vec_function(\n",
    "        fun=lambda df: gr.df_make(\n",
    "            mass=df.x * 1,\n",
    "            profit=(np.log(df.x) + 10) * 10,\n",
    "        ),\n",
    "        var=[\"x\"],\n",
    "        out=[\"mass\", \"profit\"]\n",
    "    )\n",
    "    >> gr.cp_bounds(x=(1e-3, 1e2))\n",
    ")\n",
    "\n",
    "(\n",
    "    md_cost\n",
    "    >> gr.ev_df(df=gr.df_make(x=np.logspace(-2, 1.5)))\n",
    "    \n",
    "    >> ggplot(aes(\"mass\", \"profit\"))\n",
    "    + geom_line()\n",
    "    \n",
    "    + coord_cartesian(ylim=(50, 150))\n",
    "    + theme_minimal()\n",
    "    + labs(\n",
    "        x=\"Mass (kg)\",\n",
    "        y=\"Profit (USD)\",\n",
    "    )\n",
    ")"
   ]
  },
  {
   "cell_type": "markdown",
   "metadata": {},
   "source": [
    "Set a specific exchange coefficient to pick a particular point on the Pareto frontier.\n"
   ]
  },
  {
   "cell_type": "code",
   "execution_count": 78,
   "metadata": {},
   "outputs": [
    {
     "name": "stdout",
     "output_type": "stream",
     "text": [
      "          x      x_0     out_net      profit      mass  success  \\\n",
      "0  9.999948  50.0005 -113.025851  123.025799  9.999948     True   \n",
      "\n",
      "                                 message  n_iter  \n",
      "0  Optimization terminated successfully.      13  \n"
     ]
    },
    {
     "data": {
      "image/png": "[encoded data removed]",
      "text/plain": [
       "<Figure size 640x480 with 1 Axes>"
      ]
     },
     "metadata": {
      "needs_background": "light"
     },
     "output_type": "display_data"
    },
    {
     "data": {
      "text/plain": [
       "<ggplot: (8769230905965)>"
      ]
     },
     "execution_count": 78,
     "metadata": {},
     "output_type": "execute_result"
    }
   ],
   "source": [
    "# Set the exchange coefficient\n",
    "m2c = 1 # Family car\n",
    "# m2c = 10 # Truck\n",
    "# m2c = 100 # Civil aircraft\n",
    "# m2c = 1e3 # Military aircraft\n",
    "# m2c = 1e4 # Spacecraft\n",
    "\n",
    "# Solve minimization with selected weight\n",
    "df_opt = (\n",
    "    md_cost\n",
    "    >> gr.cp_function(\n",
    "        fun=lambda df: gr.df_make(\n",
    "            # min -profit -> max profit\n",
    "            # min m2c * mass -> min cost of mass\n",
    "            out_net = -df.profit + m2c * df.mass\n",
    "        ),\n",
    "        var=[\"profit\", \"mass\"],\n",
    "        out=[\"out_net\"]\n",
    "    )\n",
    "    \n",
    "    >> gr.ev_min(out_min=\"out_net\")\n",
    ")\n",
    "print(df_opt)\n",
    "\n",
    "# Compute tangent line\n",
    "profit0 = float(df_opt.profit[0] - m2c * df_opt.mass[0])\n",
    "df_tangent = (\n",
    "    gr.df_make(mass=np.logspace(-2, +1.5))\n",
    "    >> gr.tf_mutate(profit=profit0 + m2c * DF.mass)\n",
    ")\n",
    "\n",
    "# Visualize\n",
    "(\n",
    "    md_cost\n",
    "    >> gr.ev_df(df=gr.df_make(x=np.logspace(-2, 1.5)))\n",
    "    \n",
    "    >> ggplot(aes(\"mass\", \"profit\"))\n",
    "    + geom_line()\n",
    "    # Annotation layers\n",
    "    + geom_line(\n",
    "        data=df_tangent,\n",
    "        linetype=\"dashed\",\n",
    "        color=\"salmon\",\n",
    "    )\n",
    "    + geom_point(\n",
    "        data=df_opt,\n",
    "        color=\"salmon\",\n",
    "        size=3,\n",
    "    )\n",
    "    \n",
    "    + coord_cartesian(ylim=(50, 150))\n",
    "    + theme_minimal()\n",
    "    + labs(\n",
    "        x=\"Mass (kg)\",\n",
    "        y=\"Profit (USD)\",\n",
    "    )\n",
    ")"
   ]
  },
  {
   "cell_type": "markdown",
   "metadata": {},
   "source": [
    "# References\n",
    "\n",
    "- Ashby *Materials Selection in Mechanical Design* (1994), 3rd Edition."
   ]
  }
 ],
 "metadata": {
  "kernelspec": {
   "display_name": "Python 3",
   "language": "python",
   "name": "python3"
  },
  "language_info": {
   "codemirror_mode": {
    "name": "ipython",
    "version": 3
   },
   "file_extension": ".py",
   "mimetype": "text/x-python",
   "name": "python",
   "nbconvert_exporter": "python",
   "pygments_lexer": "ipython3",
   "version": "3.7.4"
  }
 },
 "nbformat": 4,
 "nbformat_minor": 4
}
