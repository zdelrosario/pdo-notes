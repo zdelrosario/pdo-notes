{
 "cells": [
  {
   "cell_type": "markdown",
   "metadata": {},
   "source": [
    "# Day 11: Guiding Decisions with Optimization\n",
    "\n",
    "---\n",
    "\n",
    "Let's talk about how we can use the optimization ideas we've seen so far to help guide design decisions:\n",
    "\n",
    "- Multiple objectives\n",
    "  - Pareto frontier as \"menu\"; use supporting information\n",
    "  - Oar materials revisited:\n",
    "    - Why not rigid foams?\n",
    "    - Why not technical ceramics?\n",
    "  - Transforming to constraints\n",
    "- Constraints\n",
    "  - active vs inactive\n"
   ]
  },
  {
   "cell_type": "code",
   "execution_count": 1,
   "metadata": {},
   "outputs": [],
   "source": [
    "import pandas as pd \n",
    "import grama as gr \n",
    "import numpy as np\n",
    "from plotnine import *\n",
    "DF = gr.Intention()\n"
   ]
  },
  {
   "cell_type": "markdown",
   "metadata": {},
   "source": [
    "# Multiple Objectives\n",
    "\n",
    "---\n",
    "\n",
    "## Recall: Oar material selection\n",
    "\n",
    "---\n",
    "\n",
    "$$\\min\\, m = \\rho L \\pi r^2$$\n",
    "$$\\text{wrt.}\\, r$$\n",
    "$$\\text{s.t.}\\, \\delta(r) \\leq \\delta_{\\max}$$\n",
    "\n",
    "\n",
    "From our study, we found that we wanted to maximize $I_{\\text{oar}} = E^{1/2} / \\rho$. If we \"split this up\" we have\n",
    "\n",
    "$$\\max\\, E$$\n",
    "$$\\min\\, \\rho$$\n"
   ]
  },
  {
   "cell_type": "markdown",
   "metadata": {},
   "source": [
    "![ashby plot](./images/ashby-fig6.2.png)\n"
   ]
  },
  {
   "cell_type": "markdown",
   "metadata": {},
   "source": [
    "### Why not technical ceramics?\n",
    "\n",
    "Ceramics are brittle; they fracture easily (compared to wood and CFRP).\n"
   ]
  },
  {
   "cell_type": "markdown",
   "metadata": {},
   "source": [
    "### Why not rigid foams?\n",
    "\n",
    "For one thing, rigid foams have low toughness, but there's another reason we should discount them.\n",
    "\n",
    "Let's use our optimal radius:\n",
    "\n",
    "$$r^* = \\left( \\frac{4}{3\\pi} \\frac{FL^3}{E} \\frac{1}{\\delta_{\\max}} \\right)^{1/4}$$\n",
    "\n",
    "So the ratio between the optimal radius for different materials---all else but $E$ equal---would be:\n",
    "\n",
    "$$r_1 / r_2 = (E_2 / E_1)^{1/4}$$\n",
    "\n",
    "Note that $E_{\\text{wood}} / E_{\\text{foam}} \\approx 10^2$, thus\n",
    "\n",
    "$$r_{\\text{foam}} = 10^{1/2} r_{\\text{wood}} \\approx 3 r_{\\text{wood}}$$\n",
    "\n",
    "or $A_{\\text{foam}} = 10 A_{\\text{wood}}$. This would be rather unwieldy, plus real rowers are unlikely to buy these because they'd look comical. There would probably be drag concerns as well."
   ]
  },
  {
   "cell_type": "markdown",
   "metadata": {},
   "source": [
    "**Conclusion**: Maybe we were missing a constraint; a maximum radius."
   ]
  },
  {
   "cell_type": "markdown",
   "metadata": {},
   "source": [
    "### Niches: Wood or CFRP?\n",
    "\n",
    "CFRP is a little further out along the $E^{1/2} / \\rho$ contour, indicating that it is a higher-performing material as an oar (stiffness-constrained beam). So why aren't all oars made of CFRP?\n",
    "\n",
    "CFRP is a more modern material than wood and for a long while it has been more expensive to manufacture. So a CFRP oar might be desirable for Olympic athletes (who are willing to spend a ton for an edge), but less desirable to someone just starting out rowing. Wood oars would tend to be less expensive, so they may be a \"good enough\" product for a novice rower.\n",
    "\n",
    "We can use the Pareto frontier to help select a *single* candidate. However, we can also use the Pareto frontier to organize our thinking about a *range* of candidates. In a commercial product space there are often [niche markets](https://en.wikipedia.org/wiki/Niche_market); subsets of the market that specific products target. By organizing all existing products on a Pareto frontier, you might find that a particular part of the frontier isn't covered. This could be evidence that no market exists for that hypothetical product... or that there's a niche market that no one is targeting!\n"
   ]
  },
  {
   "cell_type": "markdown",
   "metadata": {},
   "source": [
    "## Exchange constants\n",
    "\n",
    "---\n",
    "\n",
    "We talked about the *weight method* to identify individual points on the Pareto frontier. By using a variety of weights, you can sketch-out a Pareto frontier by finding individual non-dominated points.\n",
    "\n",
    "One way we can choose a *single* set of weights is to compute [exchange coefficients](https://www.sciencedirect.com/topics/engineering/exchange-constant); these represent the rate at which we would \"exchange\" one objective for another.\n",
    "\n",
    "### Example exchange constants: US Dollars for Mass\n",
    "\n",
    "One easy-to-understand case of an exchange coefficient is money for mass. Using problem-specific knowledge, it's often possible to *estimate* the cost associated with a unit of mass. For the following transportation categories, a different Basis was used to estimate the cost of having an additional kilogram of mass in the vehicle structure.\n",
    "\n",
    "| Sector | Basis | Exchange (USD / kg) |\n",
    "|---|---|---|\n",
    "| Family car | Fuel savings | 1-2 |\n",
    "| Truck | Payload | 5-20 |\n",
    "| Civil aircraft | Payload | 100-500 |\n",
    "| Military aircraft | Payload/performance | 500-1,000 |\n",
    "| Spacecraft | Payload | 3,000-10,000 |\n",
    "\n",
    "Adapted from Table 9.2 in Ashby (1994)\n"
   ]
  },
  {
   "cell_type": "markdown",
   "metadata": {},
   "source": [
    "Let's look at an example; suppose we have the following profit vs mass relationship. Clearly we want\n",
    "\n",
    "$$\\max\\, \\text{Profit}$$\n",
    "$$\\min\\, \\text{Mass}$$\n"
   ]
  },
  {
   "cell_type": "code",
   "execution_count": 2,
   "metadata": {},
   "outputs": [
    {
     "data": {
      "image/png": "[encoded data removed]",
      "text/plain": [
       "<Figure size 640x480 with 1 Axes>"
      ]
     },
     "metadata": {
      "needs_background": "light"
     },
     "output_type": "display_data"
    },
    {
     "data": {
      "text/plain": [
       "<ggplot: (8790642442731)>"
      ]
     },
     "execution_count": 2,
     "metadata": {},
     "output_type": "execute_result"
    }
   ],
   "source": [
    "md_cost = (\n",
    "    gr.Model()\n",
    "    >> gr.cp_vec_function(\n",
    "        fun=lambda df: gr.df_make(\n",
    "            mass=df.x * 1,\n",
    "            profit=(np.log(df.x) + 10) * 10,\n",
    "        ),\n",
    "        var=[\"x\"],\n",
    "        out=[\"mass\", \"profit\"]\n",
    "    )\n",
    "    >> gr.cp_bounds(x=(1e-3, 1e2))\n",
    ")\n",
    "\n",
    "(\n",
    "    md_cost\n",
    "    >> gr.ev_df(df=gr.df_make(x=np.logspace(-2, 1.5)))\n",
    "    \n",
    "    >> ggplot(aes(\"mass\", \"profit\"))\n",
    "    + geom_line()\n",
    "    \n",
    "    + coord_cartesian(ylim=(50, 150))\n",
    "    + theme_minimal()\n",
    "    + labs(\n",
    "        x=\"Mass (kg)\",\n",
    "        y=\"Profit (USD)\",\n",
    "    )\n",
    ")"
   ]
  },
  {
   "cell_type": "markdown",
   "metadata": {},
   "source": [
    "Set a specific exchange coefficient to pick a particular point on the Pareto frontier.\n"
   ]
  },
  {
   "cell_type": "code",
   "execution_count": 3,
   "metadata": {},
   "outputs": [
    {
     "name": "stdout",
     "output_type": "stream",
     "text": [
      "          x      x_0      profit     out_net      mass  success  \\\n",
      "0  9.999948  50.0005  123.025799 -113.025851  9.999948     True   \n",
      "\n",
      "                                message  n_iter  \n",
      "0  Optimization terminated successfully      13  \n"
     ]
    },
    {
     "data": {
      "image/png": "[encoded data removed]",
      "text/plain": [
       "<Figure size 640x480 with 1 Axes>"
      ]
     },
     "metadata": {
      "needs_background": "light"
     },
     "output_type": "display_data"
    },
    {
     "data": {
      "text/plain": [
       "<ggplot: (8790637609135)>"
      ]
     },
     "execution_count": 3,
     "metadata": {},
     "output_type": "execute_result"
    }
   ],
   "source": [
    "# Set the exchange coefficient\n",
    "m2c = 1 # Family car\n",
    "# m2c = 10 # Truck\n",
    "# m2c = 100 # Civil aircraft\n",
    "# m2c = 1e3 # Military aircraft\n",
    "# m2c = 1e4 # Spacecraft\n",
    "\n",
    "# Solve minimization with selected weight\n",
    "df_opt = (\n",
    "    md_cost\n",
    "    >> gr.cp_function(\n",
    "        fun=lambda df: gr.df_make(\n",
    "            # min -profit -> max profit\n",
    "            # min m2c * mass -> min cost of mass\n",
    "            out_net = -df.profit + m2c * df.mass\n",
    "        ),\n",
    "        var=[\"profit\", \"mass\"],\n",
    "        out=[\"out_net\"]\n",
    "    )\n",
    "    \n",
    "    >> gr.ev_min(out_min=\"out_net\")\n",
    ")\n",
    "print(df_opt)\n",
    "\n",
    "# Compute tangent line\n",
    "profit0 = float(df_opt.profit[0] - m2c * df_opt.mass[0])\n",
    "df_tangent = (\n",
    "    gr.df_make(mass=np.logspace(-2, +1.5))\n",
    "    >> gr.tf_mutate(profit=profit0 + m2c * DF.mass)\n",
    ")\n",
    "\n",
    "# Visualize\n",
    "(\n",
    "    md_cost\n",
    "    >> gr.ev_df(df=gr.df_make(x=np.logspace(-2, 1.5)))\n",
    "    \n",
    "    >> ggplot(aes(\"mass\", \"profit\"))\n",
    "    + geom_line()\n",
    "    # Annotation layers\n",
    "    + geom_line(\n",
    "        data=df_tangent,\n",
    "        linetype=\"dashed\",\n",
    "        color=\"salmon\",\n",
    "    )\n",
    "    + geom_point(\n",
    "        data=df_opt,\n",
    "        color=\"salmon\",\n",
    "        size=3,\n",
    "    )\n",
    "    \n",
    "    + coord_cartesian(ylim=(50, 150))\n",
    "    + theme_minimal()\n",
    "    + labs(\n",
    "        x=\"Mass (kg)\",\n",
    "        y=\"Profit (USD)\",\n",
    "    )\n",
    ")"
   ]
  },
  {
   "cell_type": "markdown",
   "metadata": {},
   "source": [
    "## Transform objectives into constraints\n",
    "\n",
    "---\n",
    "\n",
    "Do we really need to optimize *everything*?\n",
    "\n",
    "- Does the user actually *care* about all your objectives?\n",
    "  - Will they be satisfied with a \"good enough\" solution along some objectives?\n",
    "  - Importance of understanding the user!!!\n",
    "  - Ex. The oar example; oars are sold rated by tip displacement, not based on minimized displacement\n",
    "- Are there norms in your discipline?\n",
    "  - e.g. in aircraft design we usually pose range, capacity, cruising speed, etc. as *minimum-threshold constraints*. The primary objective is minimum weight / cost.\n",
    "- [satisficing](https://en.wikipedia.org/wiki/Satisficing) -> finding a \"good enough\" solution; work in behavioral economics suggests that this is how people *actually* make (some) decisions\n"
   ]
  },
  {
   "cell_type": "markdown",
   "metadata": {},
   "source": [
    "# Learning from Constraints\n",
    "\n",
    "---\n"
   ]
  },
  {
   "cell_type": "code",
   "execution_count": 4,
   "metadata": {},
   "outputs": [
    {
     "name": "stdout",
     "output_type": "stream",
     "text": [
      "model: Cantilever Beam\n",
      "\n",
      "  inputs:\n",
      "    var_det:\n",
      "      t: [2, 4]\n",
      "      w: [2, 4]\n",
      "    var_rand:\n",
      "      H: (+1) norm, {'loc': 500.0, 'scale': 100.0}\n",
      "      V: (+1) norm, {'loc': 1000.0, 'scale': 100.0}\n",
      "      E: (+0) norm, {'loc': 29000000.0, 'scale': 1450000.0}\n",
      "      Y: (-1) norm, {'loc': 40000.0, 'scale': 2000.0}\n",
      "    copula:\n",
      "        Independence copula\n",
      "  functions:\n",
      "    cross-sectional area: ['w', 't'] -> ['c_area']\n",
      "    limit state: stress: ['w', 't', 'H', 'V', 'E', 'Y'] -> ['g_stress']\n",
      "    limit state: displacement: ['w', 't', 'H', 'V', 'E', 'Y'] -> ['g_disp']\n"
     ]
    }
   ],
   "source": [
    "from grama.models import make_cantilever_beam\n",
    "md_beam = make_cantilever_beam()\n",
    "md_beam.printpretty()\n"
   ]
  },
  {
   "cell_type": "markdown",
   "metadata": {},
   "source": [
    "The built-in Grama cantilever beam model has quantified uncertainties. We'll talk about how to handle these in the upcoming lessons & notebooks, but for now I'll use a simple approach to turn random quantities into deterministic ones.\n"
   ]
  },
  {
   "cell_type": "code",
   "execution_count": 5,
   "metadata": {},
   "outputs": [
    {
     "name": "stdout",
     "output_type": "stream",
     "text": [
      "model: None\n",
      "\n",
      "  inputs:\n",
      "    var_det:\n",
      "      w: [2, 4]\n",
      "      t: [2, 4]\n",
      "    var_rand:\n",
      "    copula:\n",
      "        None\n",
      "  functions:\n",
      "    Nominal evaluation: ['w', 't'] -> ['c_area', 'g_stress', 'g_disp']\n"
     ]
    }
   ],
   "source": [
    "md_det = (\n",
    "    gr.Model()\n",
    "    ## Use a \"conservative\" deterministic evaluation of the random\n",
    "    #  beam model to arrive at a deterministic model\n",
    "    >> gr.cp_vec_function(\n",
    "        fun=lambda df: gr.eval_conservative(\n",
    "            md_beam,\n",
    "            df_det=df,\n",
    "            quantiles=0.01,\n",
    "        ),\n",
    "        var=[\"w\", \"t\"],\n",
    "        out=[\"c_area\", \"g_stress\", \"g_disp\"],\n",
    "        name=\"Nominal evaluation\",\n",
    "    )\n",
    "    ## Use the same bounds on w, t as before\n",
    "    >> gr.cp_bounds(\n",
    "        w=(2, 4),\n",
    "        t=(2, 4),\n",
    "    )\n",
    ")\n",
    "\n",
    "md_det.printpretty()\n"
   ]
  },
  {
   "cell_type": "markdown",
   "metadata": {},
   "source": [
    "We can now optimize this model to minimize the cross-sectional area while constraining it in terms of stress and tip displacement.\n"
   ]
  },
  {
   "cell_type": "code",
   "execution_count": 6,
   "metadata": {},
   "outputs": [
    {
     "data": {
      "text/html": [
       "<div>\n",
       "<style scoped>\n",
       "    .dataframe tbody tr th:only-of-type {\n",
       "        vertical-align: middle;\n",
       "    }\n",
       "\n",
       "    .dataframe tbody tr th {\n",
       "        vertical-align: top;\n",
       "    }\n",
       "\n",
       "    .dataframe thead th {\n",
       "        text-align: right;\n",
       "    }\n",
       "</style>\n",
       "<table border=\"1\" class=\"dataframe\">\n",
       "  <thead>\n",
       "    <tr style=\"text-align: right;\">\n",
       "      <th></th>\n",
       "      <th>t</th>\n",
       "      <th>w</th>\n",
       "      <th>t_0</th>\n",
       "      <th>w_0</th>\n",
       "      <th>g_disp</th>\n",
       "      <th>c_area</th>\n",
       "      <th>g_stress</th>\n",
       "      <th>success</th>\n",
       "      <th>message</th>\n",
       "      <th>n_iter</th>\n",
       "    </tr>\n",
       "  </thead>\n",
       "  <tbody>\n",
       "    <tr>\n",
       "      <th>0</th>\n",
       "      <td>4.0</td>\n",
       "      <td>2.53442</td>\n",
       "      <td>3.0</td>\n",
       "      <td>3.0</td>\n",
       "      <td>0.380808</td>\n",
       "      <td>10.137679</td>\n",
       "      <td>-1.764902e-11</td>\n",
       "      <td>True</td>\n",
       "      <td>Optimization terminated successfully</td>\n",
       "      <td>6</td>\n",
       "    </tr>\n",
       "  </tbody>\n",
       "</table>\n",
       "</div>"
      ],
      "text/plain": [
       "     t        w  t_0  w_0    g_disp     c_area      g_stress  success  \\\n",
       "0  4.0  2.53442  3.0  3.0  0.380808  10.137679 -1.764902e-11     True   \n",
       "\n",
       "                                message  n_iter  \n",
       "0  Optimization terminated successfully       6  "
      ]
     },
     "execution_count": 6,
     "metadata": {},
     "output_type": "execute_result"
    }
   ],
   "source": [
    "(\n",
    "    md_det\n",
    "    >> gr.ev_min(\n",
    "        out_min=\"c_area\",\n",
    "        out_geq=[\"g_stress\", \"g_disp\"]\n",
    "    )\n",
    ")\n"
   ]
  },
  {
   "cell_type": "markdown",
   "metadata": {},
   "source": [
    "If we wanted to minimize the area *further*, which constraint should we edit?\n",
    "\n",
    "- Changing an inactive constraint won't affect things; we shouldn't bother with the bounds on `w` nor the displacement constraint.\n",
    "- The stress constraint is *non-negotiable*; a broken beam is not a useful beam!\n",
    "- We're left with the thickness bounds `t = (2, 4)`. By making the bounds looser, we could potentially improve on the optimum area.\n"
   ]
  },
  {
   "cell_type": "code",
   "execution_count": 7,
   "metadata": {},
   "outputs": [
    {
     "data": {
      "text/html": [
       "<div>\n",
       "<style scoped>\n",
       "    .dataframe tbody tr th:only-of-type {\n",
       "        vertical-align: middle;\n",
       "    }\n",
       "\n",
       "    .dataframe tbody tr th {\n",
       "        vertical-align: top;\n",
       "    }\n",
       "\n",
       "    .dataframe thead th {\n",
       "        text-align: right;\n",
       "    }\n",
       "</style>\n",
       "<table border=\"1\" class=\"dataframe\">\n",
       "  <thead>\n",
       "    <tr style=\"text-align: right;\">\n",
       "      <th></th>\n",
       "      <th>t</th>\n",
       "      <th>w</th>\n",
       "      <th>t_0</th>\n",
       "      <th>w_0</th>\n",
       "      <th>g_disp</th>\n",
       "      <th>c_area</th>\n",
       "      <th>g_stress</th>\n",
       "      <th>success</th>\n",
       "      <th>message</th>\n",
       "      <th>n_iter</th>\n",
       "    </tr>\n",
       "  </thead>\n",
       "  <tbody>\n",
       "    <tr>\n",
       "      <th>0</th>\n",
       "      <td>4.129225</td>\n",
       "      <td>2.454268</td>\n",
       "      <td>5.0</td>\n",
       "      <td>3.0</td>\n",
       "      <td>0.327718</td>\n",
       "      <td>10.134227</td>\n",
       "      <td>-4.938083e-11</td>\n",
       "      <td>True</td>\n",
       "      <td>Optimization terminated successfully</td>\n",
       "      <td>8</td>\n",
       "    </tr>\n",
       "  </tbody>\n",
       "</table>\n",
       "</div>"
      ],
      "text/plain": [
       "          t         w  t_0  w_0    g_disp     c_area      g_stress  success  \\\n",
       "0  4.129225  2.454268  5.0  3.0  0.327718  10.134227 -4.938083e-11     True   \n",
       "\n",
       "                                message  n_iter  \n",
       "0  Optimization terminated successfully       8  "
      ]
     },
     "execution_count": 7,
     "metadata": {},
     "output_type": "execute_result"
    }
   ],
   "source": [
    "(\n",
    "    md_det\n",
    "    >> gr.cp_bounds(t=(2, 8))\n",
    "    >> gr.ev_min(\n",
    "        out_min=\"c_area\",\n",
    "        out_geq=[\"g_stress\", \"g_disp\"],\n",
    "    )\n",
    ")\n"
   ]
  },
  {
   "cell_type": "markdown",
   "metadata": {},
   "source": [
    "Note that this new optimum is just a little thicker than the prior solution; in this case relaxing our thickness bound paid off!\n"
   ]
  },
  {
   "cell_type": "markdown",
   "metadata": {},
   "source": [
    "# References\n",
    "\n",
    "---\n",
    "\n",
    "- Ashby *Materials Selection in Mechanical Design* (1994), 3rd Edition."
   ]
  }
 ],
 "metadata": {
  "kernelspec": {
   "display_name": "Python 3",
   "language": "python",
   "name": "python3"
  },
  "language_info": {
   "codemirror_mode": {
    "name": "ipython",
    "version": 3
   },
   "file_extension": ".py",
   "mimetype": "text/x-python",
   "name": "python",
   "nbconvert_exporter": "python",
   "pygments_lexer": "ipython3",
   "version": "3.8.5"
  }
 },
 "nbformat": 4,
 "nbformat_minor": 4
}
