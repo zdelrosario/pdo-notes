{
 "cells": [
  {
   "cell_type": "markdown",
   "metadata": {},
   "source": [
    "# Day 4: Intro to Grama\n",
    "\n",
    "- Grama motivation\n",
    "- Grama elements\n",
    "- Exploratory model analysis\n"
   ]
  },
  {
   "cell_type": "code",
   "execution_count": 1,
   "metadata": {},
   "outputs": [],
   "source": [
    "import grama as gr\n",
    "import numpy as np\n",
    "import scipy as sp\n",
    "import pandas as pd\n",
    "import matplotlib.pyplot as plt\n",
    "\n",
    "# Set figure options\n",
    "plt.rcParams['figure.figsize'] = [6, 6] # Need square aspect ratio for gradients to appear normal\n",
    "plt.rcParams['figure.dpi'] = 100 # 200 e.g. is really fine, but slower\n"
   ]
  },
  {
   "cell_type": "markdown",
   "metadata": {},
   "source": [
    "## Grama Motivation\n",
    "\n",
    "---\n",
    "\n",
    "Idea: Have one computational object that you can use to encapsulate *many* of the assumptions and choices in quantitative modeling.\n",
    "\n",
    "Some example modeling choices:\n",
    "- Select the model inputs\n",
    "- Specify bounds for the inputs\n",
    "- Simplify the physics\n",
    "- Fit a distribution for inputs\n",
    "\n",
    "Grama is a software package to help make model building and analysis more transparent, convenient, and understandable.\n",
    "\n",
    "Modeling in two phases:\n",
    "- Model building\n",
    "- Model analysis\n"
   ]
  },
  {
   "cell_type": "markdown",
   "metadata": {},
   "source": [
    "### Model Building\n",
    "\n",
    "**Model Functions**\n",
    "\n",
    "Parallel RLC circuit: here are some key performance indicators of the circuit\n",
    "\n",
    "$$\\omega_0 = \\sqrt{\\frac{1}{LC}}$$\n",
    "\n",
    "$$Q = \\omega_0 RC.$$\n",
    "\n",
    "**Model Domain**\n",
    "\n",
    "Decide on a range of values for $R, L, C$ to test."
   ]
  },
  {
   "cell_type": "code",
   "execution_count": null,
   "metadata": {},
   "outputs": [],
   "source": [
    "## Implement RLC Grama model\n",
    "md_RLC_det = (\n",
    "    gr.Model(\"RLC Circuit\")\n",
    "    ## Add the natural frequency\n",
    "    >> gr.cp_vec_function(\n",
    "        fun=lambda df: gr.df_make(\n",
    "            omega0=np.sqrt(1 / df.L / df.C)\n",
    "        ),\n",
    "        var=[\"L\", \"C\"],\n",
    "        out=[\"omega0\"],\n",
    "    )\n",
    "    ## Add the Q factor\n",
    "    >> gr.cp_vec_function(\n",
    "        fun=lambda df: gr.df_make(\n",
    "            Q=df.omega0 * df.R * df.C\n",
    "        ),\n",
    "        name=\"parallel RLC\",\n",
    "        var=[\"omega0\", \"R\", \"C\"],\n",
    "        out=[\"Q\"]\n",
    "    )\n",
    "    ## Set bounds for the input variables\n",
    "    >> gr.cp_bounds(\n",
    "        R=(1e-3, 1e0),  # resistance [ohm]\n",
    "        L=(1e-9, 1e-3), # inductance [H]\n",
    "        C=(1e-3, 10),   # capacitance [F]\n",
    "    )\n",
    ")"
   ]
  }
 ],
 "metadata": {
  "kernelspec": {
   "display_name": "Python 3",
   "language": "python",
   "name": "python3"
  },
  "language_info": {
   "codemirror_mode": {
    "name": "ipython",
    "version": 3
   },
   "file_extension": ".py",
   "mimetype": "text/x-python",
   "name": "python",
   "nbconvert_exporter": "python",
   "pygments_lexer": "ipython3",
   "version": "3.7.4"
  }
 },
 "nbformat": 4,
 "nbformat_minor": 4
}
