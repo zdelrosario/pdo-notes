{
 "cells": [
  {
   "cell_type": "markdown",
   "metadata": {},
   "source": [
    "# Day 4: Intro to Grama\n",
    "\n",
    "- Grama motivation\n",
    "- Grama elements\n",
    "- Exploratory model analysis\n"
   ]
  },
  {
   "cell_type": "code",
   "execution_count": 1,
   "metadata": {},
   "outputs": [],
   "source": [
    "import grama as gr\n",
    "import numpy as np\n",
    "import scipy as sp\n",
    "import pandas as pd\n",
    "import matplotlib.pyplot as plt\n",
    "from plotnine import *\n",
    "DF = gr.Intention()\n",
    "\n",
    "# Set figure options\n",
    "plt.rcParams['figure.figsize'] = [6, 6] # Need square aspect ratio for gradients to appear normal\n",
    "plt.rcParams['figure.dpi'] = 100 # 200 e.g. is really fine, but slower\n"
   ]
  },
  {
   "cell_type": "markdown",
   "metadata": {},
   "source": [
    "## Grama Motivation\n",
    "\n",
    "---\n",
    "\n",
    "Idea: Have one computational object that you can use to encapsulate *many* of the assumptions and choices in quantitative modeling.\n",
    "\n",
    "Some example modeling choices:\n",
    "- Select the model inputs\n",
    "- Specify bounds for the inputs\n",
    "- Simplify the physics\n",
    "- Fit a distribution for inputs\n",
    "\n",
    "Grama is a software package to help make model building and analysis more transparent, convenient, and understandable.\n",
    "\n",
    "Modeling in two phases:\n",
    "- Model building\n",
    "- Model analysis\n"
   ]
  },
  {
   "cell_type": "markdown",
   "metadata": {},
   "source": [
    "### Model Building\n",
    "\n",
    "Make a blank model\n"
   ]
  },
  {
   "cell_type": "code",
   "execution_count": 2,
   "metadata": {},
   "outputs": [
    {
     "name": "stdout",
     "output_type": "stream",
     "text": [
      "model: Base model\n",
      "\n",
      "  inputs:\n",
      "    var_det:\n",
      "    var_rand:\n",
      "    copula:\n",
      "        None\n",
      "  functions:\n"
     ]
    }
   ],
   "source": [
    "## Create a blank model\n",
    "md = gr.Model(\"Base model\")\n",
    "## Print the details\n",
    "md.printpretty()"
   ]
  },
  {
   "cell_type": "markdown",
   "metadata": {},
   "source": [
    "Make a model with a function"
   ]
  },
  {
   "cell_type": "code",
   "execution_count": 3,
   "metadata": {},
   "outputs": [
    {
     "name": "stdout",
     "output_type": "stream",
     "text": [
      "model: Base model\n",
      "\n",
      "  inputs:\n",
      "    var_det:\n",
      "      x: (unbounded)\n",
      "    var_rand:\n",
      "    copula:\n",
      "        None\n",
      "  functions:\n",
      "    f0: ['x'] -> ['f']\n"
     ]
    }
   ],
   "source": [
    "## Create a blank model\n",
    "md = gr.Model(\"Base model\")\n",
    "## Add a function\n",
    "md = gr.comp_function(\n",
    "    md, \n",
    "    fun=lambda X: X[0],\n",
    "    var=[\"x\"],\n",
    "    out=[\"f\"],\n",
    ")\n",
    "## Print the details\n",
    "md.printpretty()"
   ]
  },
  {
   "cell_type": "markdown",
   "metadata": {},
   "source": [
    "Make a model with function and variable bounds"
   ]
  },
  {
   "cell_type": "code",
   "execution_count": 4,
   "metadata": {},
   "outputs": [
    {
     "name": "stdout",
     "output_type": "stream",
     "text": [
      "model: Base model\n",
      "\n",
      "  inputs:\n",
      "    var_det:\n",
      "      x: [-1, 1]\n",
      "    var_rand:\n",
      "    copula:\n",
      "        None\n",
      "  functions:\n",
      "    f0: ['x'] -> ['f']\n"
     ]
    }
   ],
   "source": [
    "## Create a blank model\n",
    "md = gr.Model(\"Base model\")\n",
    "## Add a function\n",
    "md = gr.comp_function(\n",
    "    md, \n",
    "    fun=lambda X: X[0],\n",
    "    var=[\"x\"],\n",
    "    out=[\"f\"],\n",
    ")\n",
    "## Add a bound\n",
    "md = gr.comp_bounds(\n",
    "    md,\n",
    "    x=(-1, +1),\n",
    ")\n",
    "## Print the details\n",
    "md.printpretty()"
   ]
  },
  {
   "cell_type": "markdown",
   "metadata": {},
   "source": [
    "### Example: RLC circuit\n",
    "\n",
    "**Model Functions**\n",
    "\n",
    "Parallel RLC circuit: here are some key performance indicators of the circuit\n",
    "\n",
    "$$\\omega_0 = \\sqrt{\\frac{1}{LC}}$$\n",
    "\n",
    "$$Q = \\omega_0 RC.$$\n",
    "\n",
    "**Model Domain**\n",
    "\n",
    "Decide on a range of values for $R, L, C$ to test."
   ]
  },
  {
   "cell_type": "code",
   "execution_count": 5,
   "metadata": {},
   "outputs": [
    {
     "name": "stdout",
     "output_type": "stream",
     "text": [
      "model: RLC Circuit\n",
      "\n",
      "  inputs:\n",
      "    var_det:\n",
      "      C: [0.001, 10]\n",
      "      L: [1e-09, 0.001]\n",
      "      R: [0.001, 1.0]\n",
      "    var_rand:\n",
      "    copula:\n",
      "        None\n",
      "  functions:\n",
      "    natural frequency: ['L', 'C'] -> ['omega0']\n",
      "    quality factor: ['omega0', 'R', 'C'] -> ['Q']\n"
     ]
    }
   ],
   "source": [
    "## Implement RLC Grama model\n",
    "md_RLC = (\n",
    "    gr.Model(\"RLC Circuit\")\n",
    "    ## Add the natural frequency\n",
    "    >> gr.cp_vec_function(\n",
    "        fun=lambda df: gr.df_make(\n",
    "            omega0=np.sqrt(1 / df.L / df.C)\n",
    "        ),\n",
    "        name=\"natural frequency\",\n",
    "        var=[\"L\", \"C\"],\n",
    "        out=[\"omega0\"],\n",
    "    )\n",
    "    ## Add the Q factor\n",
    "    >> gr.cp_vec_function(\n",
    "        fun=lambda df: gr.df_make(\n",
    "            Q=df.omega0 * df.R * df.C\n",
    "        ),\n",
    "        name=\"quality factor\",\n",
    "        var=[\"omega0\", \"R\", \"C\"],\n",
    "        out=[\"Q\"]\n",
    "    )\n",
    "    ## Set bounds for the input variables\n",
    "    >> gr.cp_bounds(\n",
    "        R=(1e-3, 1e0),  # resistance [ohm]\n",
    "        L=(1e-9, 1e-3), # inductance [H]\n",
    "        C=(1e-3, 10),   # capacitance [F]\n",
    "    )\n",
    ")\n",
    "\n",
    "md_RLC.printpretty()"
   ]
  },
  {
   "cell_type": "markdown",
   "metadata": {},
   "source": [
    "## Model Analysis\n",
    "\n",
    "Fit the model to find `R,L,C` values for specified `omega0, Q`.\n"
   ]
  },
  {
   "cell_type": "code",
   "execution_count": 6,
   "metadata": {},
   "outputs": [
    {
     "name": "stdout",
     "output_type": "stream",
     "text": [
      "... eval_nls setting out = ['omega0', 'Q']\n",
      "... eval_nls setting var_fix = []\n",
      "... eval_nls setting var_feat = []\n"
     ]
    },
    {
     "data": {
      "text/html": [
       "<div>\n",
       "<style scoped>\n",
       "    .dataframe tbody tr th:only-of-type {\n",
       "        vertical-align: middle;\n",
       "    }\n",
       "\n",
       "    .dataframe tbody tr th {\n",
       "        vertical-align: top;\n",
       "    }\n",
       "\n",
       "    .dataframe thead th {\n",
       "        text-align: right;\n",
       "    }\n",
       "</style>\n",
       "<table border=\"1\" class=\"dataframe\">\n",
       "  <thead>\n",
       "    <tr style=\"text-align: right;\">\n",
       "      <th></th>\n",
       "      <th>C</th>\n",
       "      <th>L</th>\n",
       "      <th>R</th>\n",
       "    </tr>\n",
       "  </thead>\n",
       "  <tbody>\n",
       "    <tr>\n",
       "      <td>0</td>\n",
       "      <td>10.0</td>\n",
       "      <td>0.001</td>\n",
       "      <td>0.01</td>\n",
       "    </tr>\n",
       "  </tbody>\n",
       "</table>\n",
       "</div>"
      ],
      "text/plain": [
       "      C      L     R\n",
       "0  10.0  0.001  0.01"
      ]
     },
     "execution_count": 6,
     "metadata": {},
     "output_type": "execute_result"
    }
   ],
   "source": [
    "df_rlc = gr.eval_nls(\n",
    "    md_RLC,\n",
    "    df_data=gr.df_make(omega0=10, Q=1),\n",
    ")\n",
    "df_rlc\n"
   ]
  },
  {
   "cell_type": "markdown",
   "metadata": {},
   "source": [
    "Check that those values give the desired values\n"
   ]
  },
  {
   "cell_type": "code",
   "execution_count": 7,
   "metadata": {},
   "outputs": [
    {
     "data": {
      "text/html": [
       "<div>\n",
       "<style scoped>\n",
       "    .dataframe tbody tr th:only-of-type {\n",
       "        vertical-align: middle;\n",
       "    }\n",
       "\n",
       "    .dataframe tbody tr th {\n",
       "        vertical-align: top;\n",
       "    }\n",
       "\n",
       "    .dataframe thead th {\n",
       "        text-align: right;\n",
       "    }\n",
       "</style>\n",
       "<table border=\"1\" class=\"dataframe\">\n",
       "  <thead>\n",
       "    <tr style=\"text-align: right;\">\n",
       "      <th></th>\n",
       "      <th>C</th>\n",
       "      <th>L</th>\n",
       "      <th>R</th>\n",
       "      <th>omega0</th>\n",
       "      <th>Q</th>\n",
       "    </tr>\n",
       "  </thead>\n",
       "  <tbody>\n",
       "    <tr>\n",
       "      <td>0</td>\n",
       "      <td>10.0</td>\n",
       "      <td>0.001</td>\n",
       "      <td>0.01</td>\n",
       "      <td>10.000004</td>\n",
       "      <td>0.999991</td>\n",
       "    </tr>\n",
       "  </tbody>\n",
       "</table>\n",
       "</div>"
      ],
      "text/plain": [
       "      C      L     R     omega0         Q\n",
       "0  10.0  0.001  0.01  10.000004  0.999991"
      ]
     },
     "execution_count": 7,
     "metadata": {},
     "output_type": "execute_result"
    }
   ],
   "source": [
    "gr.eval_df(md_RLC, df=df_rlc)\n"
   ]
  },
  {
   "cell_type": "markdown",
   "metadata": {},
   "source": [
    "## Grama Elements\n",
    "\n",
    "---\n",
    "\n",
    "Grama considers *data* and *models*. Data are organized into DataFrames, which are handled by the Pandas package.\n"
   ]
  },
  {
   "cell_type": "code",
   "execution_count": 8,
   "metadata": {},
   "outputs": [
    {
     "data": {
      "text/html": [
       "<div>\n",
       "<style scoped>\n",
       "    .dataframe tbody tr th:only-of-type {\n",
       "        vertical-align: middle;\n",
       "    }\n",
       "\n",
       "    .dataframe tbody tr th {\n",
       "        vertical-align: top;\n",
       "    }\n",
       "\n",
       "    .dataframe thead th {\n",
       "        text-align: right;\n",
       "    }\n",
       "</style>\n",
       "<table border=\"1\" class=\"dataframe\">\n",
       "  <thead>\n",
       "    <tr style=\"text-align: right;\">\n",
       "      <th></th>\n",
       "      <th>x</th>\n",
       "      <th>y</th>\n",
       "      <th>z</th>\n",
       "    </tr>\n",
       "  </thead>\n",
       "  <tbody>\n",
       "    <tr>\n",
       "      <td>0</td>\n",
       "      <td>1</td>\n",
       "      <td>0.1</td>\n",
       "      <td>a</td>\n",
       "    </tr>\n",
       "    <tr>\n",
       "      <td>1</td>\n",
       "      <td>2</td>\n",
       "      <td>0.2</td>\n",
       "      <td>b</td>\n",
       "    </tr>\n",
       "    <tr>\n",
       "      <td>2</td>\n",
       "      <td>3</td>\n",
       "      <td>0.3</td>\n",
       "      <td>c</td>\n",
       "    </tr>\n",
       "  </tbody>\n",
       "</table>\n",
       "</div>"
      ],
      "text/plain": [
       "   x    y  z\n",
       "0  1  0.1  a\n",
       "1  2  0.2  b\n",
       "2  3  0.3  c"
      ]
     },
     "execution_count": 8,
     "metadata": {},
     "output_type": "execute_result"
    }
   ],
   "source": [
    "pd.DataFrame(dict(\n",
    "    x=[1, 2, 3],\n",
    "    y=[0.1, 0.2, 0.3],\n",
    "    z=[\"a\", \"b\", \"c\"]\n",
    "))\n"
   ]
  },
  {
   "cell_type": "markdown",
   "metadata": {},
   "source": [
    "There are four fundamental Grama [verbs](https://py-grama.readthedocs.io/en/latest/source/language.html#verbs):\n",
    "\n",
    "| Verb Type | Prefix (Short) | In | Out |\n",
    "|---|---|---|---|\n",
    "| Compose | `comp_` (`cp_`) | `md` | `md` |\n",
    "| Evaluate | `eval_` (`ev_`) | `md` | `df` |\n",
    "| Fit | `fit_` (`ft_`) | `df` | `md` |\n",
    "| Transform | `tran_` (`tf_`) | `df` | `df` |\n",
    "| Plot | `plot_` (`pt_`) | `df` | (Plot) |\n"
   ]
  },
  {
   "cell_type": "markdown",
   "metadata": {},
   "source": [
    "### Compose\n",
    "\n",
    "Used primarily to build up a model\n"
   ]
  },
  {
   "cell_type": "code",
   "execution_count": 9,
   "metadata": {},
   "outputs": [
    {
     "name": "stdout",
     "output_type": "stream",
     "text": [
      "model: Base model\n",
      "\n",
      "  inputs:\n",
      "    var_det:\n",
      "      x: (unbounded)\n",
      "    var_rand:\n",
      "    copula:\n",
      "        None\n",
      "  functions:\n",
      "    f0: ['x'] -> ['f']\n"
     ]
    }
   ],
   "source": [
    "## Create a blank model\n",
    "md = gr.Model(\"Base model\")\n",
    "## Add a function\n",
    "md = gr.comp_function(\n",
    "    ## Take in function; will return modified\n",
    "    md, \n",
    "    fun=lambda X: X[0],\n",
    "    var=[\"x\"],\n",
    "    out=[\"f\"],\n",
    ")\n",
    "## Print the details\n",
    "md.printpretty()\n"
   ]
  },
  {
   "cell_type": "markdown",
   "metadata": {},
   "source": [
    "### Evaluate\n",
    "\n",
    "Used to generate data from a model\n"
   ]
  },
  {
   "cell_type": "code",
   "execution_count": 10,
   "metadata": {},
   "outputs": [
    {
     "data": {
      "text/html": [
       "<div>\n",
       "<style scoped>\n",
       "    .dataframe tbody tr th:only-of-type {\n",
       "        vertical-align: middle;\n",
       "    }\n",
       "\n",
       "    .dataframe tbody tr th {\n",
       "        vertical-align: top;\n",
       "    }\n",
       "\n",
       "    .dataframe thead th {\n",
       "        text-align: right;\n",
       "    }\n",
       "</style>\n",
       "<table border=\"1\" class=\"dataframe\">\n",
       "  <thead>\n",
       "    <tr style=\"text-align: right;\">\n",
       "      <th></th>\n",
       "      <th>x</th>\n",
       "      <th>f</th>\n",
       "    </tr>\n",
       "  </thead>\n",
       "  <tbody>\n",
       "    <tr>\n",
       "      <td>0</td>\n",
       "      <td>0</td>\n",
       "      <td>0.0</td>\n",
       "    </tr>\n",
       "    <tr>\n",
       "      <td>1</td>\n",
       "      <td>1</td>\n",
       "      <td>1.0</td>\n",
       "    </tr>\n",
       "    <tr>\n",
       "      <td>2</td>\n",
       "      <td>2</td>\n",
       "      <td>2.0</td>\n",
       "    </tr>\n",
       "  </tbody>\n",
       "</table>\n",
       "</div>"
      ],
      "text/plain": [
       "   x    f\n",
       "0  0  0.0\n",
       "1  1  1.0\n",
       "2  2  2.0"
      ]
     },
     "execution_count": 10,
     "metadata": {},
     "output_type": "execute_result"
    }
   ],
   "source": [
    "df_result = gr.eval_df(\n",
    "    ## Model to evaluate\n",
    "    md,\n",
    "    ## DataFrame at which to evaluate\n",
    "    df=gr.df_make(x=[0, 1, 2])\n",
    ")\n",
    "df_result\n"
   ]
  },
  {
   "cell_type": "markdown",
   "metadata": {},
   "source": [
    "### Fit\n",
    "\n",
    "Used to derive a model from data\n",
    "\n",
    "First, set up a scenario with data and a model to fit:\n"
   ]
  },
  {
   "cell_type": "code",
   "execution_count": 11,
   "metadata": {},
   "outputs": [
    {
     "name": "stdout",
     "output_type": "stream",
     "text": [
      "model: Trajectory Model\n",
      "\n",
      "  inputs:\n",
      "    var_det:\n",
      "      v0: [0.1, inf]\n",
      "      tau: [0.05, inf]\n",
      "      u0: [0.1, inf]\n",
      "      t: [0, 600]\n",
      "    var_rand:\n",
      "    copula:\n",
      "        None\n",
      "  functions:\n",
      "    x_trajectory: ['u0', 'v0', 'tau', 't'] -> ['x']\n",
      "    y_trajectory: ['u0', 'v0', 'tau', 't'] -> ['y']\n"
     ]
    }
   ],
   "source": [
    "## \n",
    "from grama.models import make_trajectory_linear\n",
    "from grama.data import df_trajectory_windowed\n",
    "\n",
    "md_trajectory = make_trajectory_linear()\n",
    "md_trajectory.printpretty()"
   ]
  },
  {
   "cell_type": "markdown",
   "metadata": {},
   "source": [
    "Fit the model\n"
   ]
  },
  {
   "cell_type": "code",
   "execution_count": 12,
   "metadata": {},
   "outputs": [
    {
     "name": "stdout",
     "output_type": "stream",
     "text": [
      "... fit_nls setting out = ['y', 'x']\n",
      "... eval_nls setting out = ['y', 'x']\n",
      "... eval_nls setting var_fix = []\n",
      "... eval_nls setting var_feat = ['t']\n",
      "           v0   tau          u0  v0_0  tau_0  u0_0  success  \\\n",
      "0  447.996073  0.05  425.160961   0.1   0.05   0.1     True   \n",
      "\n",
      "                                             message  n_iter       mse  \n",
      "0  b'CONVERGENCE: NORM_OF_PROJECTED_GRADIENT_<=_P...       6  25.49725  \n",
      "model: Trajectory Model (Fitted)\n",
      "\n",
      "  inputs:\n",
      "    var_det:\n",
      "      t: (unbounded)\n",
      "    var_rand:\n",
      "    copula:\n",
      "        None\n",
      "  functions:\n",
      "    Fix variable levels: ['t'] -> ['u0', 'tau', 'v0']\n",
      "    Trajectory Model: ['tau', 'u0', 'v0', 't'] -> ['y', 'x']\n"
     ]
    }
   ],
   "source": [
    "md_fit = gr.fit_nls(df_trajectory_windowed, md_trajectory)\n",
    "md_fit.printpretty()"
   ]
  },
  {
   "cell_type": "markdown",
   "metadata": {},
   "source": [
    "### Transform\n",
    "\n",
    "Used to transform data\n"
   ]
  },
  {
   "cell_type": "code",
   "execution_count": 13,
   "metadata": {},
   "outputs": [
    {
     "data": {
      "text/html": [
       "<div>\n",
       "<style scoped>\n",
       "    .dataframe tbody tr th:only-of-type {\n",
       "        vertical-align: middle;\n",
       "    }\n",
       "\n",
       "    .dataframe tbody tr th {\n",
       "        vertical-align: top;\n",
       "    }\n",
       "\n",
       "    .dataframe thead th {\n",
       "        text-align: right;\n",
       "    }\n",
       "</style>\n",
       "<table border=\"1\" class=\"dataframe\">\n",
       "  <thead>\n",
       "    <tr style=\"text-align: right;\">\n",
       "      <th></th>\n",
       "      <th>t</th>\n",
       "      <th>x</th>\n",
       "      <th>y</th>\n",
       "    </tr>\n",
       "  </thead>\n",
       "  <tbody>\n",
       "    <tr>\n",
       "      <td>0</td>\n",
       "      <td>0.6</td>\n",
       "      <td>9.8</td>\n",
       "      <td>13.4</td>\n",
       "    </tr>\n",
       "    <tr>\n",
       "      <td>1</td>\n",
       "      <td>0.7</td>\n",
       "      <td>11.3</td>\n",
       "      <td>14.8</td>\n",
       "    </tr>\n",
       "    <tr>\n",
       "      <td>2</td>\n",
       "      <td>0.8</td>\n",
       "      <td>13.1</td>\n",
       "      <td>16.6</td>\n",
       "    </tr>\n",
       "    <tr>\n",
       "      <td>3</td>\n",
       "      <td>0.9</td>\n",
       "      <td>14.7</td>\n",
       "      <td>17.9</td>\n",
       "    </tr>\n",
       "    <tr>\n",
       "      <td>4</td>\n",
       "      <td>1.0</td>\n",
       "      <td>15.9</td>\n",
       "      <td>19.4</td>\n",
       "    </tr>\n",
       "  </tbody>\n",
       "</table>\n",
       "</div>"
      ],
      "text/plain": [
       "     t     x     y\n",
       "0  0.6   9.8  13.4\n",
       "1  0.7  11.3  14.8\n",
       "2  0.8  13.1  16.6\n",
       "3  0.9  14.7  17.9\n",
       "4  1.0  15.9  19.4"
      ]
     },
     "execution_count": 13,
     "metadata": {},
     "output_type": "execute_result"
    }
   ],
   "source": [
    "df_trajectory_windowed.head()\n"
   ]
  },
  {
   "cell_type": "markdown",
   "metadata": {},
   "source": [
    "Estimate time derivatives with finite differences\n"
   ]
  },
  {
   "cell_type": "code",
   "execution_count": 14,
   "metadata": {},
   "outputs": [
    {
     "data": {
      "text/html": [
       "<div>\n",
       "<style scoped>\n",
       "    .dataframe tbody tr th:only-of-type {\n",
       "        vertical-align: middle;\n",
       "    }\n",
       "\n",
       "    .dataframe tbody tr th {\n",
       "        vertical-align: top;\n",
       "    }\n",
       "\n",
       "    .dataframe thead th {\n",
       "        text-align: right;\n",
       "    }\n",
       "</style>\n",
       "<table border=\"1\" class=\"dataframe\">\n",
       "  <thead>\n",
       "    <tr style=\"text-align: right;\">\n",
       "      <th></th>\n",
       "      <th>t</th>\n",
       "      <th>x</th>\n",
       "      <th>y</th>\n",
       "      <th>dxdt</th>\n",
       "      <th>dydt</th>\n",
       "    </tr>\n",
       "  </thead>\n",
       "  <tbody>\n",
       "    <tr>\n",
       "      <td>0</td>\n",
       "      <td>0.6</td>\n",
       "      <td>9.8</td>\n",
       "      <td>13.4</td>\n",
       "      <td>NaN</td>\n",
       "      <td>NaN</td>\n",
       "    </tr>\n",
       "    <tr>\n",
       "      <td>1</td>\n",
       "      <td>0.7</td>\n",
       "      <td>11.3</td>\n",
       "      <td>14.8</td>\n",
       "      <td>15.0</td>\n",
       "      <td>14.0</td>\n",
       "    </tr>\n",
       "    <tr>\n",
       "      <td>2</td>\n",
       "      <td>0.8</td>\n",
       "      <td>13.1</td>\n",
       "      <td>16.6</td>\n",
       "      <td>18.0</td>\n",
       "      <td>18.0</td>\n",
       "    </tr>\n",
       "    <tr>\n",
       "      <td>3</td>\n",
       "      <td>0.9</td>\n",
       "      <td>14.7</td>\n",
       "      <td>17.9</td>\n",
       "      <td>16.0</td>\n",
       "      <td>13.0</td>\n",
       "    </tr>\n",
       "    <tr>\n",
       "      <td>4</td>\n",
       "      <td>1.0</td>\n",
       "      <td>15.9</td>\n",
       "      <td>19.4</td>\n",
       "      <td>12.0</td>\n",
       "      <td>15.0</td>\n",
       "    </tr>\n",
       "  </tbody>\n",
       "</table>\n",
       "</div>"
      ],
      "text/plain": [
       "     t     x     y  dxdt  dydt\n",
       "0  0.6   9.8  13.4   NaN   NaN\n",
       "1  0.7  11.3  14.8  15.0  14.0\n",
       "2  0.8  13.1  16.6  18.0  18.0\n",
       "3  0.9  14.7  17.9  16.0  13.0\n",
       "4  1.0  15.9  19.4  12.0  15.0"
      ]
     },
     "execution_count": 14,
     "metadata": {},
     "output_type": "execute_result"
    }
   ],
   "source": [
    "(\n",
    "    df_trajectory_windowed\n",
    "    >> gr.tf_mutate(\n",
    "        dxdt=(DF.x - gr.lag(DF.x)) / (DF.t - gr.lag(DF.t)),\n",
    "        dydt=(DF.y - gr.lag(DF.y)) / (DF.t - gr.lag(DF.t)),\n",
    "    )\n",
    "    >> gr.tf_head()\n",
    ")"
   ]
  },
  {
   "cell_type": "markdown",
   "metadata": {},
   "source": [
    "## Exploratory Model Analysis\n",
    "\n",
    "---\n",
    "\n",
    "Grama is useful for *exploratory model analysis*; making sense of how a model behaves with respect to its inputs. Let's look at a simple model to build intuition.\n"
   ]
  },
  {
   "cell_type": "code",
   "execution_count": 15,
   "metadata": {},
   "outputs": [
    {
     "name": "stdout",
     "output_type": "stream",
     "text": [
      "model: \n",
      "\n",
      "  inputs:\n",
      "    var_det:\n",
      "      a: [-1, 1]\n",
      "      x: [-1, 1]\n",
      "    var_rand:\n",
      "    copula:\n",
      "        None\n",
      "  functions:\n",
      "    Exponential: ['a', 'x'] -> ['f']\n"
     ]
    }
   ],
   "source": [
    "md_exponential = (\n",
    "    gr.Model(\"\")\n",
    "    >> gr.cp_vec_function(\n",
    "        fun=lambda df: gr.df_make(\n",
    "            f=df.a * np.exp(df.x)\n",
    "        ),\n",
    "        var=[\"a\", \"x\"],\n",
    "        out=[\"f\"],\n",
    "        name=\"Exponential\"\n",
    "    )\n",
    "    >> gr.cp_bounds(\n",
    "        a=(-1, +1),\n",
    "        x=(-1, +1),\n",
    "    )\n",
    ")\n",
    "\n",
    "md_exponential.printpretty()"
   ]
  },
  {
   "cell_type": "markdown",
   "metadata": {},
   "source": [
    "Let's investigate the model with a *sinew* plot\n"
   ]
  },
  {
   "cell_type": "code",
   "execution_count": 16,
   "metadata": {},
   "outputs": [
    {
     "name": "stdout",
     "output_type": "stream",
     "text": [
      "Calling plot_sinew_outputs....\n"
     ]
    },
    {
     "data": {
      "text/plain": [
       "<seaborn.axisgrid.FacetGrid at 0x7f8a65771f90>"
      ]
     },
     "execution_count": 16,
     "metadata": {},
     "output_type": "execute_result"
    },
    {
     "data": {
      "image/png": "[encoded data removed]",
      "text/plain": [
       "<Figure size 808.5x360 with 2 Axes>"
      ]
     },
     "metadata": {
      "needs_background": "light"
     },
     "output_type": "display_data"
    }
   ],
   "source": [
    "(\n",
    "    md_exponential\n",
    "    >> gr.ev_sinews(df_det=\"swp\", seed=101)\n",
    "    >> gr.pt_auto()\n",
    ")"
   ]
  },
  {
   "cell_type": "markdown",
   "metadata": {},
   "source": [
    "- input `a` has a linear effect on output `f`\n",
    "- input `x` has an exponential effect on output `f`\n",
    "  - direction is affected by `a`\n"
   ]
  },
  {
   "cell_type": "markdown",
   "metadata": {},
   "source": [
    "Sinew plots especially useful for exploring a new model\n"
   ]
  },
  {
   "cell_type": "code",
   "execution_count": 17,
   "metadata": {},
   "outputs": [
    {
     "name": "stdout",
     "output_type": "stream",
     "text": [
      "Calling plot_sinew_outputs....\n"
     ]
    },
    {
     "data": {
      "text/plain": [
       "<seaborn.axisgrid.FacetGrid at 0x7f8a67613c50>"
      ]
     },
     "execution_count": 17,
     "metadata": {},
     "output_type": "execute_result"
    },
    {
     "data": {
      "image/png": "[encoded data removed]",
      "text/plain": [
       "<Figure size 1168.5x720 with 6 Axes>"
      ]
     },
     "metadata": {
      "needs_background": "light"
     },
     "output_type": "display_data"
    }
   ],
   "source": [
    "(\n",
    "    md_RLC\n",
    "    >> gr.ev_sinews(df_det=\"swp\", n_density=20, n_sweeps=5, seed=101)\n",
    "    >> gr.pt_auto()\n",
    ")"
   ]
  },
  {
   "cell_type": "markdown",
   "metadata": {},
   "source": [
    "- input `R` has a positive, linear effect on `Q`\n",
    "- input `R` has zero effect on `omega0`\n",
    "- input `C` has a positive, diminishing effect on `Q`\n",
    "- input `C` has a negative, diminishing effect on `omega0`\n",
    "- input `L` has a positive, diminishing effect on `Q`\n",
    "- input `L` has a negative, diminishing effect on `omega0`\n"
   ]
  }
 ],
 "metadata": {
  "kernelspec": {
   "display_name": "Python 3",
   "language": "python",
   "name": "python3"
  },
  "language_info": {
   "codemirror_mode": {
    "name": "ipython",
    "version": 3
   },
   "file_extension": ".py",
   "mimetype": "text/x-python",
   "name": "python",
   "nbconvert_exporter": "python",
   "pygments_lexer": "ipython3",
   "version": "3.7.4"
  }
 },
 "nbformat": 4,
 "nbformat_minor": 4
}
