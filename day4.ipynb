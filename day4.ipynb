{
 "cells": [
  {
   "cell_type": "markdown",
   "metadata": {},
   "source": [
    "# Day 4: Intro to Grama\n",
    "\n",
    "- Grama motivation\n",
    "- Grama elements\n",
    "- Exploratory model analysis\n"
   ]
  },
  {
   "cell_type": "code",
   "execution_count": 1,
   "metadata": {},
   "outputs": [],
   "source": [
    "import grama as gr\n",
    "import numpy as np\n",
    "import scipy as sp\n",
    "import pandas as pd\n",
    "import matplotlib.pyplot as plt\n",
    "\n",
    "# Set figure options\n",
    "plt.rcParams['figure.figsize'] = [6, 6] # Need square aspect ratio for gradients to appear normal\n",
    "plt.rcParams['figure.dpi'] = 100 # 200 e.g. is really fine, but slower\n"
   ]
  },
  {
   "cell_type": "markdown",
   "metadata": {},
   "source": [
    "## Grama Motivation\n",
    "\n",
    "---\n",
    "\n",
    "Idea: Have one computational object that you can use to encapsulate *many* of the assumptions and choices in quantitative modeling.\n",
    "\n",
    "Some example modeling choices:\n",
    "- Select the model inputs\n",
    "- Specify bounds for the inputs\n",
    "- Simplify the physics\n",
    "- Fit a distribution for inputs\n",
    "\n",
    "Grama is a software package to help make model building and analysis more transparent, convenient, and understandable.\n",
    "\n",
    "Modeling in two phases:\n",
    "- Model building\n",
    "- Model analysis\n"
   ]
  },
  {
   "cell_type": "markdown",
   "metadata": {},
   "source": [
    "### Model Building\n"
   ]
  },
  {
   "cell_type": "code",
   "execution_count": null,
   "metadata": {},
   "outputs": [],
   "source": []
  }
 ],
 "metadata": {
  "kernelspec": {
   "display_name": "Python 3",
   "language": "python",
   "name": "python3"
  },
  "language_info": {
   "codemirror_mode": {
    "name": "ipython",
    "version": 3
   },
   "file_extension": ".py",
   "mimetype": "text/x-python",
   "name": "python",
   "nbconvert_exporter": "python",
   "pygments_lexer": "ipython3",
   "version": "3.7.4"
  }
 },
 "nbformat": 4,
 "nbformat_minor": 4
}
