{
 "cells": [
  {
   "cell_type": "markdown",
   "metadata": {},
   "source": [
    "# Day 10: Multiobjective Optimization\n",
    "\n",
    "---\n",
    "\n",
    "Optimization is considerably more complex when we have multiple, competing objectives.\n",
    "\n",
    "- Examples with multiple objectives\n",
    "- Concepts:\n",
    "  - Dominance, the Pareto frontier\n",
    "  - Scalarization\n",
    "  - Making choices\n"
   ]
  },
  {
   "cell_type": "code",
   "execution_count": 1,
   "metadata": {},
   "outputs": [],
   "source": [
    "import pandas as pd \n",
    "import grama as gr \n",
    "import plotnine as pt \n",
    "DF = gr.Intention()\n"
   ]
  },
  {
   "cell_type": "markdown",
   "metadata": {},
   "source": [
    "## Examples with multiple objectives\n",
    "\n",
    "---\n"
   ]
  },
  {
   "cell_type": "markdown",
   "metadata": {},
   "source": [
    "### Buildings\n",
    "\n",
    "$$\\min\\, \\text{(Weight of building)}$$\n",
    "$$\\min\\, \\text{(Cost of building)}$$\n"
   ]
  },
  {
   "cell_type": "code",
   "execution_count": null,
   "metadata": {},
   "outputs": [],
   "source": []
  },
  {
   "cell_type": "markdown",
   "metadata": {},
   "source": [
    "\n",
    "$$\\min\\, \\text{(Safety of building)}$$\n",
    "$$\\min\\, \\text{(Cost of building)}$$\n"
   ]
  },
  {
   "cell_type": "code",
   "execution_count": null,
   "metadata": {},
   "outputs": [],
   "source": []
  },
  {
   "cell_type": "markdown",
   "metadata": {},
   "source": [
    "### Communications\n",
    "\n",
    "$$\\min\\, \\text{(Error rate)}$$\n",
    "$$\\min\\, \\text{(Data rate)}$$\n"
   ]
  },
  {
   "cell_type": "markdown",
   "metadata": {},
   "source": [
    "### Materials\n",
    "\n",
    "$$\\min\\, \\text{Strength (stress resistance)}$$\n",
    "$$\\min\\, \\text{Toughness (fracture resistance)}$$\n"
   ]
  },
  {
   "cell_type": "markdown",
   "metadata": {},
   "source": [
    "## Dominance and the Pareto Frontier\n",
    "\n",
    "---\n"
   ]
  },
  {
   "cell_type": "markdown",
   "metadata": {},
   "source": [
    "## Scalarization\n",
    "\n",
    "---\n"
   ]
  },
  {
   "cell_type": "markdown",
   "metadata": {},
   "source": [
    "## Tips on Making Choices\n",
    "\n",
    "---\n"
   ]
  }
 ],
 "metadata": {
  "kernelspec": {
   "display_name": "Python 3",
   "language": "python",
   "name": "python3"
  },
  "language_info": {
   "codemirror_mode": {
    "name": "ipython",
    "version": 3
   },
   "file_extension": ".py",
   "mimetype": "text/x-python",
   "name": "python",
   "nbconvert_exporter": "python",
   "pygments_lexer": "ipython3",
   "version": "3.7.4"
  }
 },
 "nbformat": 4,
 "nbformat_minor": 4
}
