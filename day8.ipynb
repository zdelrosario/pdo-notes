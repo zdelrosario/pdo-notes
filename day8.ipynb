{
 "cells": [
  {
   "cell_type": "markdown",
   "id": "certain-moses",
   "metadata": {},
   "source": [
    "# Day 8: Application of Optimization - Materials Selection\n",
    "\n",
    "---\n",
    "\n",
    "*Note*: This follows the wonderful textbook by Ashby *Materials Selection in Mechanical Design* (1994), 3rd Edition.\n",
    "\n",
    "- The materials selection process\n",
    "- Case study: Material selection for oars\n",
    "  - Problem formulation\n",
    "  - Solve for materials index\n",
    "  - Some lessons\n",
    "- Complete the case study with Ashby plots\n"
   ]
  },
  {
   "cell_type": "markdown",
   "id": "crucial-retrieval",
   "metadata": {},
   "source": [
    "## Materials selection process\n",
    "\n",
    "1. Translation\n",
    "2. Screening\n",
    "3. Ranking\n",
    "4. Supporting information\n"
   ]
  },
  {
   "cell_type": "markdown",
   "id": "reduced-revolution",
   "metadata": {},
   "source": [
    "## Material Selection for Oars\n",
    "\n",
    "---\n"
   ]
  },
  {
   "cell_type": "markdown",
   "id": "subject-nepal",
   "metadata": {},
   "source": [
    "![oar schematic](./images/ashby-fig6.1.png)\n"
   ]
  },
  {
   "cell_type": "markdown",
   "id": "negative-passion",
   "metadata": {},
   "source": [
    "### Beam model\n",
    "\n",
    "Tip deflection $\\delta$ of a beam under tip load $F$:\n",
    "\n",
    "$$\\delta = \\frac{F L^3}{3 E I}$$\n",
    "\n",
    "circular cross section with radius $r$\n",
    "\n",
    "$$I = \\frac{\\pi}{4} r^4$$\n"
   ]
  },
  {
   "cell_type": "markdown",
   "id": "refined-manchester",
   "metadata": {},
   "source": [
    "### Optimization problem\n",
    "\n",
    "$$\\min\\, m = \\rho L \\pi r^2$$\n",
    "$$\\text{wrt.}\\, r$$\n",
    "$$\\text{s.t.}\\, \\delta(r) \\leq \\delta_{\\max}$$\n",
    "\n",
    "Translate to standard form\n",
    "\n",
    "$$\\min\\, (\\pi\\rho L) r^2$$\n",
    "$$\\text{wrt.}\\, r$$\n",
    "$$\\text{s.t.}\\, \\left(\\frac{4}{3\\pi}\\right) \\left(\\frac{FL^3}{E}\\right) r^{-4} - \\delta_{\\max} \\leq 0$$\n"
   ]
  },
  {
   "cell_type": "markdown",
   "id": "patient-adolescent",
   "metadata": {},
   "source": [
    "### Apply KKT conditions\n",
    "\n",
    "$$L = (\\pi\\rho L) r^2 + \\mu \\left(\\left(\\frac{4}{3\\pi}\\right) \\left(\\frac{FL^3}{E}\\right) r^{-4} - \\delta_{\\max}\\right)$$\n",
    "\n",
    "1. Stationarity\n",
    "\n",
    "$$\\partial_r L = 2(\\pi\\rho L) r - 4 \\mu \\left(\\frac{4}{3\\pi}\\right) \\left(\\frac{FL^3}{E}\\right) r^{-5} = 0$$\n",
    "\n",
    "2. Primal feasibility\n",
    "\n",
    "$$\\left(\\frac{4}{3\\pi}\\right) \\left(\\frac{FL^3}{E}\\right) r^{-4} - \\delta_{\\max} \\leq 0$$\n",
    "\n",
    "3. Dual feasibility\n",
    "\n",
    "$$\\mu \\geq 0$$\n",
    "\n",
    "4. Complementary slackness\n",
    "\n",
    "$$\\mu \\left(\\left(\\frac{4}{3\\pi}\\right) \\left(\\frac{FL^3}{E}\\right) r^{-4} - \\delta_{\\max}\\right) = 0$$\n"
   ]
  },
  {
   "cell_type": "markdown",
   "id": "aboriginal-interval",
   "metadata": {},
   "source": [
    "### Consider the slackness scenarios\n",
    "\n",
    "We only have one inequality, so there are only two scenarios: $\\mu = 0$ or $g(r) = 0$.\n",
    "\n",
    "> Suppose $\\mu = 0$; then\n",
    "> \n",
    "> $$\\partial_r L = 0 = 2(\\pi\\rho L) r - 4 * 0 * \\left(\\frac{4}{3\\pi}\\right) \\left(\\frac{FL^3}{E}\\right) r^{-5}$$\n",
    "> \n",
    "> Thus $r = 0$.\n",
    "> \n",
    "> Note that\n",
    "> \n",
    "> $$\\lim_{r \\to 0} \\delta(r) = +\\infty \\not\\leq \\delta_{\\max}$$\n",
    "> \n",
    "> therefore $\\mu = 0$ is *not possible*.\n",
    "\n",
    "We conclude $\\delta(r) = \\delta_{\\max}$.\n"
   ]
  },
  {
   "cell_type": "markdown",
   "id": "textile-renewal",
   "metadata": {},
   "source": [
    "### Solve for optimal value, extract materials index\n",
    "\n",
    "Using $\\delta(r^*) = \\delta_{\\max}$, we can solve for the minimizer $r^*$\n",
    "\n",
    "$$r^* = \\left( \\frac{4}{3\\pi} \\frac{FL^3}{E} \\frac{1}{\\delta_{\\max}} \\right)^{1/4}$$\n",
    "\n",
    "This gives the optimal mass\n",
    "\n",
    "$$m^* = \\sqrt{\\frac{4}{3}\\pi} \\left(\\frac{\\rho}{E^{1/2}}\\right) \\sqrt{\\frac{F}{\\delta_{\\max}}} L^{5/2}$$\n",
    "\n",
    "We can think about a nested optimization problem\n",
    "\n",
    "$$\\min\\, m^*$$\n",
    "$$\\text{wrt.}\\, \\rho, E$$\n",
    "\n",
    "Extracting the term $\\rho / E^{1/2}$ from $m^*$ tells us how to optimize over these variables, accounting for how we would have to size the oar's radius $r^*$ for those material properties. Maximizing the reciprocal $E^{1/2} / \\rho$ would minimize the mass, thus the materials index is\n",
    "\n",
    "$$I_{\\text{beam, max deflection}} = \\frac{E^{1/2}}{\\rho}$$\n"
   ]
  },
  {
   "cell_type": "markdown",
   "id": "residential-hawaii",
   "metadata": {},
   "source": [
    "### Comparison of different beam scenarios\n",
    "\n",
    "The materials index depends on the *scenario* we are modeling; if our free variable is different, the index changes:\n",
    "\n",
    "| Scenario | Variable | Index |\n",
    "|---|---|---|\n",
    "| Section area free | A (= pi r^2) | E^1/2 / rho |\n",
    "| Height free | H | E^1/3 / rho |\n",
    "| Width free | W | E^1 / rho |\n"
   ]
  },
  {
   "cell_type": "markdown",
   "id": "optimum-seller",
   "metadata": {},
   "source": [
    "### Things I hope you take away\n",
    "\n",
    "- Optimization depends on your choice of variables\n",
    "  - Different scenario leads to very different results!\n",
    "- You can use optimization to model a decision process\n",
    "  - Optimization here models *sizing* of a component\n",
    "- You can nest optimization problems inside one another\n",
    "  - Find optimal sizing $r^*$, then find optimal material\n"
   ]
  },
  {
   "cell_type": "markdown",
   "id": "hazardous-machine",
   "metadata": {},
   "source": [
    "## Complete the material selection\n",
    "\n",
    "Let's use an Ashby plot to complete the material selection\n"
   ]
  },
  {
   "cell_type": "markdown",
   "id": "innocent-supervision",
   "metadata": {},
   "source": [
    "![ashby plot](./images/ashby-fig6.2.png)\n"
   ]
  },
  {
   "cell_type": "markdown",
   "id": "delayed-pricing",
   "metadata": {},
   "source": [
    "\n",
    "Table 6.2: Material for oars (Ashby, 1994)\n",
    "\n",
    "| Material | Index | Comment |\n",
    "|---|---|---|\n",
    "| Woods | 3.4 -- 6.3 | Cheap, traditional, but with natural variability |\n",
    "| CFRP | 5.3 -- 7.9 | As good as wood, more control of properties |\n",
    "| Ceramics | 4.0 -- 8.9 | Good index but toughness low and cost high |\n",
    "\n",
    "Ceramics give us the highest index, but they are not tough enough. CFRP and woods are used to make oars!\n"
   ]
  }
 ],
 "metadata": {
  "kernelspec": {
   "display_name": "Python 3",
   "language": "python",
   "name": "python3"
  },
  "language_info": {
   "codemirror_mode": {
    "name": "ipython",
    "version": 3
   },
   "file_extension": ".py",
   "mimetype": "text/x-python",
   "name": "python",
   "nbconvert_exporter": "python",
   "pygments_lexer": "ipython3",
   "version": "3.8.5"
  }
 },
 "nbformat": 4,
 "nbformat_minor": 5
}
