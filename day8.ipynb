{
 "cells": [
  {
   "cell_type": "markdown",
   "id": "perceived-audio",
   "metadata": {},
   "source": [
    "# Day 8: Application of Optimization - Materials Selection\n",
    "\n",
    "---\n",
    "\n",
    "*Note*: This follows the wonderful textbook by Ashby *Materials Selection in Mechanical Design* (1994), 3rd Edition.\n",
    "\n",
    "- The materials selection process\n",
    "- Case study: Material selection for oars\n",
    "  - Problem formulation\n",
    "  - Solve for materials index\n",
    "  - Some lessons\n",
    "- Complete the case study with Ashby plots\n"
   ]
  },
  {
   "cell_type": "markdown",
   "id": "romantic-above",
   "metadata": {},
   "source": [
    "## Materials selection process\n",
    "\n",
    "1. Translation - translate design requirements into constraints (as many as possible)\n",
    "2. Screening - use constraints to eliminate materials\n",
    "3. Ranking - rank screened materials based on materials indices\n",
    "4. Supporting information - research top-ranked materials in terms of hard-to-quantify characteristics\n",
    "\n",
    "Between Materials Selection and what we've talked about in Optimization so far, what's **similar**? What's **different**?\n"
   ]
  },
  {
   "cell_type": "markdown",
   "id": "metropolitan-savings",
   "metadata": {},
   "source": [
    "## Material Selection for Oars\n",
    "\n",
    "---\n"
   ]
  },
  {
   "cell_type": "markdown",
   "id": "blind-money",
   "metadata": {},
   "source": [
    "![oar schematic](./images/ashby-fig6.1.png)\n",
    "\n",
    "- Oars are rated in terms of max deflection\n",
    "- Oars come in standardized lengths, they have a circular cross-section shaft\n",
    "- Oars should be as light as possible\n",
    "- Oars tend to get dropped; they need to have a minimum toughness\n"
   ]
  },
  {
   "cell_type": "markdown",
   "id": "interim-contemporary",
   "metadata": {},
   "source": [
    "## Deriving a materials index\n",
    "\n",
    "### Beam model\n",
    "\n",
    "Tip deflection $\\delta$ of a beam under tip load $F$:\n",
    "\n",
    "$$\\delta = \\frac{F L^3}{3 E I}$$\n",
    "\n",
    "circular cross section with radius $r$\n",
    "\n",
    "$$I = \\frac{\\pi}{4} r^4$$\n"
   ]
  },
  {
   "cell_type": "markdown",
   "id": "humanitarian-picking",
   "metadata": {},
   "source": [
    "### Optimization problem\n",
    "\n",
    "$$\\min\\, m = \\rho L \\pi r^2$$\n",
    "$$\\text{wrt.}\\, r$$\n",
    "$$\\text{s.t.}\\, \\delta(r) \\leq \\delta_{\\max}$$\n",
    "\n",
    "Translate to standard form\n",
    "\n",
    "$$\\min\\, (\\pi\\rho L) r^2$$\n",
    "$$\\text{wrt.}\\, r$$\n",
    "$$\\text{s.t.}\\, \\left(\\frac{4}{3\\pi}\\right) \\left(\\frac{FL^3}{E}\\right) r^{-4} - \\delta_{\\max} \\leq 0$$\n"
   ]
  },
  {
   "cell_type": "markdown",
   "id": "chief-interval",
   "metadata": {},
   "source": [
    "Before we start: Note that this particular problem might seem obvious; this is a case where using KKT is a bit overkill. But going through this process will 1. Make some \"gut\" arguments more rigorous, and 2. Give you a pattern to follow for more complicated optimization problems.\n"
   ]
  },
  {
   "cell_type": "markdown",
   "id": "attended-sherman",
   "metadata": {},
   "source": [
    "### Apply KKT conditions\n",
    "\n",
    "$$L = (\\pi\\rho L) r^2 + \\mu \\left(\\left(\\frac{4}{3\\pi}\\right) \\left(\\frac{FL^3}{E}\\right) r^{-4} - \\delta_{\\max}\\right)$$\n",
    "\n",
    "1. Stationarity\n",
    "\n",
    "$$\\partial_r L = 2(\\pi\\rho L) r - 4 \\mu \\left(\\frac{4}{3\\pi}\\right) \\left(\\frac{FL^3}{E}\\right) r^{-5} = 0$$\n",
    "\n",
    "2. Primal feasibility\n",
    "\n",
    "$$\\left(\\frac{4}{3\\pi}\\right) \\left(\\frac{FL^3}{E}\\right) r^{-4} - \\delta_{\\max} \\leq 0$$\n",
    "\n",
    "3. Dual feasibility\n",
    "\n",
    "$$\\mu \\geq 0$$\n",
    "\n",
    "4. Complementary slackness\n",
    "\n",
    "$$\\mu \\left(\\left(\\frac{4}{3\\pi}\\right) \\left(\\frac{FL^3}{E}\\right) r^{-4} - \\delta_{\\max}\\right) = 0$$\n"
   ]
  },
  {
   "cell_type": "markdown",
   "id": "stopped-laptop",
   "metadata": {},
   "source": [
    "### Consider the slackness scenarios\n",
    "\n",
    "We only have one inequality, so there are only two scenarios: $\\mu = 0$ or $g(r) = 0$.\n",
    "\n",
    "> Suppose $\\mu = 0$; then\n",
    "> \n",
    "> $$\\partial_r L = 0 = 2(\\pi\\rho L) r - 4 * 0 * \\left(\\frac{4}{3\\pi}\\right) \\left(\\frac{FL^3}{E}\\right) r^{-5}$$\n",
    "> \n",
    "> Thus $r = 0$.\n",
    "> \n",
    "> Note that\n",
    "> \n",
    "> $$\\lim_{r \\to 0} \\delta(r) = +\\infty \\not\\leq \\delta_{\\max}$$\n",
    "> \n",
    "> therefore $\\mu = 0$ is *not possible*.\n",
    "\n",
    "We conclude $\\delta(r) = \\delta_{\\max}$.\n"
   ]
  },
  {
   "cell_type": "markdown",
   "id": "occupational-affiliation",
   "metadata": {},
   "source": [
    "### Solve for optimal value, extract materials index\n",
    "\n",
    "Using $\\delta(r^*) = \\delta_{\\max}$, we can solve for the minimizer $r^*$\n",
    "\n",
    "$$r^* = \\left( \\frac{4}{3\\pi} \\frac{FL^3}{E} \\frac{1}{\\delta_{\\max}} \\right)^{1/4}$$\n",
    "\n",
    "This gives the optimal mass\n",
    "\n",
    "$$m^* = \\sqrt{\\frac{4}{3}\\pi} \\left(\\frac{\\rho}{E^{1/2}}\\right) \\sqrt{\\frac{F}{\\delta_{\\max}}} L^{5/2}$$\n",
    "\n",
    "We can think about a nested optimization problem\n",
    "\n",
    "$$\\min\\, m^*$$\n",
    "$$\\text{wrt.}\\, \\rho, E$$\n",
    "\n",
    "Extracting the term $\\rho / E^{1/2}$ from $m^*$ tells us how to optimize over these variables, accounting for how we would have to size the oar's radius $r^*$ for those material properties. Maximizing the reciprocal $E^{1/2} / \\rho$ would minimize the mass, thus the materials index is\n",
    "\n",
    "$$I_{\\text{beam, max deflection}} = \\frac{E^{1/2}}{\\rho}$$\n"
   ]
  },
  {
   "cell_type": "markdown",
   "id": "western-times",
   "metadata": {},
   "source": [
    "### Reflection questions\n",
    "\n",
    "- What does the materials index $I_{\\text{beam, max deflection}}$ *represent*?\n",
    "- Does the beam length $L$ show up in the materials index? Why or why not?\n",
    "- Does the beam radius $r$ show up in the materials index? Why or why not?\n",
    "- What factors do show up?\n",
    "\n",
    "- How is $I_{\\text{beam, max deflection}}$ different from what you see on the homework?\n"
   ]
  },
  {
   "cell_type": "markdown",
   "id": "electric-column",
   "metadata": {},
   "source": [
    "### Comparison of different beam scenarios\n",
    "\n",
    "The materials index depends on the *scenario* we are modeling; if our free variable is different, the index changes:\n",
    "\n",
    "| Scenario | Variable | Index |\n",
    "|---|---|---|\n",
    "| Section area free | A (= pi r^2) | E^1/2 / rho |\n",
    "| Height free | H | E^1/3 / rho |\n",
    "| Width free | W | E^1 / rho |\n"
   ]
  },
  {
   "cell_type": "markdown",
   "id": "aerial-corrections",
   "metadata": {},
   "source": [
    "### Things I hope you take away\n",
    "\n",
    "- Optimization depends on your choice of variables\n",
    "  - Different scenario leads to very different results!\n",
    "- You can use optimization to model a decision process\n",
    "  - Optimization here models *sizing* of a component\n",
    "- You can nest optimization problems inside one another\n",
    "  - Find optimal sizing $r^*$, then find optimal material\n"
   ]
  },
  {
   "cell_type": "markdown",
   "id": "bacterial-shoulder",
   "metadata": {},
   "source": [
    "## Complete the material selection\n",
    "\n",
    "Let's use an [Ashby plot](https://en.wikipedia.org/wiki/Material_selection#Ashby_plots) to complete the material selection\n"
   ]
  },
  {
   "cell_type": "markdown",
   "id": "primary-window",
   "metadata": {},
   "source": [
    "![ashby plot](./images/ashby-fig6.2.png)\n"
   ]
  },
  {
   "cell_type": "markdown",
   "id": "decent-likelihood",
   "metadata": {},
   "source": [
    "Questions to think about:\n",
    "\n",
    "- What materials are \"top\" in terms of the beam stiffness index?\n",
    "- Are technical ceramics appropriate for oars?\n",
    "  - In terms of the beam stiffness index yes! But in terms of their toughness no (ceramics are too brittle)\n",
    "- Are metals appropriate for oars?\n",
    "  - Metals are suboptimal for oars; for the stiffness they provide they're too heavy (relative to wood and ceramics)\n"
   ]
  },
  {
   "cell_type": "markdown",
   "id": "floppy-replacement",
   "metadata": {},
   "source": [
    "\n",
    "Table 6.2: Material for oars (Ashby, 1994)\n",
    "\n",
    "| Material | Index | Comment |\n",
    "|---|---|---|\n",
    "| Woods | 3.4 -- 6.3 | Cheap, traditional, but with natural variability |\n",
    "| CFRP | 5.3 -- 7.9 | As good as wood, more control of properties |\n",
    "| Ceramics | 4.0 -- 8.9 | Good index but toughness low and cost high |\n",
    "\n",
    "Ceramics give us the highest index, but they are not tough enough. CFRP and woods are used to make oars!\n"
   ]
  },
  {
   "cell_type": "markdown",
   "id": "taken-carrier",
   "metadata": {},
   "source": [
    "## Coda\n",
    "\n",
    "- Ashby notes that, in addition to the materials index, there are other factors such as the *structural index*. One example of this (used in aircraft design) is the [wing weight index](http://aerodesign.stanford.edu/aircraftdesign/structures/componentweight.html).\n",
    "  - I cover the WWI in Appendix B of my [PhD thesis](https://purl.stanford.edu/xy114jv5352).\n",
    "  "
   ]
  }
 ],
 "metadata": {
  "kernelspec": {
   "display_name": "Python 3",
   "language": "python",
   "name": "python3"
  },
  "language_info": {
   "codemirror_mode": {
    "name": "ipython",
    "version": 3
   },
   "file_extension": ".py",
   "mimetype": "text/x-python",
   "name": "python",
   "nbconvert_exporter": "python",
   "pygments_lexer": "ipython3",
   "version": "3.8.5"
  }
 },
 "nbformat": 4,
 "nbformat_minor": 5
}
