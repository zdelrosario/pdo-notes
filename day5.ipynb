{
 "cells": [
  {
   "cell_type": "markdown",
   "metadata": {},
   "source": [
    "# Day 5: Nonlinear Least Squares (NLS)\n",
    "\n",
    "---\n",
    "\n",
    "- Example\n",
    "- Math formulation\n",
    "- Grama tools\n"
   ]
  },
  {
   "cell_type": "code",
   "execution_count": 1,
   "metadata": {},
   "outputs": [],
   "source": [
    "import grama as gr\n",
    "\n",
    "import numpy as np\n",
    "import scipy as sp\n",
    "import pandas as pd\n",
    "import matplotlib.pyplot as plt\n",
    "from plotnine import *\n",
    "DF = gr.Intention()\n",
    "\n",
    "# Set figure options\n",
    "plt.rcParams['figure.figsize'] = [8, 6]\n",
    "plt.rcParams['figure.dpi'] = 100 # 200 e.g. is really fine, but slower\n"
   ]
  },
  {
   "cell_type": "markdown",
   "metadata": {},
   "source": [
    "## Example: Fitting a trajectory\n",
    "\n",
    "---\n",
    "\n",
    "Let's look at some \"data\" of a penny falling from the Empire State Building.\n"
   ]
  },
  {
   "cell_type": "code",
   "execution_count": 2,
   "metadata": {},
   "outputs": [
    {
     "data": {
      "image/png": "[encoded data removed]",
      "text/plain": [
       "<Figure size 640x480 with 1 Axes>"
      ]
     },
     "metadata": {},
     "output_type": "display_data"
    },
    {
     "data": {
      "text/plain": [
       "<ggplot: (8739120065862)>"
      ]
     },
     "execution_count": 2,
     "metadata": {},
     "output_type": "execute_result"
    }
   ],
   "source": [
    "df_penny = pd.read_csv(\"./data/penny.csv\")\n",
    "\n",
    "(\n",
    "    df_penny\n",
    "    >> ggplot(aes(\"t\", \"y\"))\n",
    "    + geom_point()\n",
    "    + geom_hline(yintercept=0)\n",
    "    + labs(\n",
    "        x=\"Time (s)\",\n",
    "        y=\"Height (m)\"\n",
    "    )\n",
    ")\n"
   ]
  },
  {
   "cell_type": "markdown",
   "metadata": {},
   "source": [
    "### Model for projectile motion\n",
    "\n",
    "Assume [Stokes drag](https://en.wikipedia.org/wiki/Projectile_motion#Displacement):\n",
    "\n",
    "$$y(t) = y_0 - (g \\tau) t + \\tau (v_0 + g \\tau) (1 - \\exp(-t/\\tau))$$\n",
    "\n",
    "Implement as a Grama model:\n"
   ]
  },
  {
   "cell_type": "code",
   "execution_count": 3,
   "metadata": {},
   "outputs": [
    {
     "name": "stdout",
     "output_type": "stream",
     "text": [
      "model: Penny\n",
      "\n",
      "  inputs:\n",
      "    var_det:\n",
      "      t: (unbounded)\n",
      "      tau: [0, 100]\n",
      "    var_rand:\n",
      "    copula:\n",
      "        None\n",
      "  functions:\n",
      "    f0: ['t', 'tau'] -> ['y']\n"
     ]
    }
   ],
   "source": [
    "g = 9.8 # Acceleration due to gravity\n",
    "y0 = 380 # Height of empire state building\n",
    "v0 = 0   # Initial velocity\n",
    "\n",
    "md_penny = (\n",
    "    gr.Model(\"Penny\")\n",
    "    >> gr.cp_vec_function(\n",
    "        fun=lambda df: gr.df_make(\n",
    "            y=y0 - g * df.tau * df.t + df.tau * (v0 + g * df.tau) * (1 - np.exp(-df.t / df.tau))\n",
    "        ),\n",
    "        var=[\"t\", \"tau\"],\n",
    "        out=[\"y\"]\n",
    "    )\n",
    "    >> gr.cp_bounds(\n",
    "        tau=(0, 100), # Time constant unknown\n",
    "    )\n",
    ")\n",
    "\n",
    "md_penny.printpretty()\n"
   ]
  },
  {
   "cell_type": "markdown",
   "metadata": {},
   "source": [
    "We don't know the quantity `tau`, but we have data: Use NLS to fit `tau`.\n"
   ]
  },
  {
   "cell_type": "code",
   "execution_count": 4,
   "metadata": {},
   "outputs": [
    {
     "name": "stdout",
     "output_type": "stream",
     "text": [
      "... eval_nls setting out = ['y']\n",
      "... eval_nls setting var_fix = []\n",
      "... eval_nls setting var_feat = ['t']\n"
     ]
    },
    {
     "data": {
      "text/html": [
       "<div>\n",
       "<style scoped>\n",
       "    .dataframe tbody tr th:only-of-type {\n",
       "        vertical-align: middle;\n",
       "    }\n",
       "\n",
       "    .dataframe tbody tr th {\n",
       "        vertical-align: top;\n",
       "    }\n",
       "\n",
       "    .dataframe thead th {\n",
       "        text-align: right;\n",
       "    }\n",
       "</style>\n",
       "<table border=\"1\" class=\"dataframe\">\n",
       "  <thead>\n",
       "    <tr style=\"text-align: right;\">\n",
       "      <th></th>\n",
       "      <th>tau</th>\n",
       "    </tr>\n",
       "  </thead>\n",
       "  <tbody>\n",
       "    <tr>\n",
       "      <th>0</th>\n",
       "      <td>29.119542</td>\n",
       "    </tr>\n",
       "  </tbody>\n",
       "</table>\n",
       "</div>"
      ],
      "text/plain": [
       "         tau\n",
       "0  29.119542"
      ]
     },
     "execution_count": 4,
     "metadata": {},
     "output_type": "execute_result"
    }
   ],
   "source": [
    "df_tau = gr.eval_nls(\n",
    "    md_penny,\n",
    "    df_data=df_penny,\n",
    ")\n",
    "df_tau"
   ]
  },
  {
   "cell_type": "markdown",
   "metadata": {},
   "source": [
    "Use this fitted value to evaluate the model and make a prediction\n"
   ]
  },
  {
   "cell_type": "code",
   "execution_count": 9,
   "metadata": {},
   "outputs": [
    {
     "data": {
      "image/png": "[encoded data removed]",
      "text/plain": [
       "<Figure size 640x480 with 1 Axes>"
      ]
     },
     "metadata": {},
     "output_type": "display_data"
    },
    {
     "data": {
      "text/plain": [
       "<ggplot: (8739115212078)>"
      ]
     },
     "execution_count": 9,
     "metadata": {},
     "output_type": "execute_result"
    }
   ],
   "source": [
    "df_predict = (\n",
    "    md_penny\n",
    "    >> gr.ev_df(\n",
    "        df=gr.df_make(t=np.linspace(0, 10))\n",
    "        >> gr.tf_outer(df_tau)\n",
    "    )\n",
    ")\n",
    "\n",
    "(\n",
    "    df_penny\n",
    "    >> ggplot(aes(\"t\", \"y\"))\n",
    "    + geom_line(data=df_predict, color=\"salmon\")\n",
    "    + geom_point()\n",
    "    + geom_hline(yintercept=0)\n",
    "    + labs(\n",
    "        x=\"Time (s)\",\n",
    "        y=\"Height (m)\"\n",
    "    )\n",
    ")\n"
   ]
  },
  {
   "cell_type": "markdown",
   "metadata": {},
   "source": [
    "## Math Formulation\n",
    "\n",
    "---\n"
   ]
  },
  {
   "cell_type": "markdown",
   "metadata": {},
   "source": [
    "## Grama Routines\n",
    "\n",
    "---\n"
   ]
  },
  {
   "cell_type": "markdown",
   "metadata": {},
   "source": [
    "## Coda: Ground-truth penny data\n",
    "\n",
    "---\n"
   ]
  },
  {
   "cell_type": "code",
   "execution_count": null,
   "metadata": {},
   "outputs": [],
   "source": [
    "g = 9.8 # Acceleration due to gravity, m/s^2\n",
    "\n",
    "# Penny properties\n",
    "Cd = 0.5    # Drag coefficient\n",
    "rho = 1.205 # Density of air at STP, kg / m^3\n",
    "A = 2.85e-4 # Cross-sectional area\n",
    "m = 2.5e-3 # Mass of penny\n",
    "\n",
    "# Stokes constant mu = 1 / tau\n",
    "tau = (2 * m) / (Cd * rho * A)\n",
    "print(\"tau_true = {}\".format(tau))\n",
    "\n",
    "# Trajectory with stokes drag\n",
    "md_penny_true = (\n",
    "    gr.Model(\"Penny: Ground-truth\")\n",
    "    >> gr.cp_vec_function(\n",
    "        fun=lambda df: gr.df_make(\n",
    "            y=df.y0 - g * tau * df.t + tau * (df.v0 + g * tau) * (1 - np.exp(-df.t / tau))\n",
    "        ),\n",
    "        var=[\"t\", \"v0\", \"y0\"],\n",
    "        out=[\"y\"]\n",
    "    )\n",
    ")\n",
    "\n",
    "# Generate some data\n",
    "df_penny_true = (\n",
    "    md_penny_true\n",
    "    >> gr.ev_df(df=gr.df_make(v0=0, y0=380, t=np.linspace(0, 10, num=50)))\n",
    "    >> gr.tf_filter(DF.y > 0)\n",
    ")\n",
    "\n",
    "# Save the first half of the data\n",
    "df_penny_meas = df_penny_true.iloc[:20][[\"t\", \"y\"]]\n",
    "df_penny_meas.to_csv(\"./data/penny.csv\", index=False)\n",
    "\n",
    "# Visualize to check\n",
    "(\n",
    "    df_penny_measured\n",
    "    >> ggplot(aes(\"t\", \"y\"))\n",
    "    + geom_point()\n",
    "    + geom_point(\n",
    "        data=df_penny_meas,\n",
    "        color=\"salmon\"\n",
    "    )\n",
    ")"
   ]
  }
 ],
 "metadata": {
  "kernelspec": {
   "display_name": "Python 3",
   "language": "python",
   "name": "python3"
  },
  "language_info": {
   "codemirror_mode": {
    "name": "ipython",
    "version": 3
   },
   "file_extension": ".py",
   "mimetype": "text/x-python",
   "name": "python",
   "nbconvert_exporter": "python",
   "pygments_lexer": "ipython3",
   "version": "3.8.5"
  }
 },
 "nbformat": 4,
 "nbformat_minor": 4
}
