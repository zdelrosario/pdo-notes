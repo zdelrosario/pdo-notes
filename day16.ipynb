{
 "cells": [
  {
   "cell_type": "markdown",
   "id": "reported-power",
   "metadata": {},
   "source": [
    "# Day 16: Decisions Under Uncertainty, Continued\n",
    "\n",
    "---\n",
    "\n",
    "- Broad decision strategies *under uncertainty*\n",
    "  - Robust design (reduce variability)\n",
    "  - Reliable design (control failure rates)\n",
    "  - Nothing stopping you from combining the two!\n",
    "- Decision examples\n"
   ]
  },
  {
   "cell_type": "code",
   "execution_count": 3,
   "id": "ambient-polish",
   "metadata": {},
   "outputs": [],
   "source": [
    "import pandas as pd \n",
    "import grama as gr \n",
    "import numpy as np\n",
    "\n",
    "from scipy.stats import lognorm\n",
    "from plotnine import *\n",
    "\n",
    "DF = gr.Intention()\n"
   ]
  },
  {
   "cell_type": "markdown",
   "id": "affiliated-ballet",
   "metadata": {},
   "source": [
    "## DUU Strategies\n",
    "\n",
    "---\n",
    "\n",
    "DUU = decision under uncertainty\n"
   ]
  },
  {
   "cell_type": "markdown",
   "id": "productive-certificate",
   "metadata": {},
   "source": [
    "## Decision Examples\n",
    "\n",
    "---\n"
   ]
  },
  {
   "cell_type": "markdown",
   "id": "visible-garlic",
   "metadata": {},
   "source": [
    "### 1. Reliable beam\n"
   ]
  },
  {
   "cell_type": "code",
   "execution_count": 2,
   "id": "retained-fifteen",
   "metadata": {},
   "outputs": [
    {
     "name": "stdout",
     "output_type": "stream",
     "text": [
      "model: Cantilever Beam\n",
      "\n",
      "  inputs:\n",
      "    var_det:\n",
      "      t: [2, 4]\n",
      "      w: [2, 4]\n",
      "\n",
      "    var_rand:\n",
      "      H: (+1) norm, {'loc': 500.0, 'scale': 100.0}\n",
      "      V: (+1) norm, {'loc': 1000.0, 'scale': 100.0}\n",
      "      E: (+0) norm, {'loc': 29000000.0, 'scale': 1450000.0}\n",
      "      Y: (-1) norm, {'loc': 40000.0, 'scale': 2000.0}\n",
      "\n",
      "    copula:\n",
      "      Independence copula\n",
      "\n",
      "  functions:\n",
      "      cross-sectional area: ['w', 't'] -> ['c_area']\n",
      "      limit state: stress: ['w', 't', 'H', 'V', 'E', 'Y'] -> ['g_stress']\n",
      "      limit state: displacement: ['w', 't', 'H', 'V', 'E', 'Y'] -> ['g_disp']\n",
      "\n"
     ]
    }
   ],
   "source": [
    "from grama.models import make_cantilever_beam\n",
    "md_beam = make_cantilever_beam()\n",
    "md_beam.printpretty()"
   ]
  },
  {
   "cell_type": "markdown",
   "id": "moving-scanning",
   "metadata": {},
   "source": [
    "Scenario:\n",
    "\n",
    "We have a proposed design $w = 3, t = 3$, a desired failure rate $\\mathbb{P}[Failure] \\leq 0.01$, and the following quantitative assessment:\n"
   ]
  },
  {
   "cell_type": "code",
   "execution_count": 14,
   "id": "invalid-digest",
   "metadata": {
    "jupyter": {
     "source_hidden": true
    }
   },
   "outputs": [
    {
     "data": {
      "image/png": "[encoded data removed]",
      "text/plain": [
       "<Figure size 640x480 with 1 Axes>"
      ]
     },
     "metadata": {
      "needs_background": "light"
     },
     "output_type": "display_data"
    },
    {
     "data": {
      "text/plain": [
       "<ggplot: (8744009001226)>"
      ]
     },
     "execution_count": 14,
     "metadata": {},
     "output_type": "execute_result"
    }
   ],
   "source": [
    "df_design = gr.df_make(w=3.0, t=3.0)\n",
    "\n",
    "(\n",
    "    md_beam\n",
    "    >> gr.ev_monte_carlo(\n",
    "        df_det=df_design,\n",
    "        n=75,\n",
    "        seed=101,\n",
    "    )\n",
    "    >> gr.tf_summarize(\n",
    "        pof_stress_lo=gr.binomial_ci(DF.g_stress <= 0, side=\"lo\"),\n",
    "        pof_stress_mu=gr.mean(DF.g_stress <= 0),\n",
    "        pof_stress_up=gr.binomial_ci(DF.g_stress <= 0, side=\"up\"),\n",
    "    )\n",
    "    \n",
    "    >> ggplot(aes(x=0))\n",
    "    + geom_hline(yintercept=1e-2, color=\"salmon\", linetype=\"dashed\")\n",
    "    + geom_errorbar(aes(ymin=\"pof_stress_lo\", ymax=\"pof_stress_up\"))\n",
    "    + geom_point(aes(y=\"pof_stress_mu\"), size=4)\n",
    "    \n",
    "    + scale_x_continuous(breaks=())\n",
    "    + scale_y_log10()\n",
    "    + theme_minimal()\n",
    "    + labs(\n",
    "        x=\"\",\n",
    "        y=\"Probability of Failure (Stress)\"\n",
    "    )\n",
    ")"
   ]
  },
  {
   "cell_type": "markdown",
   "id": "artistic-language",
   "metadata": {},
   "source": [
    "*Questions*:\n",
    "- What sources of uncertainty do you have?\n",
    "  - Are they aleatory or epistemic? \n",
    "- Does this design meet the requirements?\n",
    "- Which source of uncertainty is *blocking* your progress?\n",
    "- What does this suggest about your next move?\n",
    "  \n",
    "<br>\n",
    "<br>\n",
    "<br>\n",
    "\n",
    "- What sources of uncertainty do you have?\n",
    "  - Inherent variability: aleatory\n",
    "  - Limitations of monte carlo sample size: epistemic\n",
    "  - Limitations of material model: epistemic\n",
    "- Does this design meet the requirements?\n",
    "  - Unknown; The CI suggests the true failure rate could meet or violate the constraint\n",
    "- Which source of uncertainty is *blocking* your progress?\n",
    "  - The uncertainty due to monte carlo sample size is blocking our progress\n",
    "- What does this suggest about your next move?\n",
    "  - The limitations of our monte carlo prevent us from concluding whether the design meets our requirements; a simple first-step would be to increase the sample size $n$. This move is suggested because \n"
   ]
  },
  {
   "cell_type": "markdown",
   "id": "ongoing-clinic",
   "metadata": {},
   "source": [
    "### 2. Competing products\n",
    "\n",
    "Suppose we're in the business of manufacturing widgets, and we want to produce the highest-performing widgets in large quantities. The widgets have a few manufacturing tolerances, which together give rise to variability in the widget performance. We're comparing a proposed new design against a competitor's design.\n"
   ]
  },
  {
   "cell_type": "code",
   "execution_count": 27,
   "id": "olive-discretion",
   "metadata": {
    "jupyter": {
     "source_hidden": true
    }
   },
   "outputs": [
    {
     "name": "stdout",
     "output_type": "stream",
     "text": [
      "eval_monte_carlo() is rounding n...\n"
     ]
    },
    {
     "data": {
      "image/png": "[encoded data removed]",
      "text/plain": [
       "<Figure size 640x480 with 1 Axes>"
      ]
     },
     "metadata": {
      "needs_background": "light"
     },
     "output_type": "display_data"
    },
    {
     "data": {
      "text/plain": [
       "<ggplot: (8744009686917)>"
      ]
     },
     "execution_count": 27,
     "metadata": {},
     "output_type": "execute_result"
    }
   ],
   "source": [
    "(\n",
    "    gr.Model(\"Manufactured part\")\n",
    "    >> gr.cp_vec_function(\n",
    "        fun=lambda df: gr.df_make(f=df.a + df.b - df.c + 5),\n",
    "        var=[\"a\", \"b\", \"c\"],\n",
    "        out=[\"f\"],\n",
    "    )\n",
    "    >> gr.cp_marginals(\n",
    "        a=dict(dist=\"uniform\", loc=-0.5, scale=+1.0),\n",
    "        b=dict(dist=\"uniform\", loc=-0.5, scale=+1.0),\n",
    "        c=dict(dist=\"uniform\", loc=-0.5, scale=+1.0),\n",
    "    )\n",
    "    >> gr.cp_copula_independence()\n",
    "    \n",
    "    >> gr.ev_monte_carlo(n=1e2, df_det=\"nom\", seed=101)\n",
    "    >> gr.tf_mutate(source=\"Proposed\")\n",
    "    \n",
    "    >> ggplot(aes(\"f\", color=\"source\"))\n",
    "    + geom_density()\n",
    "    + geom_vline(\n",
    "        data=gr.df_make(f=5.5, source=\"Competition\"),\n",
    "        mapping=aes(xintercept=\"f\", color=\"source\"),\n",
    "        size=2,\n",
    "    )\n",
    "    \n",
    "    + scale_color_discrete(name=\" \")\n",
    "    + coord_cartesian(xlim=(0, 7))\n",
    "    + theme_minimal()\n",
    "    + labs(\n",
    "        x=\"Performance\",\n",
    "        y=\"Density (-)\"\n",
    "    )\n",
    ")"
   ]
  },
  {
   "cell_type": "markdown",
   "id": "artificial-morrison",
   "metadata": {},
   "source": [
    "*Questions*:\n",
    "- What sources of uncertainty do you have?\n",
    "  - Are they aleatory or epistemic? \n",
    "- Does this design meet the requirements?\n",
    "- Which source of uncertainty is *blocking* your progress?\n",
    "- What does this suggest about your next move?\n",
    "  \n",
    "<br>\n",
    "<br>\n",
    "<br>\n",
    "\n",
    "- What sources of uncertainty do you have?\n",
    "  - Inherent variability of widget dimensions within-tolerances: aleatory\n",
    "  - Variability of competing design: epistemic\n"
   ]
  }
 ],
 "metadata": {
  "kernelspec": {
   "display_name": "Python 3",
   "language": "python",
   "name": "python3"
  },
  "language_info": {
   "codemirror_mode": {
    "name": "ipython",
    "version": 3
   },
   "file_extension": ".py",
   "mimetype": "text/x-python",
   "name": "python",
   "nbconvert_exporter": "python",
   "pygments_lexer": "ipython3",
   "version": "3.8.5"
  }
 },
 "nbformat": 4,
 "nbformat_minor": 5
}
