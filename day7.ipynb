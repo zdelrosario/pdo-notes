{
 "cells": [
  {
   "cell_type": "markdown",
   "metadata": {},
   "source": [
    "# Day 7: Constrained Optimization, Continued\n",
    "\n",
    "---\n",
    "\n",
    "- Reminder on Lagrange multipliers\n",
    "- Additional complexity\n",
    "  - Inequality constraints can be active or inactive\n",
    "- KKT conditions\n",
    "- Worked example: Power allocation "
   ]
  },
  {
   "cell_type": "code",
   "execution_count": 2,
   "metadata": {},
   "outputs": [],
   "source": [
    "import grama as gr\n",
    "import numpy as np\n",
    "import matplotlib.pyplot as plt\n",
    "import matplotlib.patches as mpatches\n",
    "\n",
    "from plotnine import *\n",
    "DF = gr.Intention()\n",
    "\n",
    "# Set figure options\n",
    "plt.rcParams['figure.figsize'] = [6, 6] # Need square aspect ratio for gradients to appear normal\n",
    "plt.rcParams['figure.dpi'] = 100 # 200 e.g. is really fine, but slower\n"
   ]
  },
  {
   "cell_type": "markdown",
   "metadata": {},
   "source": [
    "## Reminder\n",
    "\n",
    "---\n",
    "\n",
    "We used Lagrange multipliers to solve constrained optimization problems. These multipliers allowed us to align the gradient of the objective with the gradient of a constraint."
   ]
  },
  {
   "cell_type": "markdown",
   "metadata": {},
   "source": [
    "![](./images/d7-active.png)\n"
   ]
  },
  {
   "cell_type": "markdown",
   "metadata": {},
   "source": [
    "![](./images/d7-inactive.png)\n",
    "\n",
    "Note that the gradient of the constraint doesn't have to be aligned if that constraint isn't active!\n"
   ]
  },
  {
   "cell_type": "markdown",
   "metadata": {},
   "source": [
    "However, inequality constraints are more complicated. An inequality constraint can be either active or inactive. If it's inactive, the gradient of that constraint should not affect optimality. But if the constraint *is* active, then it will factor into the stationarity condition. This complexity is captured in the KKT Conditions for optimality."
   ]
  },
  {
   "cell_type": "markdown",
   "metadata": {},
   "source": [
    "## KKT Conditions\n",
    "\n",
    "---\n",
    "\n",
    "The [Karush-Kuhn-Tucker](https://en.wikipedia.org/wiki/Karush%E2%80%93Kuhn%E2%80%93Tucker_conditions) (KKT) conditions are *necessary* conditions for constrained optimality, in the case where we have a mix of equality and inequality constraints. Given an optimization problem in standard form:\n",
    "\n",
    "$$\\min\\, f(x)$$\n",
    "$$\\text{wrt.}\\, x$$\n",
    "$$\\text{s.t.}\\, h_i(x) = 0$$\n",
    "$$\\text{s.t.}\\, g_j(x) \\leq 0$$\n",
    "\n",
    "The four conditions are:\n",
    "1. Stationarity\n",
    "2. Primal feasibility\n",
    "3. Dual feasibility\n",
    "4. Complementary slackness\n",
    "\n",
    "The KKT conditions are defined with respect to the Lagrangian:\n",
    "\n",
    "$$L = f(x) + \\sum_{i=1}^n \\lambda_i h_i(x) + \\sum_{j=1}^m \\mu_j g_j(x).$$\n",
    "\n",
    "Our task is to find values for the *primal variables* $x^*$ and *dual variables* $\\lambda^*, \\mu^*$ that satisfy the KKT conditions.\n"
   ]
  },
  {
   "cell_type": "markdown",
   "metadata": {},
   "source": [
    "In detail:\n",
    "\n",
    "### 1. Stationarity (of the Lagrangian)\n",
    "\n",
    "\n",
    "Stationary means\n",
    "\n",
    "$$0 = \\left.\\nabla_x L\\right|_{x^*} = \\nabla_x f(x^*) + \\sum_{i=1}^n \\lambda_i \\nabla_x h_i(x^*) + \\sum_{j=1}^m \\mu_j \\nabla_x g_j(x^*)$$\n",
    "\n",
    "### 2. Primal feasibility\n",
    "\n",
    "Satisfies the original constraints\n",
    "\n",
    "$$h_i(x^*) = 0$$\n",
    "$$g_j(x^*) \\leq 0$$\n",
    "\n",
    "### 3. Dual feasibility\n",
    "\n",
    "Dual variables satisfy\n",
    "\n",
    "$$\\mu_j^* \\geq 0$$\n",
    "\n",
    "Remember that the $\\mu_j$ are paired with **inequality** constraints; the sign matters! This is what dual feasibility represents.\n",
    "\n",
    "### 4. Complementary slackness\n",
    "\n",
    "For each inequality constraint $g_j$, either \n",
    "\n",
    "- the constraint is inactive $\\mu_j^* = 0$ \n",
    "  - corresponding gradient does not contribute to stationarity\n",
    "- the constraint is active $g_j(x^*) = 0$ \n",
    "  - then $\\mu_j$ acts as a Lagrange multiplier\n",
    "  \n",
    "Can express this compactly as\n",
    "\n",
    "$$\\mu_j^* g_j(x^*) = 0$$"
   ]
  },
  {
   "cell_type": "markdown",
   "metadata": {},
   "source": [
    "### Tip: Get organized!\n",
    "\n",
    "Write down the slackness scenarios and run through them systematically:\n",
    "\n",
    "| Scenario | j = 1 | j = 2 | ... | j = m |\n",
    "| ---|---|---|---|---|\n",
    "| 1 | $\\mu_1^* = 0$ | $\\mu_2 = 0$ | ... | $\\mu_m = 0$ |\n",
    "| 2 | $g_1(x^*) = 0$ | $\\mu_2 = 0$ | ... | $\\mu_m = 0$ |\n",
    "| 3 | $\\mu_1^* = 0$ | $g_2(x^*) = 0$ | ... | $\\mu_m = 0$ |\n",
    "| 4 | $g_1(x^*) = 0$ | $g_2(x^*) = 0$ | ... | $\\mu_m = 0$ |\n",
    "| 5 | (and so on) | ... | ... | ... |\n"
   ]
  },
  {
   "cell_type": "markdown",
   "metadata": {},
   "source": [
    "## Example: Power allocation in multi-channel system\n",
    "\n",
    "The transmission rate of a channel is $T_i = \\log_2(1 + p_i / \\sigma_i)$ where $p_i$ is power allocated to the channel, and $\\sigma_i$ is noise of the channel. (We're just going to have to accept this fundamental result from digital communication to move on!) The primary thing to notice about this transmission rate $T_i$ is that it exhibits *diminishing returns* on further addition of power $p_i$. This means that even poorly-performing channels (those with high $\\sigma_i$) may be useful if we've already put a lot of power into our best channels.\n",
    "\n",
    "Total transmission rate is the sum of these $T_i$. With a total power budget $P$ our goal is to maximize transmission rate. Mathematically, we have:\n",
    "\n",
    "$$\\max\\, T = \\sum_{i=1}^n \\log(1 + p_i / \\sigma_i)$$\n",
    "$$\\text{wrt.}\\, p_i$$\n",
    "$$\\text{s.t.}\\, \\sum_{i=1}^n p_i \\leq P$$\n",
    "$$\\text{s.t.}\\, p_i \\geq 0$$\n",
    "\n",
    "Note that we have to specify that $p_i \\geq 0$, otherwise the optimization problem will try to \"cheat\" and apply negative power on some channels to give itself a boost!"
   ]
  },
  {
   "cell_type": "markdown",
   "metadata": {},
   "source": [
    "### Analyzing the power allocation problem\n",
    "\n",
    "First, translate into standard form\n",
    "\n",
    "$$\\min\\, -\\sum_{i=1}^n \\log(1 + p_i / \\sigma_i)$$\n",
    "$$\\text{wrt.}\\, p_i$$\n",
    "$$\\text{s.t.}\\, \\sum_{i=1}^n p_i - P \\leq 0$$\n",
    "$$\\text{s.t.}\\, -p_i \\leq 0$$"
   ]
  },
  {
   "cell_type": "markdown",
   "metadata": {},
   "source": [
    "Next, write down the Lagrangian\n",
    "\n",
    "$$L = - \\sum_i \\log(1 + p_i / \\sigma_i) + \\mu_0 \\left(\\sum_i p_i - P\\right) + \\sum_i \\mu_i (-p_i)$$\n"
   ]
  },
  {
   "cell_type": "markdown",
   "metadata": {},
   "source": [
    "Then, apply the KKT conditions\n",
    "\n",
    "**1. Stationarity**\n",
    "\n",
    "$$0 = \\partial_{p_i} L = \\frac{\\sigma_i}{p_i + \\sigma_i} - \\mu_0 + \\mu_i$$\n",
    "\n",
    "This yields\n",
    "\n",
    "$$p_i = \\frac{1}{\\mu_0 - \\mu_i} - \\sigma_i$$\n",
    "\n",
    "**2. Primal feasibility**\n",
    "\n",
    "$$\\sum_i p_i \\leq P$$\n",
    "\n",
    "$$p_i \\geq 0$$\n",
    "\n",
    "**3. Dual feasibility**\n",
    "\n",
    "$$\\mu_0 \\geq 0$$\n",
    "\n",
    "$$\\mu_i \\geq 0$$\n",
    "\n",
    "**4. Complementary slackness**\n",
    "\n",
    "We can list these in terms of *scenarios*; remember that either $\\mu_i = 0$ (the constraint is slack) OR $g_i = 0$ (the constraint is active).\n",
    "\n",
    "| Primal zero | Dual zero |\n",
    "|---|---|\n",
    "| $\\sum_i p_i = P$ | $\\mu_0 = 0$ |\n",
    "| $p_i = 0$ | $\\mu_i = 0$ |\n",
    "\n",
    "Now we need to systematically check the primarl / dual scenarios.\n"
   ]
  },
  {
   "cell_type": "markdown",
   "metadata": {},
   "source": [
    "### 4: Constraint 0\n",
    "\n",
    "Suppose $\\mu_0 = 0$, then:\n",
    "\n",
    "$$p_i = \\frac{1}{0 - \\mu_i} - \\sigma_i$$\n",
    "\n",
    "Note that $\\mu_i \\geq 0$, which implies that $p_i < 0$. This violates the constraint $p_i \\geq 0$, therefore $\\mu_0 = 0$ leads to a contradiction.\n",
    "\n",
    "**Therefore**, we conclude $\\sum_i p_i = P$. Thinking about this logically, this means we're going to allocate all of the power available, which is an intuitively sensible thing!\n"
   ]
  },
  {
   "cell_type": "markdown",
   "metadata": {},
   "source": [
    "### 4: Constraint i\n",
    "\n",
    "Suppose $p_i = 0$, then:\n",
    "\n",
    "$$0 = \\frac{1}{\\mu_0 - \\mu_i} - \\sigma_i$$\n",
    "\n",
    "This leads to\n",
    "\n",
    "$$\\mu_i = \\mu_0 - 1 / \\sigma_i$$\n",
    "\n",
    "This is not *necessarily* a contradiction. However if $\\sigma_i$ is very small then this implies $\\mu_i < 0$, a contradiction. Note that this implies that 1. If $\\sigma_i$ is small, then $p_i$ is unlikely to be zero (we'll put nonzero power into its channel), and 2. If $\\sigma_i$ is large, there exists the possibility that we will put zero power into channel $i$.\n"
   ]
  },
  {
   "cell_type": "markdown",
   "metadata": {},
   "source": [
    "If we want to solve this analytically, we're going to need to introduce an additional assumption:\n",
    "\n",
    "Suppose the $\\sigma_i > 0$ are sufficiently small such that all the $p_i > 0$. In this case we have\n",
    "\n",
    "$$P = \\sum_i p_i = \\frac{1}{\\mu_0 - 0} - \\sigma_i = \\frac{n}{\\mu_0} - \\sum_i \\sigma_i$$\n",
    "\n",
    "which gives us\n",
    "\n",
    "$$\\mu_0 = \\frac{n}{P + \\sum_i \\sigma_i}$$\n",
    "\n",
    "which we can plug back into the $p_i$ to obtain\n",
    "\n",
    "$$p_i = \\frac{1}{n} P + \\frac{1}{n}\\sum_i \\sigma_i - \\sigma_i$$\n",
    "\n",
    "This shows that we are allocating an average amount of power to each channel, but decrementing the power if there's much noise on that particular channel.\n"
   ]
  },
  {
   "cell_type": "markdown",
   "metadata": {},
   "source": [
    "### Water filling principle\n",
    "\n",
    "Note that if we take each power level $p_i$ and add to it the channel noise $\\sigma_i$, the total is *constant* across each channel\n",
    "\n",
    "$$p_i + \\sigma_i = (P + \\sum_{i} \\sigma_i) / n$$\n",
    "\n",
    "This observation is called the [water filling principle](https://en.wikipedia.org/wiki/Water_filling_algorithm) (or water filling algorithm). The \"mental model\" is that power is represented as water that we're filling into a lake where the bottom of the lake is uneven. Some parts will be deeper than others, but the top of the water is flat. A higher noise represents a shallower point---a point where we put in less water. It's a pretty cool analogy, but not worth stressing over if you're not a communications person.\n"
   ]
  },
  {
   "cell_type": "markdown",
   "metadata": {},
   "source": [
    "### Computational approach\n",
    "\n",
    "What happens if we have a particularly noisy channel? Our assumption above that $\\mu_i = 0$ doesn't hold for the noisier channel. Let's take a computational approach to find out what happens:\n"
   ]
  },
  {
   "cell_type": "code",
   "execution_count": 54,
   "metadata": {},
   "outputs": [
    {
     "name": "stdout",
     "output_type": "stream",
     "text": [
      "model: None\n",
      "\n",
      "  inputs:\n",
      "    var_det:\n",
      "      p4: [0, 100.0]\n",
      "      p3: [0, 100.0]\n",
      "      p1: [0, 100.0]\n",
      "      p2: [0, 100.0]\n",
      "    var_rand:\n",
      "    copula:\n",
      "        None\n",
      "  functions:\n",
      "    f0: ['p1', 'p2', 'p3', 'p4'] -> ['negrate', 'out_p']\n",
      "\n",
      "Optimization results:\n"
     ]
    },
    {
     "data": {
      "text/html": [
       "<div>\n",
       "<style scoped>\n",
       "    .dataframe tbody tr th:only-of-type {\n",
       "        vertical-align: middle;\n",
       "    }\n",
       "\n",
       "    .dataframe tbody tr th {\n",
       "        vertical-align: top;\n",
       "    }\n",
       "\n",
       "    .dataframe thead th {\n",
       "        text-align: right;\n",
       "    }\n",
       "</style>\n",
       "<table border=\"1\" class=\"dataframe\">\n",
       "  <thead>\n",
       "    <tr style=\"text-align: right;\">\n",
       "      <th></th>\n",
       "      <th>p3</th>\n",
       "      <th>p2</th>\n",
       "      <th>p4</th>\n",
       "      <th>p1</th>\n",
       "      <th>p3_0</th>\n",
       "      <th>p2_0</th>\n",
       "      <th>p4_0</th>\n",
       "      <th>p1_0</th>\n",
       "      <th>negrate</th>\n",
       "      <th>out_p</th>\n",
       "      <th>success</th>\n",
       "      <th>message</th>\n",
       "      <th>n_iter</th>\n",
       "    </tr>\n",
       "  </thead>\n",
       "  <tbody>\n",
       "    <tr>\n",
       "      <td>0</td>\n",
       "      <td>0.0</td>\n",
       "      <td>3.099732</td>\n",
       "      <td>3.399169</td>\n",
       "      <td>3.501099</td>\n",
       "      <td>50.0</td>\n",
       "      <td>50.0</td>\n",
       "      <td>50.0</td>\n",
       "      <td>50.0</td>\n",
       "      <td>-8.447972</td>\n",
       "      <td>1.776357e-15</td>\n",
       "      <td>True</td>\n",
       "      <td>Optimization terminated successfully.</td>\n",
       "      <td>8</td>\n",
       "    </tr>\n",
       "  </tbody>\n",
       "</table>\n",
       "</div>"
      ],
      "text/plain": [
       "    p3        p2        p4        p1  p3_0  p2_0  p4_0  p1_0   negrate  \\\n",
       "0  0.0  3.099732  3.399169  3.501099  50.0  50.0  50.0  50.0 -8.447972   \n",
       "\n",
       "          out_p  success                                message  n_iter  \n",
       "0  1.776357e-15     True  Optimization terminated successfully.       8  "
      ]
     },
     "execution_count": 54,
     "metadata": {},
     "output_type": "execute_result"
    }
   ],
   "source": [
    "s1 = 0.1 # Clean channel\n",
    "s2 = 0.5 # A bit noisier\n",
    "s3 = 6.0 # Very noisy channel\n",
    "s4 = 0.2 # Fairly clean\n",
    "\n",
    "Pmax = 10 # Total power budget\n",
    "\n",
    "# Create the model\n",
    "md_channel = (\n",
    "    gr.Model()\n",
    "    >> gr.cp_vec_function(\n",
    "        fun=lambda df: gr.df_make(\n",
    "            negrate=-gr.log(1 + df.p1 / s1)\n",
    "                   -gr.log(1 + df.p2 / s2)\n",
    "                   -gr.log(1 + df.p3 / s3)\n",
    "                   -gr.log(1 + df.p4 / s4),\n",
    "            out_p=Pmax - df.p1 - df.p2 - df.p3 - df.p4,\n",
    "        ),\n",
    "        var=[\"p1\", \"p2\", \"p3\", \"p4\"],\n",
    "        out=[\"negrate\", \"out_p\"],\n",
    "    )\n",
    "    >> gr.cp_bounds(\n",
    "        p1=(0, 1e2),\n",
    "        p2=(0, 1e2),\n",
    "        p3=(0, 1e2),\n",
    "        p4=(0, 1e2),\n",
    "    )\n",
    ")\n",
    "\n",
    "# Print the model details\n",
    "md_channel.printpretty()\n",
    "\n",
    "# Run the optimization\n",
    "df_res = (\n",
    "    md_channel\n",
    "    >> gr.ev_min(\n",
    "        out_min=\"negrate\",\n",
    "        out_geq=[\"out_p\"],\n",
    "    )\n",
    "    >> gr.tf_arrange(DF.negrate)\n",
    ")\n",
    "\n",
    "# Print the results\n",
    "print(\"\\nOptimization results:\")\n",
    "df_res"
   ]
  },
  {
   "cell_type": "markdown",
   "metadata": {},
   "source": [
    "Visualize the results; this is a visual indication of the [water filling principle](https://en.wikipedia.org/wiki/Water_filling_algorithm) in communication theory.\n"
   ]
  },
  {
   "cell_type": "code",
   "execution_count": 56,
   "metadata": {},
   "outputs": [
    {
     "data": {
      "image/png": "[encoded data removed]",
      "text/plain": [
       "<Figure size 640x480 with 1 Axes>"
      ]
     },
     "metadata": {},
     "output_type": "display_data"
    },
    {
     "data": {
      "text/plain": [
       "<ggplot: (8778905017245)>"
      ]
     },
     "execution_count": 56,
     "metadata": {},
     "output_type": "execute_result"
    }
   ],
   "source": [
    "(\n",
    "    df_res\n",
    "    >> gr.tf_row_slice(0)\n",
    "    >> gr.tf_mutate(\n",
    "        t1=DF.p1 + s1,\n",
    "        t2=DF.p2 + s2,\n",
    "        t3=DF.p3 + s3,\n",
    "        t4=DF.p4 + s4,\n",
    "    )\n",
    "    >> gr.tf_select(\"t1\", \"t2\", \"t3\", \"t4\", \"p1\", \"p2\", \"p3\", \"p4\")\n",
    "    >> gr.tf_gather(\"key\", \"value\", [\"t1\", \"t2\", \"t3\", \"t4\", \"p1\", \"p2\", \"p3\", \"p4\"])\n",
    "    >> gr.tf_mutate(\n",
    "        idx=gr.str_extract(DF.key, \"\\d\"),\n",
    "        typ=gr.str_extract(DF.key, \"\\w\"),\n",
    "    )\n",
    "    >> gr.tf_mutate(typ=gr.str_replace(DF.typ, \"t\", \"Noise\"))\n",
    "    >> gr.tf_mutate(typ=gr.str_replace(DF.typ, \"p\", \"Power\"))\n",
    "    \n",
    "    >> ggplot(aes(\"idx\", \"value\"))\n",
    "    + geom_col(aes(fill=\"typ\"), position=\"identity\")\n",
    "    + labs(\n",
    "        x=\"Channel\",\n",
    "        y=\"Value\",\n",
    "    )\n",
    ")"
   ]
  },
  {
   "cell_type": "markdown",
   "metadata": {},
   "source": [
    "Using the water filling analogy, this looks kind of like a rock sticking out our lake; there's no value in filling in that part of the lake, as the channel is just too noisy to pay off.\n"
   ]
  }
 ],
 "metadata": {
  "kernelspec": {
   "display_name": "Python 3",
   "language": "python",
   "name": "python3"
  },
  "language_info": {
   "codemirror_mode": {
    "name": "ipython",
    "version": 3
   },
   "file_extension": ".py",
   "mimetype": "text/x-python",
   "name": "python",
   "nbconvert_exporter": "python",
   "pygments_lexer": "ipython3",
   "version": "3.8.5"
  }
 },
 "nbformat": 4,
 "nbformat_minor": 4
}
